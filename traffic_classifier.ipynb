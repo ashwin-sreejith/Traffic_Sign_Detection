{
 "cells": [
  {
   "cell_type": "code",
   "execution_count": 1,
   "metadata": {},
   "outputs": [
    {
     "name": "stderr",
     "output_type": "stream",
     "text": [
      "2024-05-17 13:44:23.973705: I tensorflow/core/util/port.cc:113] oneDNN custom operations are on. You may see slightly different numerical results due to floating-point round-off errors from different computation orders. To turn them off, set the environment variable `TF_ENABLE_ONEDNN_OPTS=0`.\n",
      "2024-05-17 13:44:24.363091: I tensorflow/core/platform/cpu_feature_guard.cc:210] This TensorFlow binary is optimized to use available CPU instructions in performance-critical operations.\n",
      "To enable the following instructions: AVX2 AVX_VNNI FMA, in other operations, rebuild TensorFlow with the appropriate compiler flags.\n",
      "2024-05-17 13:44:27.702455: W tensorflow/compiler/tf2tensorrt/utils/py_utils.cc:38] TF-TRT Warning: Could not find TensorRT\n"
     ]
    }
   ],
   "source": [
    "import splitfolders\n",
    "import shutil\n",
    "import os\n",
    "from PIL import Image\n",
    "import glob\n",
    "import pandas as pd\n",
    "import numpy as np\n",
    "import seaborn as sns\n",
    "import matplotlib.pyplot as plt\n",
    "from sklearn.preprocessing import LabelEncoder\n",
    "from tensorflow.keras.preprocessing.image import ImageDataGenerator, img_to_array\n",
    "import tensorflow as tf\n",
    "from sklearn.utils.class_weight import compute_class_weight\n",
    "import keras_tuner as kt\n",
    "import tensorflow_hub as hub"
   ]
  },
  {
   "cell_type": "markdown",
   "metadata": {},
   "source": [
    "Build Train/Test/Validation datasets from the given dataset."
   ]
  },
  {
   "cell_type": "code",
   "execution_count": 2,
   "metadata": {},
   "outputs": [],
   "source": [
    "def build_directory_dict(root_dir):\n",
    "    directory_dict = {}\n",
    "\n",
    "    for dirpath, dirnames, filenames in os.walk(root_dir):\n",
    "        if dirpath != root_dir:\n",
    "            parent_dir = os.path.basename(dirpath)\n",
    "            if parent_dir not in directory_dict:\n",
    "                directory_dict[parent_dir] = []\n",
    "            for dirname in dirnames:\n",
    "                directory_dict[parent_dir].append(dirname)\n",
    "\n",
    "    # check if values for any key is empty then remove that key value pair from dict\n",
    "    dict_copy = directory_dict.copy()\n",
    "    print(dict_copy)\n",
    "    for key, value in dict_copy.items():\n",
    "        if not value:\n",
    "            del directory_dict[key]\n",
    "    return directory_dict"
   ]
  },
  {
   "cell_type": "code",
   "execution_count": 3,
   "metadata": {},
   "outputs": [],
   "source": [
    "def copy_data_to_dest(source, dest, class_labels, split_ratios):\n",
    "\n",
    "    for shape, types in class_labels.items():\n",
    "        src = source + '/' + shape\n",
    "        temp_dir = source + '/temp/' + shape\n",
    "\n",
    "        if (os.path.exists(temp_dir)):\n",
    "            shutil.rmtree(temp_dir) \n",
    "\n",
    "        splitfolders.ratio(src, output=temp_dir, ratio=split_ratios, seed=1337)\n",
    "      \n",
    "        for type_val in types:\n",
    "            shutil.move(temp_dir + '/train/' + type_val, dest + '/train/' + shape + '/' + type_val)\n",
    "            shutil.move(temp_dir + '/test/'  + type_val, dest + '/test/' + shape + '/' + type_val)\n",
    "            shutil.move(temp_dir + '/val/'   + type_val, dest + '/val/' + shape + '/' + type_val)\n",
    "        \n",
    "    shutil.rmtree(r'./Dataset/trafficsigns_dataset/temp')"
   ]
  },
  {
   "cell_type": "code",
   "execution_count": 4,
   "metadata": {},
   "outputs": [],
   "source": [
    "# use split folders to split the dataset into train, test and validation datasets\n",
    "def create_train_test_val(split_ratios, src, dest):\n",
    "    if (os.path.exists(dest)):\n",
    "        shutil.rmtree(r'./Dataset/train_test_val') \n",
    "    splitfolders.ratio(src, output=dest, seed=1337, ratio=split_ratios)\n",
    "    class_labels = build_directory_dict(src)\n",
    "    copy_data_to_dest(src, dest, class_labels, split_ratios)\n",
    "    \n",
    "    "
   ]
  },
  {
   "cell_type": "code",
   "execution_count": 5,
   "metadata": {},
   "outputs": [
    {
     "name": "stderr",
     "output_type": "stream",
     "text": [
      "Copying files: 0 files [00:00, ? files/s]\n"
     ]
    },
    {
     "name": "stdout",
     "output_type": "stream",
     "text": [
      "{'diamond': ['rightofway'], 'rightofway': [], 'triangle': ['warning', 'giveway'], 'warning': [], 'giveway': [], 'round': ['limitedtraffic', 'noparking', 'speed', 'bicycle', 'traveldirection', 'roundabout', 'trafficdirective', 'noentry'], 'limitedtraffic': [], 'noparking': [], 'speed': [], 'bicycle': [], 'traveldirection': [], 'roundabout': [], 'trafficdirective': [], 'noentry': [], 'hex': ['stop'], 'stop': [], 'square': ['parking', 'continue', 'crossing', 'laneend'], 'parking': [], 'continue': [], 'crossing': [], 'laneend': []}\n"
     ]
    },
    {
     "name": "stderr",
     "output_type": "stream",
     "text": [
      "Copying files: 0 files [00:00, ? files/s]"
     ]
    },
    {
     "name": "stderr",
     "output_type": "stream",
     "text": [
      "Copying files: 282 files [00:00, 2019.76 files/s]\n",
      "Copying files: 926 files [00:00, 2141.68 files/s]\n",
      "Copying files: 1760 files [00:00, 2302.62 files/s]\n",
      "Copying files: 43 files [00:00, 1772.93 files/s]\n",
      "Copying files: 688 files [00:00, 2213.51 files/s]\n"
     ]
    }
   ],
   "source": [
    "create_train_test_val(split_ratios=(0.6, 0.2, 0.2), src='Dataset/trafficsigns_dataset', dest='Dataset/train_test_val')  "
   ]
  },
  {
   "cell_type": "markdown",
   "metadata": {},
   "source": [
    "Fetch the images from the folder and build a dataframe"
   ]
  },
  {
   "cell_type": "code",
   "execution_count": 6,
   "metadata": {},
   "outputs": [],
   "source": [
    "def build_df_from_image_list(image_list):\n",
    "    df = pd.DataFrame(image_list, columns = ['Path', 'Shape', 'Type'])\n",
    "    return df"
   ]
  },
  {
   "cell_type": "code",
   "execution_count": 7,
   "metadata": {},
   "outputs": [],
   "source": [
    "def fetch_images(root_path):\n",
    "    image_list = []\n",
    "    for filepath in glob.glob(root_path, recursive=True): #assuming gif\n",
    "      shape = filepath.split('/')[3]\n",
    "      types = filepath.split('/')[4]\n",
    "      image_list.append((filepath, shape, types))\n",
    "    \n",
    "    df = build_df_from_image_list(image_list)\n",
    "    return df"
   ]
  },
  {
   "cell_type": "code",
   "execution_count": 8,
   "metadata": {},
   "outputs": [],
   "source": [
    "train = fetch_images('Dataset/train_test_val/train/*/*/*.png')\n",
    "test = fetch_images('Dataset/train_test_val/test/*/*/*.png')\n",
    "val = fetch_images('Dataset/train_test_val/val/*/*/*.png')"
   ]
  },
  {
   "cell_type": "code",
   "execution_count": 9,
   "metadata": {},
   "outputs": [
    {
     "data": {
      "text/html": [
       "<div>\n",
       "<style scoped>\n",
       "    .dataframe tbody tr th:only-of-type {\n",
       "        vertical-align: middle;\n",
       "    }\n",
       "\n",
       "    .dataframe tbody tr th {\n",
       "        vertical-align: top;\n",
       "    }\n",
       "\n",
       "    .dataframe thead th {\n",
       "        text-align: right;\n",
       "    }\n",
       "</style>\n",
       "<table border=\"1\" class=\"dataframe\">\n",
       "  <thead>\n",
       "    <tr style=\"text-align: right;\">\n",
       "      <th></th>\n",
       "      <th>Path</th>\n",
       "      <th>Shape</th>\n",
       "      <th>Type</th>\n",
       "    </tr>\n",
       "  </thead>\n",
       "  <tbody>\n",
       "    <tr>\n",
       "      <th>0</th>\n",
       "      <td>Dataset/train_test_val/val/diamond/rightofway/...</td>\n",
       "      <td>diamond</td>\n",
       "      <td>rightofway</td>\n",
       "    </tr>\n",
       "    <tr>\n",
       "      <th>1</th>\n",
       "      <td>Dataset/train_test_val/val/diamond/rightofway/...</td>\n",
       "      <td>diamond</td>\n",
       "      <td>rightofway</td>\n",
       "    </tr>\n",
       "    <tr>\n",
       "      <th>2</th>\n",
       "      <td>Dataset/train_test_val/val/diamond/rightofway/...</td>\n",
       "      <td>diamond</td>\n",
       "      <td>rightofway</td>\n",
       "    </tr>\n",
       "    <tr>\n",
       "      <th>3</th>\n",
       "      <td>Dataset/train_test_val/val/diamond/rightofway/...</td>\n",
       "      <td>diamond</td>\n",
       "      <td>rightofway</td>\n",
       "    </tr>\n",
       "    <tr>\n",
       "      <th>4</th>\n",
       "      <td>Dataset/train_test_val/val/diamond/rightofway/...</td>\n",
       "      <td>diamond</td>\n",
       "      <td>rightofway</td>\n",
       "    </tr>\n",
       "  </tbody>\n",
       "</table>\n",
       "</div>"
      ],
      "text/plain": [
       "                                                Path    Shape        Type\n",
       "0  Dataset/train_test_val/val/diamond/rightofway/...  diamond  rightofway\n",
       "1  Dataset/train_test_val/val/diamond/rightofway/...  diamond  rightofway\n",
       "2  Dataset/train_test_val/val/diamond/rightofway/...  diamond  rightofway\n",
       "3  Dataset/train_test_val/val/diamond/rightofway/...  diamond  rightofway\n",
       "4  Dataset/train_test_val/val/diamond/rightofway/...  diamond  rightofway"
      ]
     },
     "execution_count": 9,
     "metadata": {},
     "output_type": "execute_result"
    }
   ],
   "source": [
    "val.head()"
   ]
  },
  {
   "cell_type": "code",
   "execution_count": 10,
   "metadata": {},
   "outputs": [],
   "source": [
    "def print_data_info(train, test, val, key='Shape'):\n",
    "    print(\"########################## Shape ##########################\")\n",
    "    print(f\" Train: {train.shape}, Test: {test.shape}, Val: {val.shape}\\n\",)\n",
    "    print(\"########################## Unique ##########################\")\n",
    "    print(\"Total Classes: \", len(train[key].unique()))\n",
    "    print(f\" Train: {train[key].unique()}, \\nTest: {test[key].unique()}, \\nVal: {val[key].unique()}\\n\")\n",
    "    print(\"########################## Count ##########################\")\n",
    "    print(f\" Train: {train[key].value_counts()}, Test: {test[key].value_counts()}, Val: {val[key].value_counts()}\\n\")\n"
   ]
  },
  {
   "cell_type": "code",
   "execution_count": 11,
   "metadata": {},
   "outputs": [
    {
     "name": "stdout",
     "output_type": "stream",
     "text": [
      "########################## Shape ##########################\n",
      " Train: (2214, 3), Test: (750, 3), Val: (735, 3)\n",
      "\n",
      "########################## Unique ##########################\n",
      "Total Classes:  5\n",
      " Train: ['diamond' 'triangle' 'round' 'hex' 'square'], \n",
      "Test: ['diamond' 'triangle' 'round' 'hex' 'square'], \n",
      "Val: ['diamond' 'triangle' 'round' 'hex' 'square']\n",
      "\n",
      "########################## Count ##########################\n",
      " Train: Shape\n",
      "round       1054\n",
      "triangle     555\n",
      "square       411\n",
      "diamond      169\n",
      "hex           25\n",
      "Name: count, dtype: int64, Test: Shape\n",
      "round       356\n",
      "triangle    186\n",
      "square      141\n",
      "diamond      57\n",
      "hex          10\n",
      "Name: count, dtype: int64, Val: Shape\n",
      "round       350\n",
      "triangle    185\n",
      "square      136\n",
      "diamond      56\n",
      "hex           8\n",
      "Name: count, dtype: int64\n",
      "\n"
     ]
    }
   ],
   "source": [
    "print_data_info(train, test, val, key='Shape')"
   ]
  },
  {
   "cell_type": "code",
   "execution_count": 12,
   "metadata": {},
   "outputs": [
    {
     "name": "stdout",
     "output_type": "stream",
     "text": [
      "########################## Shape ##########################\n",
      " Train: (2214, 3), Test: (750, 3), Val: (735, 3)\n",
      "\n",
      "########################## Unique ##########################\n",
      "Total Classes:  16\n",
      " Train: ['rightofway' 'warning' 'giveway' 'limitedtraffic' 'noparking' 'speed'\n",
      " 'bicycle' 'traveldirection' 'roundabout' 'trafficdirective' 'noentry'\n",
      " 'stop' 'parking' 'continue' 'crossing' 'laneend'], \n",
      "Test: ['rightofway' 'warning' 'giveway' 'limitedtraffic' 'noparking' 'speed'\n",
      " 'bicycle' 'traveldirection' 'roundabout' 'trafficdirective' 'noentry'\n",
      " 'stop' 'parking' 'continue' 'crossing' 'laneend'], \n",
      "Val: ['rightofway' 'warning' 'giveway' 'limitedtraffic' 'noparking' 'speed'\n",
      " 'bicycle' 'traveldirection' 'roundabout' 'trafficdirective' 'noentry'\n",
      " 'stop' 'parking' 'continue' 'crossing' 'laneend']\n",
      "\n",
      "########################## Count ##########################\n",
      " Train: Type\n",
      "warning             417\n",
      "noentry             225\n",
      "speed               189\n",
      "bicycle             171\n",
      "rightofway          169\n",
      "parking             165\n",
      "noparking           145\n",
      "giveway             138\n",
      "continue            119\n",
      "trafficdirective    117\n",
      "limitedtraffic       75\n",
      "traveldirection      74\n",
      "laneend              70\n",
      "roundabout           58\n",
      "crossing             57\n",
      "stop                 25\n",
      "Name: count, dtype: int64, Test: Type\n",
      "warning             139\n",
      "noentry              75\n",
      "speed                64\n",
      "rightofway           57\n",
      "bicycle              57\n",
      "parking              56\n",
      "noparking            49\n",
      "giveway              47\n",
      "continue             41\n",
      "trafficdirective     39\n",
      "traveldirection      26\n",
      "limitedtraffic       25\n",
      "laneend              25\n",
      "roundabout           21\n",
      "crossing             19\n",
      "stop                 10\n",
      "Name: count, dtype: int64, Val: Type\n",
      "warning             139\n",
      "noentry              75\n",
      "speed                63\n",
      "bicycle              57\n",
      "rightofway           56\n",
      "parking              55\n",
      "noparking            48\n",
      "giveway              46\n",
      "trafficdirective     39\n",
      "continue             39\n",
      "limitedtraffic       25\n",
      "traveldirection      24\n",
      "laneend              23\n",
      "roundabout           19\n",
      "crossing             19\n",
      "stop                  8\n",
      "Name: count, dtype: int64\n",
      "\n"
     ]
    }
   ],
   "source": [
    "print_data_info(train, test, val, key='Type')"
   ]
  },
  {
   "cell_type": "markdown",
   "metadata": {
    "vscode": {
     "languageId": "bat"
    }
   },
   "source": [
    "Visualise Data"
   ]
  },
  {
   "cell_type": "code",
   "execution_count": 13,
   "metadata": {},
   "outputs": [],
   "source": [
    "def visualise_data(df):\n",
    "    # plot distribution of each class\n",
    "    fig, axs = plt.subplots(1, 2, figsize=(20,6))\n",
    "\n",
    "    # Plot distribution of each class within shape\n",
    "    sns.countplot(data=df, x='Shape', ax=axs[0])\n",
    "    axs[0].set_title('Distribution of Shapes')\n",
    "\n",
    "    # Plot distribution of each class within type\n",
    "    sns.countplot(data=df, y='Type', ax=axs[1])\n",
    "    axs[1].set_title('Distribution of Types')\n",
    "\n",
    "    plt.tight_layout()\n",
    "    plt.show()"
   ]
  },
  {
   "cell_type": "code",
   "execution_count": 14,
   "metadata": {},
   "outputs": [
    {
     "data": {
      "image/png": "[encoded data removed]",
      "text/plain": [
       "<Figure size 2000x600 with 2 Axes>"
      ]
     },
     "metadata": {},
     "output_type": "display_data"
    }
   ],
   "source": [
    "visualise_data(train)"
   ]
  },
  {
   "cell_type": "code",
   "execution_count": 15,
   "metadata": {},
   "outputs": [],
   "source": [
    "# Iterate through each image path in the DataFrame\n",
    "def check_image_dimensions(df):\n",
    "    for index, row in df.iterrows():\n",
    "        image_path = row['Path']\n",
    "        flag = False\n",
    "\n",
    "        # Open the image using PIL\n",
    "        with Image.open(image_path) as img:\n",
    "            width, height = img.size\n",
    "            # Check if dimensions are not 28x28\n",
    "            if width != 28 or height != 28:\n",
    "                flag = True\n",
    "                print(f\"Image at path {image_path} has dimensions {width}x{height}\")\n",
    "\n",
    "    if not flag:\n",
    "        return \"All images have dimensions 28x28\""
   ]
  },
  {
   "cell_type": "code",
   "execution_count": 16,
   "metadata": {},
   "outputs": [
    {
     "name": "stdout",
     "output_type": "stream",
     "text": [
      "Train: All images have dimensions 28x28\n",
      " Test: All images have dimensions 28x28\n",
      " Val: All images have dimensions 28x28\n"
     ]
    }
   ],
   "source": [
    "print(f\"Train: {check_image_dimensions(train)}\\n Test: {check_image_dimensions(test)}\\n Val: {check_image_dimensions(val)}\")    "
   ]
  },
  {
   "cell_type": "markdown",
   "metadata": {},
   "source": [
    "Encode class labels"
   ]
  },
  {
   "cell_type": "code",
   "execution_count": 17,
   "metadata": {},
   "outputs": [],
   "source": [
    "def encoder(df):\n",
    "    label_encoder = LabelEncoder()\n",
    "    df['Shape'] = label_encoder.fit_transform(df['Shape'])\n",
    "    df['Type'] = label_encoder.fit_transform(df['Type'])\n",
    "\n",
    "    return df    "
   ]
  },
  {
   "cell_type": "code",
   "execution_count": 18,
   "metadata": {},
   "outputs": [
    {
     "data": {
      "text/html": [
       "<div>\n",
       "<style scoped>\n",
       "    .dataframe tbody tr th:only-of-type {\n",
       "        vertical-align: middle;\n",
       "    }\n",
       "\n",
       "    .dataframe tbody tr th {\n",
       "        vertical-align: top;\n",
       "    }\n",
       "\n",
       "    .dataframe thead th {\n",
       "        text-align: right;\n",
       "    }\n",
       "</style>\n",
       "<table border=\"1\" class=\"dataframe\">\n",
       "  <thead>\n",
       "    <tr style=\"text-align: right;\">\n",
       "      <th></th>\n",
       "      <th>Path</th>\n",
       "      <th>Shape</th>\n",
       "      <th>Type</th>\n",
       "    </tr>\n",
       "  </thead>\n",
       "  <tbody>\n",
       "    <tr>\n",
       "      <th>0</th>\n",
       "      <td>Dataset/train_test_val/val/diamond/rightofway/...</td>\n",
       "      <td>0</td>\n",
       "      <td>9</td>\n",
       "    </tr>\n",
       "    <tr>\n",
       "      <th>1</th>\n",
       "      <td>Dataset/train_test_val/val/diamond/rightofway/...</td>\n",
       "      <td>0</td>\n",
       "      <td>9</td>\n",
       "    </tr>\n",
       "    <tr>\n",
       "      <th>2</th>\n",
       "      <td>Dataset/train_test_val/val/diamond/rightofway/...</td>\n",
       "      <td>0</td>\n",
       "      <td>9</td>\n",
       "    </tr>\n",
       "    <tr>\n",
       "      <th>3</th>\n",
       "      <td>Dataset/train_test_val/val/diamond/rightofway/...</td>\n",
       "      <td>0</td>\n",
       "      <td>9</td>\n",
       "    </tr>\n",
       "    <tr>\n",
       "      <th>4</th>\n",
       "      <td>Dataset/train_test_val/val/diamond/rightofway/...</td>\n",
       "      <td>0</td>\n",
       "      <td>9</td>\n",
       "    </tr>\n",
       "    <tr>\n",
       "      <th>...</th>\n",
       "      <td>...</td>\n",
       "      <td>...</td>\n",
       "      <td>...</td>\n",
       "    </tr>\n",
       "    <tr>\n",
       "      <th>730</th>\n",
       "      <td>Dataset/train_test_val/val/square/laneend/0141...</td>\n",
       "      <td>3</td>\n",
       "      <td>4</td>\n",
       "    </tr>\n",
       "    <tr>\n",
       "      <th>731</th>\n",
       "      <td>Dataset/train_test_val/val/square/laneend/0175...</td>\n",
       "      <td>3</td>\n",
       "      <td>4</td>\n",
       "    </tr>\n",
       "    <tr>\n",
       "      <th>732</th>\n",
       "      <td>Dataset/train_test_val/val/square/laneend/0072...</td>\n",
       "      <td>3</td>\n",
       "      <td>4</td>\n",
       "    </tr>\n",
       "    <tr>\n",
       "      <th>733</th>\n",
       "      <td>Dataset/train_test_val/val/square/laneend/0013...</td>\n",
       "      <td>3</td>\n",
       "      <td>4</td>\n",
       "    </tr>\n",
       "    <tr>\n",
       "      <th>734</th>\n",
       "      <td>Dataset/train_test_val/val/square/laneend/0048...</td>\n",
       "      <td>3</td>\n",
       "      <td>4</td>\n",
       "    </tr>\n",
       "  </tbody>\n",
       "</table>\n",
       "<p>735 rows × 3 columns</p>\n",
       "</div>"
      ],
      "text/plain": [
       "                                                  Path  Shape  Type\n",
       "0    Dataset/train_test_val/val/diamond/rightofway/...      0     9\n",
       "1    Dataset/train_test_val/val/diamond/rightofway/...      0     9\n",
       "2    Dataset/train_test_val/val/diamond/rightofway/...      0     9\n",
       "3    Dataset/train_test_val/val/diamond/rightofway/...      0     9\n",
       "4    Dataset/train_test_val/val/diamond/rightofway/...      0     9\n",
       "..                                                 ...    ...   ...\n",
       "730  Dataset/train_test_val/val/square/laneend/0141...      3     4\n",
       "731  Dataset/train_test_val/val/square/laneend/0175...      3     4\n",
       "732  Dataset/train_test_val/val/square/laneend/0072...      3     4\n",
       "733  Dataset/train_test_val/val/square/laneend/0013...      3     4\n",
       "734  Dataset/train_test_val/val/square/laneend/0048...      3     4\n",
       "\n",
       "[735 rows x 3 columns]"
      ]
     },
     "execution_count": 18,
     "metadata": {},
     "output_type": "execute_result"
    }
   ],
   "source": [
    "encoder(train)\n",
    "encoder(test)\n",
    "encoder(val)\n",
    "\n",
    "# print(train['Shape'].value_counts())\n",
    "# print(train['Type'].unique())\n",
    "# train[train.Shape == 1].head()"
   ]
  },
  {
   "cell_type": "markdown",
   "metadata": {},
   "source": [
    "Handle Data Imbalance"
   ]
  },
  {
   "cell_type": "code",
   "execution_count": 19,
   "metadata": {},
   "outputs": [],
   "source": [
    "def augment_data(df, image_batch_size, dest):\n",
    "    \n",
    "    images = []\n",
    "    for image_path in df['Path']:\n",
    "        img = plt.imread(image_path)\n",
    "        images.append(img_to_array(img))\n",
    "      \n",
    "\n",
    "    datagen = ImageDataGenerator(\n",
    "        rotation_range=20,\n",
    "        zoom_range=0.2,\n",
    "        horizontal_flip=True,\n",
    "        vertical_flip=True,\n",
    "        shear_range=0.2,\n",
    "    )\n",
    "\n",
    "    for img in images:\n",
    "        img = img.reshape((1,) + img.shape)\n",
    "        for j, _ in enumerate(datagen.flow(img, save_to_dir=dest, batch_size=1, save_prefix='aug', save_format='png')):\n",
    "            if j >= image_batch_size:\n",
    "                break\n"
   ]
  },
  {
   "cell_type": "code",
   "execution_count": 20,
   "metadata": {},
   "outputs": [],
   "source": [
    "def make_dir(src, dest):\n",
    "    if (os.path.exists(dest)):\n",
    "        if dest == 'Dataset/shape_aug/train':\n",
    "            shutil.rmtree(r'./Dataset/shape_aug/train')\n",
    "        elif dest == 'Dataset/type_aug/train':\n",
    "            shutil.rmtree(r'./Dataset/type_aug/train')\n",
    "    \n",
    "    shutil.copytree(src, dest)"
   ]
  },
  {
   "cell_type": "code",
   "execution_count": 21,
   "metadata": {},
   "outputs": [],
   "source": [
    "def start_shape_augmentation(train, choice, src, dest, batch_dict):\n",
    "    make_dir(src=src, dest=dest)\n",
    "    \n",
    "    for key, [index, value, shape] in batch_dict.items():\n",
    "        path = dest + '/' + shape + '/' + key\n",
    "        augment_data(df=train[train.Type == index], image_batch_size=value, dest=path) \n",
    "    \n",
    "    train_aug = fetch_images(dest + '/*/*/*.png')\n",
    "    train_aug = encoder(train_aug)\n",
    "    print(train_aug[choice].value_counts())\n",
    "    visualise_data(train_aug)\n",
    "    return train_aug"
   ]
  },
  {
   "cell_type": "code",
   "execution_count": 22,
   "metadata": {},
   "outputs": [
    {
     "name": "stdout",
     "output_type": "stream",
     "text": [
      "Shape\n",
      "2    1054\n",
      "1    1025\n",
      "3     917\n",
      "4     826\n",
      "0     820\n",
      "Name: count, dtype: int64\n"
     ]
    },
    {
     "data": {
      "image/png": "[encoded data removed]",
      "text/plain": [
       "<Figure size 2000x600 with 2 Axes>"
      ]
     },
     "metadata": {},
     "output_type": "display_data"
    }
   ],
   "source": [
    "batch_dict_shape = {\n",
    "    # sign_type : [sign_type_label, number of images to generate per image, shape]\n",
    "        'stop': [12, 41, 'hex'],\n",
    "        'giveway': [3, 1, 'triangle'],\n",
    "        'crossing': [2, 3, 'square'],\n",
    "        'laneend': [4, 3, 'square'],\n",
    "        'rightofway': [9, 3, 'diamond'],\n",
    "    }\n",
    "train_shape_aug = start_shape_augmentation(train, 'Shape', \n",
    "                                           src='Dataset/train_test_val/train', \n",
    "                                           dest='Dataset/shape_aug/train', \n",
    "                                           batch_dict=batch_dict_shape)"
   ]
  },
  {
   "cell_type": "code",
   "execution_count": 23,
   "metadata": {},
   "outputs": [
    {
     "name": "stdout",
     "output_type": "stream",
     "text": [
      "Type\n",
      "6     664\n",
      "13    580\n",
      "7     571\n",
      "11    561\n",
      "3     540\n",
      "5     518\n",
      "0     506\n",
      "2     505\n",
      "9     504\n",
      "14    504\n",
      "8     487\n",
      "4     479\n",
      "1     470\n",
      "10    457\n",
      "12    437\n",
      "15    417\n",
      "Name: count, dtype: int64\n"
     ]
    },
    {
     "data": {
      "image/png": "[encoded data removed]",
      "text/plain": [
       "<Figure size 2000x600 with 2 Axes>"
      ]
     },
     "metadata": {},
     "output_type": "display_data"
    }
   ],
   "source": [
    "batch_dict_type = {\n",
    "    # sign_type : [sign_type_label, number of images to generate per image, shape]\n",
    "        'stop': [12, 16, 'hex'],\n",
    "        'crossing': [2, 7, 'square'],\n",
    "        'roundabout': [10, 6, 'round'],\n",
    "        'laneend': [4, 5, 'square'],\n",
    "        'traveldirection': [14, 5, 'round'],\n",
    "        'limitedtraffic': [5, 5, 'round'],\n",
    "        'trafficdirective': [13, 3, 'round'],\n",
    "        'continue': [1, 2, 'square'],\n",
    "        'giveway': [3, 2, 'triangle'],\n",
    "        'noparking': [7, 2, 'round'],\n",
    "        'parking': [8, 1, 'square'],\n",
    "        'rightofway': [9, 1, 'diamond'],\n",
    "        'bicycle': [0, 1, 'round'],\n",
    "        'speed': [11, 1, 'round'], \n",
    "        'noentry': [6, 1, 'round'],\n",
    "    }\n",
    "train_type_augmented = start_shape_augmentation(train, 'Type', \n",
    "                                           src='Dataset/train_test_val/train', \n",
    "                                           dest='Dataset/type_aug/train', \n",
    "                                           batch_dict=batch_dict_type)"
   ]
  },
  {
   "cell_type": "markdown",
   "metadata": {},
   "source": [
    "Generate Images for Training"
   ]
  },
  {
   "cell_type": "code",
   "execution_count": 24,
   "metadata": {},
   "outputs": [],
   "source": [
    "def create_image_batches(df, batch_size, label, target_size=(28, 28), is_train = True):\n",
    "        df[label] = df[label].astype('str')\n",
    "        train_datagen = ImageDataGenerator(rescale=1./255, data_format='channels_last')\n",
    "\n",
    "        if is_train:\n",
    "                train_generator = train_datagen.flow_from_dataframe(\n",
    "                        dataframe=df,\n",
    "                        directory='./',\n",
    "                        x_col=\"Path\",\n",
    "                        y_col=label,\n",
    "                        target_size=target_size,\n",
    "                        batch_size=batch_size,\n",
    "                        class_mode='categorical')\n",
    "        else:\n",
    "                train_generator = train_datagen.flow_from_dataframe(\n",
    "                        dataframe=df,\n",
    "                        directory='./',\n",
    "                        x_col=\"Path\",\n",
    "                        y_col=label,\n",
    "                        target_size=target_size,\n",
    "                        batch_size=batch_size,\n",
    "                        shuffle=False,\n",
    "                        class_mode='categorical'\n",
    "                        )\n",
    "        \n",
    "        return train_generator"
   ]
  },
  {
   "cell_type": "code",
   "execution_count": 25,
   "metadata": {},
   "outputs": [
    {
     "name": "stdout",
     "output_type": "stream",
     "text": [
      "Found 2214 validated image filenames belonging to 5 classes.\n",
      "Found 735 validated image filenames belonging to 5 classes.\n",
      "Found 4642 validated image filenames belonging to 5 classes.\n"
     ]
    }
   ],
   "source": [
    "# create image batches from train for Shape\n",
    "shape_train_generator = create_image_batches(df=train, batch_size=32, label='Shape', target_size=(28, 28), is_train=True)\n",
    "shape_val_generator = create_image_batches(df=val, batch_size=32, label='Shape', target_size=(28, 28), is_train=True)\n",
    "# create image batches from augmented train for Shape\n",
    "shape_aug_train_generator = create_image_batches(df=train_shape_aug, batch_size=32, label='Shape', target_size=(28, 28), is_train=True)"
   ]
  },
  {
   "cell_type": "code",
   "execution_count": 26,
   "metadata": {},
   "outputs": [
    {
     "name": "stdout",
     "output_type": "stream",
     "text": [
      "Found 2214 validated image filenames belonging to 16 classes.\n",
      "Found 735 validated image filenames belonging to 16 classes.\n"
     ]
    },
    {
     "name": "stdout",
     "output_type": "stream",
     "text": [
      "Found 8200 validated image filenames belonging to 16 classes.\n"
     ]
    }
   ],
   "source": [
    "type_train_generator = create_image_batches(df=train, batch_size=32, label='Type', target_size=(28, 28), is_train=True)\n",
    "type_val_generator = create_image_batches(df=val, batch_size=32, label='Type', target_size=(28, 28), is_train=True)\n",
    "# create image batches from augmented train for Type\n",
    "type_aug_train_generator = create_image_batches(df=train_type_augmented, batch_size=32, label='Type', target_size=(28, 28), is_train=True)"
   ]
  },
  {
   "cell_type": "markdown",
   "metadata": {},
   "source": [
    "Model Development"
   ]
  },
  {
   "cell_type": "code",
   "execution_count": 27,
   "metadata": {},
   "outputs": [
    {
     "name": "stdout",
     "output_type": "stream",
     "text": [
      "Classes_Shape: 5\n",
      "Classes_Type: 16\n",
      "Metric: <AUC name=PR>\n",
      "Loss Metric: <keras.src.losses.losses.CategoricalCrossentropy object at 0x76afd8af1e10>\n",
      "\n"
     ]
    },
    {
     "name": "stderr",
     "output_type": "stream",
     "text": [
      "2024-05-17 13:44:54.533446: I external/local_xla/xla/stream_executor/cuda/cuda_executor.cc:998] successful NUMA node read from SysFS had negative value (-1), but there must be at least one NUMA node, so returning NUMA node zero. See more at https://github.com/torvalds/linux/blob/v6.0/Documentation/ABI/testing/sysfs-bus-pci#L344-L355\n",
      "2024-05-17 13:44:54.731032: W tensorflow/core/common_runtime/gpu/gpu_device.cc:2251] Cannot dlopen some GPU libraries. Please make sure the missing libraries mentioned above are installed properly if you would like to use GPU. Follow the guide at https://www.tensorflow.org/install/gpu for how to download and setup the required libraries for your platform.\n",
      "Skipping registering GPU devices...\n"
     ]
    }
   ],
   "source": [
    "OUTPUT_CLASSES_SHAPE = 5\n",
    "OUTPUT_CLASSES_TYPE = 16\n",
    "INPUT_DIM = (28, 28, 3)\n",
    "# define metrics\n",
    "METRIC = tf.keras.metrics.AUC(curve='PR', name='PR', from_logits=True)\n",
    "LOSS_METRIC = tf.keras.losses.CategoricalCrossentropy(from_logits=True)\n",
    "\n",
    "\n",
    "print(\n",
    "    f\"Classes_Shape: {OUTPUT_CLASSES_SHAPE}\\n\"\n",
    "    f\"Classes_Type: {OUTPUT_CLASSES_TYPE}\\n\"\n",
    "    f\"Metric: {METRIC}\\n\"\n",
    "    f\"Loss Metric: {LOSS_METRIC}\\n\"\n",
    ")"
   ]
  },
  {
   "cell_type": "code",
   "execution_count": 28,
   "metadata": {},
   "outputs": [],
   "source": [
    "def plot_learning_curve(train_loss, val_loss, train_metric, val_metric, metric_name='Accuracy'):\n",
    "    plt.figure(figsize=(10,5))\n",
    "    \n",
    "    plt.subplot(1,2,1)\n",
    "    plt.plot(train_loss, 'r--')\n",
    "    plt.plot(val_loss, 'b--')\n",
    "    plt.xlabel(\"epochs\")\n",
    "    plt.ylabel(\"Loss\")\n",
    "    plt.legend(['train', 'val'], loc='upper left')\n",
    "\n",
    "    plt.subplot(1,2,2)\n",
    "    plt.plot(train_metric, 'r--')\n",
    "    plt.plot(val_metric, 'b--')\n",
    "    plt.xlabel(\"epochs\")\n",
    "    plt.ylabel(metric_name)\n",
    "    plt.legend(['train', 'val'], loc='upper left')\n",
    "\n",
    "    plt.show()"
   ]
  },
  {
   "cell_type": "markdown",
   "metadata": {},
   "source": [
    "Baseline Model"
   ]
  },
  {
   "cell_type": "code",
   "execution_count": 29,
   "metadata": {},
   "outputs": [],
   "source": [
    "# Add your baseline model here"
   ]
  },
  {
   "cell_type": "markdown",
   "metadata": {},
   "source": [
    "Convolutional Neural Network (CNN)"
   ]
  },
  {
   "cell_type": "code",
   "execution_count": 30,
   "metadata": {},
   "outputs": [],
   "source": [
    "def build_model_VGG(input_shape, output_classes, activation='relu'):\n",
    "    model = tf.keras.Sequential([\n",
    "        tf.keras.layers.Conv2D(28, (3, 3), activation=activation, padding='same', input_shape=input_shape),\n",
    "        tf.keras.layers.Conv2D(28, (3, 3), activation=activation, padding='same'),\n",
    "        tf.keras.layers.MaxPooling2D((2, 2)),\n",
    "   \n",
    "        tf.keras.layers.Conv2D(64, (3, 3), activation=activation, padding='same'),\n",
    "        tf.keras.layers.Conv2D(64, (3, 3), activation=activation, padding='same'),\n",
    "        tf.keras.layers.MaxPooling2D((2, 2)),\n",
    "        \n",
    "        tf.keras.layers.Conv2D(128, (3, 3), activation=activation, padding='same'),\n",
    "        tf.keras.layers.Conv2D(128, (3, 3), activation=activation, padding='same'),\n",
    "        tf.keras.layers.MaxPooling2D((2, 2)),\n",
    "        \n",
    "        tf.keras.layers.Flatten(),\n",
    "        tf.keras.layers.Dense(128, activation=activation),\n",
    "        tf.keras.layers.Dense(output_classes, activation='softmax'),\n",
    "    ])\n",
    "\n",
    "    return model"
   ]
  },
  {
   "cell_type": "code",
   "execution_count": 31,
   "metadata": {},
   "outputs": [],
   "source": [
    "def compile_model(model, optimiser='sgd', loss='categorical_crossentropy', metrics=['categorical_accuracy']):\n",
    "    model.compile(optimizer=optimiser, loss=loss, metrics=metrics)\n",
    "    return model"
   ]
  },
  {
   "cell_type": "code",
   "execution_count": 32,
   "metadata": {},
   "outputs": [],
   "source": [
    "def train_model(model, train_generator, val_generator, epochs=50, class_weights=None):\n",
    "    history = model.fit(train_generator, validation_data=val_generator, epochs=epochs, class_weight=class_weights, verbose=2)\n",
    "    return history"
   ]
  },
  {
   "cell_type": "code",
   "execution_count": 33,
   "metadata": {},
   "outputs": [],
   "source": [
    "def plot_performance(history, metric_label):\n",
    "    val_metric_label = 'val_' + metric_label\n",
    "    plot_learning_curve(history.history['loss'], history.history['val_loss'], \n",
    "                    history.history[metric_label], history.history[val_metric_label], \n",
    "                    metric_name = metric_label)"
   ]
  },
  {
   "cell_type": "code",
   "execution_count": 34,
   "metadata": {},
   "outputs": [],
   "source": [
    "def pipeline(train, val, metric_label, optimiser, activation, epoch, class_weights):\n",
    "    model = build_model_VGG(input_shape=INPUT_DIM, output_classes=OUTPUT_CLASSES_SHAPE, activation=activation)\n",
    "    model = compile_model(model, optimiser=optimiser, loss=LOSS_METRIC, metrics=[METRIC])\n",
    "    history = train_model(model, train, val, epochs=epoch, class_weights=class_weights)\n",
    "    plot_performance(history=history, metric_label=metric_label)\n",
    "    return model\n"
   ]
  },
  {
   "cell_type": "code",
   "execution_count": 35,
   "metadata": {},
   "outputs": [
    {
     "name": "stderr",
     "output_type": "stream",
     "text": [
      "/home/ashwin/anaconda3/lib/python3.11/site-packages/keras/src/layers/convolutional/base_conv.py:107: UserWarning: Do not pass an `input_shape`/`input_dim` argument to a layer. When using Sequential models, prefer using an `Input(shape)` object as the first layer in the model instead.\n",
      "  super().__init__(activity_regularizer=activity_regularizer, **kwargs)\n"
     ]
    },
    {
     "name": "stdout",
     "output_type": "stream",
     "text": [
      "Epoch 1/100\n"
     ]
    },
    {
     "name": "stderr",
     "output_type": "stream",
     "text": [
      "/home/ashwin/anaconda3/lib/python3.11/site-packages/keras/src/backend/tensorflow/nn.py:560: UserWarning: \"`categorical_crossentropy` received `from_logits=True`, but the `output` argument was produced by a Softmax activation and thus does not represent logits. Was this intended?\n",
      "  output, from_logits = _get_logits(\n",
      "/home/ashwin/anaconda3/lib/python3.11/site-packages/keras/src/trainers/data_adapters/py_dataset_adapter.py:121: UserWarning: Your `PyDataset` class should call `super().__init__(**kwargs)` in its constructor. `**kwargs` can include `workers`, `use_multiprocessing`, `max_queue_size`. Do not pass these arguments to `fit()`, as they will be ignored.\n",
      "  self._warn_if_super_not_called()\n"
     ]
    },
    {
     "name": "stdout",
     "output_type": "stream",
     "text": [
      "70/70 - 13s - 179ms/step - PR: 0.6544 - loss: 1.0502 - val_PR: 0.9242 - val_loss: 0.4150\n",
      "Epoch 2/100\n",
      "70/70 - 4s - 61ms/step - PR: 0.9722 - loss: 0.2236 - val_PR: 0.9963 - val_loss: 0.0779\n",
      "Epoch 3/100\n",
      "70/70 - 4s - 61ms/step - PR: 0.9955 - loss: 0.0658 - val_PR: 0.9864 - val_loss: 0.1575\n",
      "Epoch 4/100\n",
      "70/70 - 4s - 60ms/step - PR: 0.9961 - loss: 0.0530 - val_PR: 0.9985 - val_loss: 0.0533\n",
      "Epoch 5/100\n",
      "70/70 - 4s - 59ms/step - PR: 0.9992 - loss: 0.0116 - val_PR: 0.9986 - val_loss: 0.0399\n",
      "Epoch 6/100\n",
      "70/70 - 4s - 59ms/step - PR: 0.9979 - loss: 0.0361 - val_PR: 0.9991 - val_loss: 0.0392\n",
      "Epoch 7/100\n",
      "70/70 - 4s - 58ms/step - PR: 0.9990 - loss: 0.0214 - val_PR: 0.9977 - val_loss: 0.0470\n",
      "Epoch 8/100\n",
      "70/70 - 4s - 60ms/step - PR: 1.0000 - loss: 0.0037 - val_PR: 0.9969 - val_loss: 0.0234\n",
      "Epoch 9/100\n",
      "70/70 - 4s - 61ms/step - PR: 1.0000 - loss: 4.6674e-04 - val_PR: 0.9956 - val_loss: 0.0280\n",
      "Epoch 10/100\n",
      "70/70 - 4s - 64ms/step - PR: 1.0000 - loss: 1.1256e-04 - val_PR: 0.9956 - val_loss: 0.0273\n",
      "Epoch 11/100\n",
      "70/70 - 5s - 69ms/step - PR: 1.0000 - loss: 6.9084e-05 - val_PR: 0.9956 - val_loss: 0.0278\n",
      "Epoch 12/100\n",
      "70/70 - 4s - 64ms/step - PR: 1.0000 - loss: 4.9253e-05 - val_PR: 0.9956 - val_loss: 0.0283\n",
      "Epoch 13/100\n",
      "70/70 - 5s - 65ms/step - PR: 1.0000 - loss: 3.6469e-05 - val_PR: 0.9956 - val_loss: 0.0291\n",
      "Epoch 14/100\n",
      "70/70 - 4s - 60ms/step - PR: 1.0000 - loss: 2.8308e-05 - val_PR: 0.9956 - val_loss: 0.0291\n",
      "Epoch 15/100\n",
      "70/70 - 4s - 64ms/step - PR: 1.0000 - loss: 2.2227e-05 - val_PR: 0.9956 - val_loss: 0.0298\n",
      "Epoch 16/100\n",
      "70/70 - 4s - 60ms/step - PR: 1.0000 - loss: 1.7998e-05 - val_PR: 0.9956 - val_loss: 0.0301\n",
      "Epoch 17/100\n",
      "70/70 - 4s - 58ms/step - PR: 1.0000 - loss: 1.5160e-05 - val_PR: 0.9956 - val_loss: 0.0301\n",
      "Epoch 18/100\n",
      "70/70 - 4s - 57ms/step - PR: 1.0000 - loss: 1.2990e-05 - val_PR: 0.9956 - val_loss: 0.0307\n",
      "Epoch 19/100\n",
      "70/70 - 4s - 59ms/step - PR: 1.0000 - loss: 1.1050e-05 - val_PR: 0.9956 - val_loss: 0.0317\n",
      "Epoch 20/100\n",
      "70/70 - 4s - 57ms/step - PR: 1.0000 - loss: 1.0092e-05 - val_PR: 0.9956 - val_loss: 0.0312\n",
      "Epoch 21/100\n",
      "70/70 - 4s - 61ms/step - PR: 1.0000 - loss: 8.5141e-06 - val_PR: 0.9956 - val_loss: 0.0317\n",
      "Epoch 22/100\n",
      "70/70 - 4s - 64ms/step - PR: 1.0000 - loss: 7.4463e-06 - val_PR: 0.9956 - val_loss: 0.0322\n",
      "Epoch 23/100\n",
      "70/70 - 4s - 62ms/step - PR: 1.0000 - loss: 6.5072e-06 - val_PR: 0.9956 - val_loss: 0.0324\n",
      "Epoch 24/100\n",
      "70/70 - 4s - 58ms/step - PR: 1.0000 - loss: 5.8799e-06 - val_PR: 0.9956 - val_loss: 0.0331\n",
      "Epoch 25/100\n",
      "70/70 - 4s - 59ms/step - PR: 1.0000 - loss: 5.2629e-06 - val_PR: 0.9956 - val_loss: 0.0333\n",
      "Epoch 26/100\n",
      "70/70 - 5s - 65ms/step - PR: 1.0000 - loss: 4.7131e-06 - val_PR: 0.9956 - val_loss: 0.0327\n",
      "Epoch 27/100\n",
      "70/70 - 4s - 64ms/step - PR: 1.0000 - loss: 4.2446e-06 - val_PR: 0.9956 - val_loss: 0.0334\n",
      "Epoch 28/100\n",
      "70/70 - 5s - 65ms/step - PR: 1.0000 - loss: 3.8585e-06 - val_PR: 0.9956 - val_loss: 0.0334\n",
      "Epoch 29/100\n",
      "70/70 - 4s - 64ms/step - PR: 1.0000 - loss: 3.5677e-06 - val_PR: 0.9956 - val_loss: 0.0336\n",
      "Epoch 30/100\n",
      "70/70 - 4s - 63ms/step - PR: 1.0000 - loss: 3.2625e-06 - val_PR: 0.9956 - val_loss: 0.0340\n",
      "Epoch 31/100\n",
      "70/70 - 4s - 60ms/step - PR: 1.0000 - loss: 3.0182e-06 - val_PR: 0.9956 - val_loss: 0.0341\n",
      "Epoch 32/100\n",
      "70/70 - 5s - 69ms/step - PR: 1.0000 - loss: 2.7947e-06 - val_PR: 0.9956 - val_loss: 0.0346\n",
      "Epoch 33/100\n",
      "70/70 - 4s - 61ms/step - PR: 1.0000 - loss: 2.6695e-06 - val_PR: 0.9956 - val_loss: 0.0336\n",
      "Epoch 34/100\n",
      "70/70 - 5s - 65ms/step - PR: 1.0000 - loss: 2.4443e-06 - val_PR: 0.9956 - val_loss: 0.0342\n",
      "Epoch 35/100\n",
      "70/70 - 4s - 60ms/step - PR: 1.0000 - loss: 2.2518e-06 - val_PR: 0.9956 - val_loss: 0.0346\n",
      "Epoch 36/100\n",
      "70/70 - 4s - 60ms/step - PR: 1.0000 - loss: 2.0793e-06 - val_PR: 0.9956 - val_loss: 0.0352\n",
      "Epoch 37/100\n",
      "70/70 - 4s - 60ms/step - PR: 1.0000 - loss: 1.9877e-06 - val_PR: 0.9956 - val_loss: 0.0347\n",
      "Epoch 38/100\n",
      "70/70 - 4s - 59ms/step - PR: 1.0000 - loss: 1.8157e-06 - val_PR: 0.9956 - val_loss: 0.0353\n",
      "Epoch 39/100\n",
      "70/70 - 4s - 61ms/step - PR: 1.0000 - loss: 1.7619e-06 - val_PR: 0.9956 - val_loss: 0.0347\n",
      "Epoch 40/100\n",
      "70/70 - 4s - 59ms/step - PR: 1.0000 - loss: 1.6327e-06 - val_PR: 0.9956 - val_loss: 0.0350\n",
      "Epoch 41/100\n",
      "70/70 - 4s - 61ms/step - PR: 1.0000 - loss: 1.5112e-06 - val_PR: 0.9956 - val_loss: 0.0355\n",
      "Epoch 42/100\n",
      "70/70 - 4s - 64ms/step - PR: 1.0000 - loss: 1.4147e-06 - val_PR: 0.9956 - val_loss: 0.0359\n",
      "Epoch 43/100\n",
      "70/70 - 4s - 64ms/step - PR: 1.0000 - loss: 1.3523e-06 - val_PR: 0.9956 - val_loss: 0.0356\n",
      "Epoch 44/100\n",
      "70/70 - 4s - 62ms/step - PR: 1.0000 - loss: 1.2698e-06 - val_PR: 0.9956 - val_loss: 0.0351\n",
      "Epoch 45/100\n",
      "70/70 - 4s - 63ms/step - PR: 1.0000 - loss: 1.2136e-06 - val_PR: 0.9956 - val_loss: 0.0354\n",
      "Epoch 46/100\n",
      "70/70 - 4s - 60ms/step - PR: 1.0000 - loss: 1.1258e-06 - val_PR: 0.9956 - val_loss: 0.0363\n",
      "Epoch 47/100\n",
      "70/70 - 4s - 62ms/step - PR: 1.0000 - loss: 1.0682e-06 - val_PR: 0.9956 - val_loss: 0.0357\n",
      "Epoch 48/100\n",
      "70/70 - 4s - 59ms/step - PR: 1.0000 - loss: 1.0024e-06 - val_PR: 0.9956 - val_loss: 0.0361\n",
      "Epoch 49/100\n",
      "70/70 - 4s - 59ms/step - PR: 1.0000 - loss: 9.4867e-07 - val_PR: 0.9956 - val_loss: 0.0367\n",
      "Epoch 50/100\n",
      "70/70 - 4s - 57ms/step - PR: 1.0000 - loss: 9.0855e-07 - val_PR: 0.9956 - val_loss: 0.0365\n",
      "Epoch 51/100\n",
      "70/70 - 4s - 56ms/step - PR: 1.0000 - loss: 8.4665e-07 - val_PR: 0.9956 - val_loss: 0.0365\n",
      "Epoch 52/100\n",
      "70/70 - 4s - 54ms/step - PR: 1.0000 - loss: 8.1434e-07 - val_PR: 0.9956 - val_loss: 0.0369\n",
      "Epoch 53/100\n",
      "70/70 - 4s - 55ms/step - PR: 1.0000 - loss: 7.7392e-07 - val_PR: 0.9956 - val_loss: 0.0369\n",
      "Epoch 54/100\n",
      "70/70 - 4s - 55ms/step - PR: 1.0000 - loss: 7.4306e-07 - val_PR: 0.9956 - val_loss: 0.0366\n",
      "Epoch 55/100\n",
      "70/70 - 4s - 60ms/step - PR: 1.0000 - loss: 6.8018e-07 - val_PR: 0.9956 - val_loss: 0.0371\n",
      "Epoch 56/100\n",
      "70/70 - 4s - 64ms/step - PR: 1.0000 - loss: 6.9418e-07 - val_PR: 0.9956 - val_loss: 0.0371\n",
      "Epoch 57/100\n",
      "70/70 - 4s - 61ms/step - PR: 1.0000 - loss: 6.1159e-07 - val_PR: 0.9956 - val_loss: 0.0377\n",
      "Epoch 58/100\n",
      "70/70 - 4s - 59ms/step - PR: 1.0000 - loss: 5.9167e-07 - val_PR: 0.9956 - val_loss: 0.0371\n",
      "Epoch 59/100\n",
      "70/70 - 4s - 57ms/step - PR: 1.0000 - loss: 5.5947e-07 - val_PR: 0.9956 - val_loss: 0.0378\n",
      "Epoch 60/100\n",
      "70/70 - 4s - 56ms/step - PR: 1.0000 - loss: 5.4224e-07 - val_PR: 0.9956 - val_loss: 0.0374\n",
      "Epoch 61/100\n",
      "70/70 - 4s - 57ms/step - PR: 1.0000 - loss: 4.9605e-07 - val_PR: 0.9956 - val_loss: 0.0383\n",
      "Epoch 62/100\n",
      "70/70 - 4s - 57ms/step - PR: 1.0000 - loss: 4.8969e-07 - val_PR: 0.9956 - val_loss: 0.0379\n",
      "Epoch 63/100\n",
      "70/70 - 5s - 65ms/step - PR: 1.0000 - loss: 4.5755e-07 - val_PR: 0.9956 - val_loss: 0.0382\n",
      "Epoch 64/100\n",
      "70/70 - 4s - 59ms/step - PR: 1.0000 - loss: 4.4856e-07 - val_PR: 0.9956 - val_loss: 0.0375\n",
      "Epoch 65/100\n",
      "70/70 - 4s - 59ms/step - PR: 1.0000 - loss: 4.1146e-07 - val_PR: 0.9956 - val_loss: 0.0383\n",
      "Epoch 66/100\n",
      "70/70 - 4s - 61ms/step - PR: 1.0000 - loss: 4.0209e-07 - val_PR: 0.9956 - val_loss: 0.0379\n",
      "Epoch 67/100\n",
      "70/70 - 4s - 62ms/step - PR: 1.0000 - loss: 3.7851e-07 - val_PR: 0.9956 - val_loss: 0.0383\n",
      "Epoch 68/100\n",
      "70/70 - 4s - 62ms/step - PR: 1.0000 - loss: 3.6446e-07 - val_PR: 0.9956 - val_loss: 0.0384\n",
      "Epoch 69/100\n",
      "70/70 - 4s - 61ms/step - PR: 1.0000 - loss: 3.9962e-07 - val_PR: 0.9956 - val_loss: 0.0381\n",
      "Epoch 70/100\n",
      "70/70 - 4s - 59ms/step - PR: 1.0000 - loss: 3.2462e-07 - val_PR: 0.9956 - val_loss: 0.0387\n",
      "Epoch 71/100\n",
      "70/70 - 4s - 60ms/step - PR: 1.0000 - loss: 3.0373e-07 - val_PR: 0.9956 - val_loss: 0.0392\n",
      "Epoch 72/100\n",
      "70/70 - 4s - 61ms/step - PR: 1.0000 - loss: 2.8483e-07 - val_PR: 0.9956 - val_loss: 0.0393\n",
      "Epoch 73/100\n",
      "70/70 - 4s - 61ms/step - PR: 1.0000 - loss: 2.7250e-07 - val_PR: 0.9956 - val_loss: 0.0399\n",
      "Epoch 74/100\n",
      "70/70 - 4s - 59ms/step - PR: 1.0000 - loss: 2.7137e-07 - val_PR: 0.9956 - val_loss: 0.0401\n",
      "Epoch 75/100\n",
      "70/70 - 4s - 59ms/step - PR: 1.0000 - loss: 2.5118e-07 - val_PR: 0.9956 - val_loss: 0.0393\n",
      "Epoch 76/100\n",
      "70/70 - 4s - 55ms/step - PR: 1.0000 - loss: 2.4219e-07 - val_PR: 0.9956 - val_loss: 0.0397\n",
      "Epoch 77/100\n",
      "70/70 - 4s - 59ms/step - PR: 1.0000 - loss: 2.3212e-07 - val_PR: 0.9956 - val_loss: 0.0400\n",
      "Epoch 78/100\n",
      "70/70 - 4s - 62ms/step - PR: 1.0000 - loss: 2.2226e-07 - val_PR: 0.9956 - val_loss: 0.0405\n",
      "Epoch 79/100\n",
      "70/70 - 4s - 59ms/step - PR: 1.0000 - loss: 2.1817e-07 - val_PR: 0.9956 - val_loss: 0.0401\n",
      "Epoch 80/100\n",
      "70/70 - 4s - 60ms/step - PR: 1.0000 - loss: 2.0665e-07 - val_PR: 0.9956 - val_loss: 0.0400\n",
      "Epoch 81/100\n",
      "70/70 - 4s - 60ms/step - PR: 1.0000 - loss: 1.9540e-07 - val_PR: 0.9956 - val_loss: 0.0402\n",
      "Epoch 82/100\n",
      "70/70 - 4s - 60ms/step - PR: 1.0000 - loss: 1.9157e-07 - val_PR: 0.9956 - val_loss: 0.0405\n",
      "Epoch 83/100\n",
      "70/70 - 4s - 62ms/step - PR: 1.0000 - loss: 1.8398e-07 - val_PR: 0.9956 - val_loss: 0.0403\n",
      "Epoch 84/100\n",
      "70/70 - 4s - 59ms/step - PR: 1.0000 - loss: 1.7558e-07 - val_PR: 0.9956 - val_loss: 0.0406\n",
      "Epoch 85/100\n",
      "70/70 - 4s - 61ms/step - PR: 1.0000 - loss: 1.7063e-07 - val_PR: 0.9956 - val_loss: 0.0405\n",
      "Epoch 86/100\n",
      "70/70 - 4s - 62ms/step - PR: 1.0000 - loss: 1.6514e-07 - val_PR: 0.9956 - val_loss: 0.0405\n",
      "Epoch 87/100\n",
      "70/70 - 4s - 62ms/step - PR: 1.0000 - loss: 1.5588e-07 - val_PR: 0.9956 - val_loss: 0.0409\n",
      "Epoch 88/100\n",
      "70/70 - 4s - 63ms/step - PR: 1.0000 - loss: 1.5372e-07 - val_PR: 0.9956 - val_loss: 0.0410\n",
      "Epoch 89/100\n",
      "70/70 - 4s - 62ms/step - PR: 1.0000 - loss: 1.4430e-07 - val_PR: 0.9956 - val_loss: 0.0413\n",
      "Epoch 90/100\n",
      "70/70 - 4s - 60ms/step - PR: 1.0000 - loss: 1.4010e-07 - val_PR: 0.9956 - val_loss: 0.0415\n",
      "Epoch 91/100\n",
      "70/70 - 4s - 59ms/step - PR: 1.0000 - loss: 1.3498e-07 - val_PR: 0.9956 - val_loss: 0.0413\n",
      "Epoch 92/100\n",
      "70/70 - 4s - 58ms/step - PR: 1.0000 - loss: 1.2906e-07 - val_PR: 0.9956 - val_loss: 0.0412\n",
      "Epoch 93/100\n",
      "70/70 - 4s - 58ms/step - PR: 1.0000 - loss: 1.2750e-07 - val_PR: 0.9956 - val_loss: 0.0413\n",
      "Epoch 94/100\n",
      "70/70 - 4s - 58ms/step - PR: 1.0000 - loss: 1.2174e-07 - val_PR: 0.9956 - val_loss: 0.0416\n",
      "Epoch 95/100\n",
      "70/70 - 4s - 58ms/step - PR: 1.0000 - loss: 1.1479e-07 - val_PR: 0.9956 - val_loss: 0.0415\n",
      "Epoch 96/100\n",
      "70/70 - 4s - 60ms/step - PR: 1.0000 - loss: 1.1415e-07 - val_PR: 0.9956 - val_loss: 0.0416\n",
      "Epoch 97/100\n",
      "70/70 - 4s - 61ms/step - PR: 1.0000 - loss: 1.0903e-07 - val_PR: 0.9956 - val_loss: 0.0419\n",
      "Epoch 98/100\n",
      "70/70 - 4s - 61ms/step - PR: 1.0000 - loss: 1.0359e-07 - val_PR: 0.9956 - val_loss: 0.0423\n",
      "Epoch 99/100\n",
      "70/70 - 4s - 60ms/step - PR: 1.0000 - loss: 1.0117e-07 - val_PR: 0.9956 - val_loss: 0.0418\n",
      "Epoch 100/100\n",
      "70/70 - 4s - 62ms/step - PR: 1.0000 - loss: 9.4710e-08 - val_PR: 0.9956 - val_loss: 0.0422\n"
     ]
    },
    {
     "data": {
      "image/png": "[encoded data removed]",
      "text/plain": [
       "<Figure size 1000x500 with 2 Axes>"
      ]
     },
     "metadata": {},
     "output_type": "display_data"
    }
   ],
   "source": [
    "model_VGG_base_adam = pipeline(shape_train_generator, \n",
    "                          shape_val_generator, \n",
    "                          metric_label='PR',\n",
    "                          optimiser='adam',\n",
    "                          activation='relu',\n",
    "                          epoch=100,\n",
    "                          class_weights=None)"
   ]
  },
  {
   "cell_type": "code",
   "execution_count": null,
   "metadata": {},
   "outputs": [],
   "source": [
    "# save model\n",
    "model_VGG_base_adam.save('model_VGG_base_adam.h5')"
   ]
  },
  {
   "cell_type": "code",
   "execution_count": 36,
   "metadata": {},
   "outputs": [
    {
     "name": "stdout",
     "output_type": "stream",
     "text": [
      "Epoch 1/100\n",
      "70/70 - 7s - 95ms/step - PR: 0.6692 - loss: 1.3853 - val_PR: 0.4741 - val_loss: 1.2417\n",
      "Epoch 2/100\n",
      "70/70 - 4s - 60ms/step - PR: 0.4779 - loss: 1.2221 - val_PR: 0.5111 - val_loss: 1.1762\n",
      "Epoch 3/100\n",
      "70/70 - 4s - 60ms/step - PR: 0.5346 - loss: 1.1552 - val_PR: 0.6051 - val_loss: 1.0767\n",
      "Epoch 4/100\n",
      "70/70 - 4s - 60ms/step - PR: 0.6084 - loss: 1.0551 - val_PR: 0.6387 - val_loss: 1.0056\n",
      "Epoch 5/100\n",
      "70/70 - 4s - 60ms/step - PR: 0.7171 - loss: 0.8888 - val_PR: 0.7319 - val_loss: 0.9257\n",
      "Epoch 6/100\n",
      "70/70 - 4s - 57ms/step - PR: 0.8189 - loss: 0.7063 - val_PR: 0.8980 - val_loss: 0.5814\n",
      "Epoch 7/100\n",
      "70/70 - 4s - 56ms/step - PR: 0.9089 - loss: 0.4921 - val_PR: 0.8719 - val_loss: 0.5835\n",
      "Epoch 8/100\n",
      "70/70 - 4s - 57ms/step - PR: 0.9478 - loss: 0.3559 - val_PR: 0.9517 - val_loss: 0.3521\n",
      "Epoch 9/100\n",
      "70/70 - 4s - 56ms/step - PR: 0.9666 - loss: 0.2677 - val_PR: 0.9784 - val_loss: 0.2443\n",
      "Epoch 10/100\n",
      "70/70 - 4s - 58ms/step - PR: 0.9770 - loss: 0.2157 - val_PR: 0.9707 - val_loss: 0.2223\n",
      "Epoch 11/100\n",
      "70/70 - 4s - 64ms/step - PR: 0.9877 - loss: 0.1513 - val_PR: 0.9850 - val_loss: 0.1649\n",
      "Epoch 12/100\n",
      "70/70 - 4s - 60ms/step - PR: 0.9934 - loss: 0.1068 - val_PR: 0.9874 - val_loss: 0.1563\n",
      "Epoch 13/100\n",
      "70/70 - 4s - 60ms/step - PR: 0.9973 - loss: 0.0746 - val_PR: 0.9917 - val_loss: 0.1249\n",
      "Epoch 14/100\n",
      "70/70 - 4s - 59ms/step - PR: 0.9978 - loss: 0.0617 - val_PR: 0.9900 - val_loss: 0.1271\n",
      "Epoch 15/100\n"
     ]
    },
    {
     "ename": "KeyboardInterrupt",
     "evalue": "",
     "output_type": "error",
     "traceback": [
      "\u001b[0;31m---------------------------------------------------------------------------\u001b[0m",
      "\u001b[0;31mKeyboardInterrupt\u001b[0m                         Traceback (most recent call last)",
      "Cell \u001b[0;32mIn[36], line 1\u001b[0m\n\u001b[0;32m----> 1\u001b[0m model_VGG_base_SGD \u001b[38;5;241m=\u001b[39m pipeline(shape_train_generator, \n\u001b[1;32m      2\u001b[0m                           shape_val_generator, \n\u001b[1;32m      3\u001b[0m                           metric_label\u001b[38;5;241m=\u001b[39m\u001b[38;5;124m'\u001b[39m\u001b[38;5;124mPR\u001b[39m\u001b[38;5;124m'\u001b[39m,\n\u001b[1;32m      4\u001b[0m                           optimiser\u001b[38;5;241m=\u001b[39m\u001b[38;5;124m'\u001b[39m\u001b[38;5;124msgd\u001b[39m\u001b[38;5;124m'\u001b[39m,\n\u001b[1;32m      5\u001b[0m                           activation\u001b[38;5;241m=\u001b[39m\u001b[38;5;124m'\u001b[39m\u001b[38;5;124mrelu\u001b[39m\u001b[38;5;124m'\u001b[39m,\n\u001b[1;32m      6\u001b[0m                           epoch\u001b[38;5;241m=\u001b[39m\u001b[38;5;241m100\u001b[39m,\n\u001b[1;32m      7\u001b[0m                           class_weights\u001b[38;5;241m=\u001b[39m\u001b[38;5;28;01mNone\u001b[39;00m)\n",
      "Cell \u001b[0;32mIn[34], line 4\u001b[0m, in \u001b[0;36mpipeline\u001b[0;34m(train, val, metric_label, optimiser, activation, epoch, class_weights)\u001b[0m\n\u001b[1;32m      2\u001b[0m model \u001b[38;5;241m=\u001b[39m build_model_VGG(input_shape\u001b[38;5;241m=\u001b[39mINPUT_DIM, output_classes\u001b[38;5;241m=\u001b[39mOUTPUT_CLASSES_SHAPE, activation\u001b[38;5;241m=\u001b[39mactivation)\n\u001b[1;32m      3\u001b[0m model \u001b[38;5;241m=\u001b[39m compile_model(model, optimiser\u001b[38;5;241m=\u001b[39moptimiser, loss\u001b[38;5;241m=\u001b[39mLOSS_METRIC, metrics\u001b[38;5;241m=\u001b[39m[METRIC])\n\u001b[0;32m----> 4\u001b[0m history \u001b[38;5;241m=\u001b[39m train_model(model, train, val, epochs\u001b[38;5;241m=\u001b[39mepoch, class_weights\u001b[38;5;241m=\u001b[39mclass_weights)\n\u001b[1;32m      5\u001b[0m plot_performance(history\u001b[38;5;241m=\u001b[39mhistory, metric_label\u001b[38;5;241m=\u001b[39mmetric_label)\n\u001b[1;32m      6\u001b[0m \u001b[38;5;28;01mreturn\u001b[39;00m model\n",
      "Cell \u001b[0;32mIn[32], line 2\u001b[0m, in \u001b[0;36mtrain_model\u001b[0;34m(model, train_generator, val_generator, epochs, class_weights)\u001b[0m\n\u001b[1;32m      1\u001b[0m \u001b[38;5;28;01mdef\u001b[39;00m \u001b[38;5;21mtrain_model\u001b[39m(model, train_generator, val_generator, epochs\u001b[38;5;241m=\u001b[39m\u001b[38;5;241m50\u001b[39m, class_weights\u001b[38;5;241m=\u001b[39m\u001b[38;5;28;01mNone\u001b[39;00m):\n\u001b[0;32m----> 2\u001b[0m     history \u001b[38;5;241m=\u001b[39m model\u001b[38;5;241m.\u001b[39mfit(train_generator, validation_data\u001b[38;5;241m=\u001b[39mval_generator, epochs\u001b[38;5;241m=\u001b[39mepochs, class_weight\u001b[38;5;241m=\u001b[39mclass_weights, verbose\u001b[38;5;241m=\u001b[39m\u001b[38;5;241m2\u001b[39m)\n\u001b[1;32m      3\u001b[0m     \u001b[38;5;28;01mreturn\u001b[39;00m history\n",
      "File \u001b[0;32m~/anaconda3/lib/python3.11/site-packages/keras/src/utils/traceback_utils.py:117\u001b[0m, in \u001b[0;36mfilter_traceback.<locals>.error_handler\u001b[0;34m(*args, **kwargs)\u001b[0m\n\u001b[1;32m    115\u001b[0m filtered_tb \u001b[38;5;241m=\u001b[39m \u001b[38;5;28;01mNone\u001b[39;00m\n\u001b[1;32m    116\u001b[0m \u001b[38;5;28;01mtry\u001b[39;00m:\n\u001b[0;32m--> 117\u001b[0m     \u001b[38;5;28;01mreturn\u001b[39;00m fn(\u001b[38;5;241m*\u001b[39margs, \u001b[38;5;241m*\u001b[39m\u001b[38;5;241m*\u001b[39mkwargs)\n\u001b[1;32m    118\u001b[0m \u001b[38;5;28;01mexcept\u001b[39;00m \u001b[38;5;167;01mException\u001b[39;00m \u001b[38;5;28;01mas\u001b[39;00m e:\n\u001b[1;32m    119\u001b[0m     filtered_tb \u001b[38;5;241m=\u001b[39m _process_traceback_frames(e\u001b[38;5;241m.\u001b[39m__traceback__)\n",
      "File \u001b[0;32m~/anaconda3/lib/python3.11/site-packages/keras/src/backend/tensorflow/trainer.py:314\u001b[0m, in \u001b[0;36mTensorFlowTrainer.fit\u001b[0;34m(self, x, y, batch_size, epochs, verbose, callbacks, validation_split, validation_data, shuffle, class_weight, sample_weight, initial_epoch, steps_per_epoch, validation_steps, validation_batch_size, validation_freq)\u001b[0m\n\u001b[1;32m    312\u001b[0m \u001b[38;5;28;01mfor\u001b[39;00m step, iterator \u001b[38;5;129;01min\u001b[39;00m epoch_iterator\u001b[38;5;241m.\u001b[39menumerate_epoch():\n\u001b[1;32m    313\u001b[0m     callbacks\u001b[38;5;241m.\u001b[39mon_train_batch_begin(step)\n\u001b[0;32m--> 314\u001b[0m     logs \u001b[38;5;241m=\u001b[39m \u001b[38;5;28mself\u001b[39m\u001b[38;5;241m.\u001b[39mtrain_function(iterator)\n\u001b[1;32m    315\u001b[0m     logs \u001b[38;5;241m=\u001b[39m \u001b[38;5;28mself\u001b[39m\u001b[38;5;241m.\u001b[39m_pythonify_logs(logs)\n\u001b[1;32m    316\u001b[0m     callbacks\u001b[38;5;241m.\u001b[39mon_train_batch_end(step, logs)\n",
      "File \u001b[0;32m~/anaconda3/lib/python3.11/site-packages/tensorflow/python/util/traceback_utils.py:150\u001b[0m, in \u001b[0;36mfilter_traceback.<locals>.error_handler\u001b[0;34m(*args, **kwargs)\u001b[0m\n\u001b[1;32m    148\u001b[0m filtered_tb \u001b[38;5;241m=\u001b[39m \u001b[38;5;28;01mNone\u001b[39;00m\n\u001b[1;32m    149\u001b[0m \u001b[38;5;28;01mtry\u001b[39;00m:\n\u001b[0;32m--> 150\u001b[0m   \u001b[38;5;28;01mreturn\u001b[39;00m fn(\u001b[38;5;241m*\u001b[39margs, \u001b[38;5;241m*\u001b[39m\u001b[38;5;241m*\u001b[39mkwargs)\n\u001b[1;32m    151\u001b[0m \u001b[38;5;28;01mexcept\u001b[39;00m \u001b[38;5;167;01mException\u001b[39;00m \u001b[38;5;28;01mas\u001b[39;00m e:\n\u001b[1;32m    152\u001b[0m   filtered_tb \u001b[38;5;241m=\u001b[39m _process_traceback_frames(e\u001b[38;5;241m.\u001b[39m__traceback__)\n",
      "File \u001b[0;32m~/anaconda3/lib/python3.11/site-packages/tensorflow/python/eager/polymorphic_function/polymorphic_function.py:833\u001b[0m, in \u001b[0;36mFunction.__call__\u001b[0;34m(self, *args, **kwds)\u001b[0m\n\u001b[1;32m    830\u001b[0m compiler \u001b[38;5;241m=\u001b[39m \u001b[38;5;124m\"\u001b[39m\u001b[38;5;124mxla\u001b[39m\u001b[38;5;124m\"\u001b[39m \u001b[38;5;28;01mif\u001b[39;00m \u001b[38;5;28mself\u001b[39m\u001b[38;5;241m.\u001b[39m_jit_compile \u001b[38;5;28;01melse\u001b[39;00m \u001b[38;5;124m\"\u001b[39m\u001b[38;5;124mnonXla\u001b[39m\u001b[38;5;124m\"\u001b[39m\n\u001b[1;32m    832\u001b[0m \u001b[38;5;28;01mwith\u001b[39;00m OptionalXlaContext(\u001b[38;5;28mself\u001b[39m\u001b[38;5;241m.\u001b[39m_jit_compile):\n\u001b[0;32m--> 833\u001b[0m   result \u001b[38;5;241m=\u001b[39m \u001b[38;5;28mself\u001b[39m\u001b[38;5;241m.\u001b[39m_call(\u001b[38;5;241m*\u001b[39margs, \u001b[38;5;241m*\u001b[39m\u001b[38;5;241m*\u001b[39mkwds)\n\u001b[1;32m    835\u001b[0m new_tracing_count \u001b[38;5;241m=\u001b[39m \u001b[38;5;28mself\u001b[39m\u001b[38;5;241m.\u001b[39mexperimental_get_tracing_count()\n\u001b[1;32m    836\u001b[0m without_tracing \u001b[38;5;241m=\u001b[39m (tracing_count \u001b[38;5;241m==\u001b[39m new_tracing_count)\n",
      "File \u001b[0;32m~/anaconda3/lib/python3.11/site-packages/tensorflow/python/eager/polymorphic_function/polymorphic_function.py:878\u001b[0m, in \u001b[0;36mFunction._call\u001b[0;34m(self, *args, **kwds)\u001b[0m\n\u001b[1;32m    875\u001b[0m \u001b[38;5;28mself\u001b[39m\u001b[38;5;241m.\u001b[39m_lock\u001b[38;5;241m.\u001b[39mrelease()\n\u001b[1;32m    876\u001b[0m \u001b[38;5;66;03m# In this case we have not created variables on the first call. So we can\u001b[39;00m\n\u001b[1;32m    877\u001b[0m \u001b[38;5;66;03m# run the first trace but we should fail if variables are created.\u001b[39;00m\n\u001b[0;32m--> 878\u001b[0m results \u001b[38;5;241m=\u001b[39m tracing_compilation\u001b[38;5;241m.\u001b[39mcall_function(\n\u001b[1;32m    879\u001b[0m     args, kwds, \u001b[38;5;28mself\u001b[39m\u001b[38;5;241m.\u001b[39m_variable_creation_config\n\u001b[1;32m    880\u001b[0m )\n\u001b[1;32m    881\u001b[0m \u001b[38;5;28;01mif\u001b[39;00m \u001b[38;5;28mself\u001b[39m\u001b[38;5;241m.\u001b[39m_created_variables:\n\u001b[1;32m    882\u001b[0m   \u001b[38;5;28;01mraise\u001b[39;00m \u001b[38;5;167;01mValueError\u001b[39;00m(\u001b[38;5;124m\"\u001b[39m\u001b[38;5;124mCreating variables on a non-first call to a function\u001b[39m\u001b[38;5;124m\"\u001b[39m\n\u001b[1;32m    883\u001b[0m                    \u001b[38;5;124m\"\u001b[39m\u001b[38;5;124m decorated with tf.function.\u001b[39m\u001b[38;5;124m\"\u001b[39m)\n",
      "File \u001b[0;32m~/anaconda3/lib/python3.11/site-packages/tensorflow/python/eager/polymorphic_function/tracing_compilation.py:139\u001b[0m, in \u001b[0;36mcall_function\u001b[0;34m(args, kwargs, tracing_options)\u001b[0m\n\u001b[1;32m    137\u001b[0m bound_args \u001b[38;5;241m=\u001b[39m function\u001b[38;5;241m.\u001b[39mfunction_type\u001b[38;5;241m.\u001b[39mbind(\u001b[38;5;241m*\u001b[39margs, \u001b[38;5;241m*\u001b[39m\u001b[38;5;241m*\u001b[39mkwargs)\n\u001b[1;32m    138\u001b[0m flat_inputs \u001b[38;5;241m=\u001b[39m function\u001b[38;5;241m.\u001b[39mfunction_type\u001b[38;5;241m.\u001b[39munpack_inputs(bound_args)\n\u001b[0;32m--> 139\u001b[0m \u001b[38;5;28;01mreturn\u001b[39;00m function\u001b[38;5;241m.\u001b[39m_call_flat(  \u001b[38;5;66;03m# pylint: disable=protected-access\u001b[39;00m\n\u001b[1;32m    140\u001b[0m     flat_inputs, captured_inputs\u001b[38;5;241m=\u001b[39mfunction\u001b[38;5;241m.\u001b[39mcaptured_inputs\n\u001b[1;32m    141\u001b[0m )\n",
      "File \u001b[0;32m~/anaconda3/lib/python3.11/site-packages/tensorflow/python/eager/polymorphic_function/concrete_function.py:1322\u001b[0m, in \u001b[0;36mConcreteFunction._call_flat\u001b[0;34m(self, tensor_inputs, captured_inputs)\u001b[0m\n\u001b[1;32m   1318\u001b[0m possible_gradient_type \u001b[38;5;241m=\u001b[39m gradients_util\u001b[38;5;241m.\u001b[39mPossibleTapeGradientTypes(args)\n\u001b[1;32m   1319\u001b[0m \u001b[38;5;28;01mif\u001b[39;00m (possible_gradient_type \u001b[38;5;241m==\u001b[39m gradients_util\u001b[38;5;241m.\u001b[39mPOSSIBLE_GRADIENT_TYPES_NONE\n\u001b[1;32m   1320\u001b[0m     \u001b[38;5;129;01mand\u001b[39;00m executing_eagerly):\n\u001b[1;32m   1321\u001b[0m   \u001b[38;5;66;03m# No tape is watching; skip to running the function.\u001b[39;00m\n\u001b[0;32m-> 1322\u001b[0m   \u001b[38;5;28;01mreturn\u001b[39;00m \u001b[38;5;28mself\u001b[39m\u001b[38;5;241m.\u001b[39m_inference_function\u001b[38;5;241m.\u001b[39mcall_preflattened(args)\n\u001b[1;32m   1323\u001b[0m forward_backward \u001b[38;5;241m=\u001b[39m \u001b[38;5;28mself\u001b[39m\u001b[38;5;241m.\u001b[39m_select_forward_and_backward_functions(\n\u001b[1;32m   1324\u001b[0m     args,\n\u001b[1;32m   1325\u001b[0m     possible_gradient_type,\n\u001b[1;32m   1326\u001b[0m     executing_eagerly)\n\u001b[1;32m   1327\u001b[0m forward_function, args_with_tangents \u001b[38;5;241m=\u001b[39m forward_backward\u001b[38;5;241m.\u001b[39mforward()\n",
      "File \u001b[0;32m~/anaconda3/lib/python3.11/site-packages/tensorflow/python/eager/polymorphic_function/atomic_function.py:216\u001b[0m, in \u001b[0;36mAtomicFunction.call_preflattened\u001b[0;34m(self, args)\u001b[0m\n\u001b[1;32m    214\u001b[0m \u001b[38;5;28;01mdef\u001b[39;00m \u001b[38;5;21mcall_preflattened\u001b[39m(\u001b[38;5;28mself\u001b[39m, args: Sequence[core\u001b[38;5;241m.\u001b[39mTensor]) \u001b[38;5;241m-\u001b[39m\u001b[38;5;241m>\u001b[39m Any:\n\u001b[1;32m    215\u001b[0m \u001b[38;5;250m  \u001b[39m\u001b[38;5;124;03m\"\"\"Calls with flattened tensor inputs and returns the structured output.\"\"\"\u001b[39;00m\n\u001b[0;32m--> 216\u001b[0m   flat_outputs \u001b[38;5;241m=\u001b[39m \u001b[38;5;28mself\u001b[39m\u001b[38;5;241m.\u001b[39mcall_flat(\u001b[38;5;241m*\u001b[39margs)\n\u001b[1;32m    217\u001b[0m   \u001b[38;5;28;01mreturn\u001b[39;00m \u001b[38;5;28mself\u001b[39m\u001b[38;5;241m.\u001b[39mfunction_type\u001b[38;5;241m.\u001b[39mpack_output(flat_outputs)\n",
      "File \u001b[0;32m~/anaconda3/lib/python3.11/site-packages/tensorflow/python/eager/polymorphic_function/atomic_function.py:251\u001b[0m, in \u001b[0;36mAtomicFunction.call_flat\u001b[0;34m(self, *args)\u001b[0m\n\u001b[1;32m    249\u001b[0m \u001b[38;5;28;01mwith\u001b[39;00m record\u001b[38;5;241m.\u001b[39mstop_recording():\n\u001b[1;32m    250\u001b[0m   \u001b[38;5;28;01mif\u001b[39;00m \u001b[38;5;28mself\u001b[39m\u001b[38;5;241m.\u001b[39m_bound_context\u001b[38;5;241m.\u001b[39mexecuting_eagerly():\n\u001b[0;32m--> 251\u001b[0m     outputs \u001b[38;5;241m=\u001b[39m \u001b[38;5;28mself\u001b[39m\u001b[38;5;241m.\u001b[39m_bound_context\u001b[38;5;241m.\u001b[39mcall_function(\n\u001b[1;32m    252\u001b[0m         \u001b[38;5;28mself\u001b[39m\u001b[38;5;241m.\u001b[39mname,\n\u001b[1;32m    253\u001b[0m         \u001b[38;5;28mlist\u001b[39m(args),\n\u001b[1;32m    254\u001b[0m         \u001b[38;5;28mlen\u001b[39m(\u001b[38;5;28mself\u001b[39m\u001b[38;5;241m.\u001b[39mfunction_type\u001b[38;5;241m.\u001b[39mflat_outputs),\n\u001b[1;32m    255\u001b[0m     )\n\u001b[1;32m    256\u001b[0m   \u001b[38;5;28;01melse\u001b[39;00m:\n\u001b[1;32m    257\u001b[0m     outputs \u001b[38;5;241m=\u001b[39m make_call_op_in_graph(\n\u001b[1;32m    258\u001b[0m         \u001b[38;5;28mself\u001b[39m,\n\u001b[1;32m    259\u001b[0m         \u001b[38;5;28mlist\u001b[39m(args),\n\u001b[1;32m    260\u001b[0m         \u001b[38;5;28mself\u001b[39m\u001b[38;5;241m.\u001b[39m_bound_context\u001b[38;5;241m.\u001b[39mfunction_call_options\u001b[38;5;241m.\u001b[39mas_attrs(),\n\u001b[1;32m    261\u001b[0m     )\n",
      "File \u001b[0;32m~/anaconda3/lib/python3.11/site-packages/tensorflow/python/eager/context.py:1500\u001b[0m, in \u001b[0;36mContext.call_function\u001b[0;34m(self, name, tensor_inputs, num_outputs)\u001b[0m\n\u001b[1;32m   1498\u001b[0m cancellation_context \u001b[38;5;241m=\u001b[39m cancellation\u001b[38;5;241m.\u001b[39mcontext()\n\u001b[1;32m   1499\u001b[0m \u001b[38;5;28;01mif\u001b[39;00m cancellation_context \u001b[38;5;129;01mis\u001b[39;00m \u001b[38;5;28;01mNone\u001b[39;00m:\n\u001b[0;32m-> 1500\u001b[0m   outputs \u001b[38;5;241m=\u001b[39m execute\u001b[38;5;241m.\u001b[39mexecute(\n\u001b[1;32m   1501\u001b[0m       name\u001b[38;5;241m.\u001b[39mdecode(\u001b[38;5;124m\"\u001b[39m\u001b[38;5;124mutf-8\u001b[39m\u001b[38;5;124m\"\u001b[39m),\n\u001b[1;32m   1502\u001b[0m       num_outputs\u001b[38;5;241m=\u001b[39mnum_outputs,\n\u001b[1;32m   1503\u001b[0m       inputs\u001b[38;5;241m=\u001b[39mtensor_inputs,\n\u001b[1;32m   1504\u001b[0m       attrs\u001b[38;5;241m=\u001b[39mattrs,\n\u001b[1;32m   1505\u001b[0m       ctx\u001b[38;5;241m=\u001b[39m\u001b[38;5;28mself\u001b[39m,\n\u001b[1;32m   1506\u001b[0m   )\n\u001b[1;32m   1507\u001b[0m \u001b[38;5;28;01melse\u001b[39;00m:\n\u001b[1;32m   1508\u001b[0m   outputs \u001b[38;5;241m=\u001b[39m execute\u001b[38;5;241m.\u001b[39mexecute_with_cancellation(\n\u001b[1;32m   1509\u001b[0m       name\u001b[38;5;241m.\u001b[39mdecode(\u001b[38;5;124m\"\u001b[39m\u001b[38;5;124mutf-8\u001b[39m\u001b[38;5;124m\"\u001b[39m),\n\u001b[1;32m   1510\u001b[0m       num_outputs\u001b[38;5;241m=\u001b[39mnum_outputs,\n\u001b[0;32m   (...)\u001b[0m\n\u001b[1;32m   1514\u001b[0m       cancellation_manager\u001b[38;5;241m=\u001b[39mcancellation_context,\n\u001b[1;32m   1515\u001b[0m   )\n",
      "File \u001b[0;32m~/anaconda3/lib/python3.11/site-packages/tensorflow/python/eager/execute.py:53\u001b[0m, in \u001b[0;36mquick_execute\u001b[0;34m(op_name, num_outputs, inputs, attrs, ctx, name)\u001b[0m\n\u001b[1;32m     51\u001b[0m \u001b[38;5;28;01mtry\u001b[39;00m:\n\u001b[1;32m     52\u001b[0m   ctx\u001b[38;5;241m.\u001b[39mensure_initialized()\n\u001b[0;32m---> 53\u001b[0m   tensors \u001b[38;5;241m=\u001b[39m pywrap_tfe\u001b[38;5;241m.\u001b[39mTFE_Py_Execute(ctx\u001b[38;5;241m.\u001b[39m_handle, device_name, op_name,\n\u001b[1;32m     54\u001b[0m                                       inputs, attrs, num_outputs)\n\u001b[1;32m     55\u001b[0m \u001b[38;5;28;01mexcept\u001b[39;00m core\u001b[38;5;241m.\u001b[39m_NotOkStatusException \u001b[38;5;28;01mas\u001b[39;00m e:\n\u001b[1;32m     56\u001b[0m   \u001b[38;5;28;01mif\u001b[39;00m name \u001b[38;5;129;01mis\u001b[39;00m \u001b[38;5;129;01mnot\u001b[39;00m \u001b[38;5;28;01mNone\u001b[39;00m:\n",
      "\u001b[0;31mKeyboardInterrupt\u001b[0m: "
     ]
    }
   ],
   "source": [
    "model_VGG_base_SGD = pipeline(shape_train_generator, \n",
    "                          shape_val_generator, \n",
    "                          metric_label='PR',\n",
    "                          optimiser='sgd',\n",
    "                          activation='relu',\n",
    "                          epoch=100,\n",
    "                          class_weights=None)"
   ]
  },
  {
   "cell_type": "markdown",
   "metadata": {},
   "source": [
    "Overfitting"
   ]
  },
  {
   "cell_type": "markdown",
   "metadata": {},
   "source": [
    "Class Re-Weighting"
   ]
  },
  {
   "cell_type": "code",
   "execution_count": null,
   "metadata": {},
   "outputs": [],
   "source": [
    "def calc_class_weights(df, label):\n",
    "    unique_labels = train[label].unique()\n",
    "    weights =  compute_class_weight(class_weight=\"balanced\", classes=df[label].unique(), y=df[label].to_numpy())\n",
    "    class_weights = dict(zip(unique_labels, weights))\n",
    "    return class_weights"
   ]
  },
  {
   "cell_type": "code",
   "execution_count": null,
   "metadata": {},
   "outputs": [
    {
     "data": {
      "text/plain": [
       "{'0': 2.620118343195266,\n",
       " '4': 0.7978378378378378,\n",
       " '2': 0.42011385199240986,\n",
       " '1': 17.712,\n",
       " '3': 1.0773722627737226}"
      ]
     },
     "execution_count": 39,
     "metadata": {},
     "output_type": "execute_result"
    }
   ],
   "source": [
    "shape_weights = calc_class_weights(df=train, label='Shape')\n",
    "shape_weights"
   ]
  },
  {
   "cell_type": "code",
   "execution_count": null,
   "metadata": {},
   "outputs": [
    {
     "data": {
      "text/plain": [
       "{'9': 0.8187869822485208,\n",
       " '15': 0.3318345323741007,\n",
       " '3': 1.002717391304348,\n",
       " '5': 1.845,\n",
       " '7': 0.9543103448275863,\n",
       " '11': 0.7321428571428571,\n",
       " '0': 0.8092105263157895,\n",
       " '14': 1.8699324324324325,\n",
       " '10': 2.3857758620689653,\n",
       " '13': 1.1826923076923077,\n",
       " '6': 0.615,\n",
       " '12': 5.535,\n",
       " '8': 0.8386363636363636,\n",
       " '1': 1.1628151260504203,\n",
       " '2': 2.4276315789473686,\n",
       " '4': 1.9767857142857144}"
      ]
     },
     "execution_count": 40,
     "metadata": {},
     "output_type": "execute_result"
    }
   ],
   "source": [
    "type_weights = calc_class_weights(df=train, label='Type')\n",
    "type_weights"
   ]
  },
  {
   "cell_type": "code",
   "execution_count": null,
   "metadata": {},
   "outputs": [],
   "source": [
    "model_VGG_base_SGD_reweighted = pipeline(shape_train_generator, \n",
    "                          shape_val_generator, \n",
    "                          metric_label='PR',\n",
    "                          optimiser='sgd',\n",
    "                          activation='relu',\n",
    "                          epoch=100,\n",
    "                          class_weights=shape_weights)"
   ]
  },
  {
   "cell_type": "markdown",
   "metadata": {},
   "source": [
    "Regularisation"
   ]
  },
  {
   "cell_type": "code",
   "execution_count": null,
   "metadata": {},
   "outputs": [],
   "source": [
    "def build_model_VGG_reg(hp):    \n",
    "    lambda_value = hp.Float('lambda', min_value=0.0001, max_value=0.1, sampling='log', default=0.001)\n",
    "    model = tf.keras.Sequential([\n",
    "        \n",
    "        tf.keras.layers.Conv2D(28, (3, 3), activation='relu', padding='same', \n",
    "                            kernel_regularizer=tf.keras.regularizers.l2(lambda_value), input_shape=INPUT_DIM),\n",
    "        tf.keras.layers.Conv2D(28, (3, 3), activation='relu', padding='same', \n",
    "                            kernel_regularizer=tf.keras.regularizers.l2(lambda_value)),\n",
    "        tf.keras.layers.MaxPooling2D((2, 2)),\n",
    "        \n",
    "        \n",
    "        tf.keras.layers.Conv2D(64, (3, 3), activation='relu', padding='same', \n",
    "                            kernel_regularizer=tf.keras.regularizers.l2(lambda_value)),\n",
    "        tf.keras.layers.Conv2D(64, (3, 3), activation='relu', padding='same', \n",
    "                            kernel_regularizer=tf.keras.regularizers.l2(lambda_value)),\n",
    "        tf.keras.layers.MaxPooling2D((2, 2)),\n",
    "        \n",
    "        \n",
    "        tf.keras.layers.Conv2D(128, (3, 3), activation='relu', padding='same', \n",
    "                            kernel_regularizer=tf.keras.regularizers.l2(lambda_value)),\n",
    "        tf.keras.layers.Conv2D(128, (3, 3), activation='relu', padding='same', \n",
    "                            kernel_regularizer=tf.keras.regularizers.l2(lambda_value)),\n",
    "        tf.keras.layers.MaxPooling2D((2, 2)),\n",
    "        \n",
    "        tf.keras.layers.Flatten(),\n",
    "        tf.keras.layers.Dense(128, activation='relu'),\n",
    "        tf.keras.layers.Dense(OUTPUT_CLASSES_SHAPE, activation = \"softmax\"),\n",
    "    ])\n",
    "\n",
    "    model.compile(optimizer='sgd', loss='categorical_crossentropy', metrics=[METRIC])\n",
    "\n",
    "    return model"
   ]
  },
  {
   "cell_type": "code",
   "execution_count": null,
   "metadata": {},
   "outputs": [
    {
     "name": "stdout",
     "output_type": "stream",
     "text": [
      "Reloading Tuner from ./lambda_tuning/tuner0.json\n"
     ]
    }
   ],
   "source": [
    "# Initialize the tuner\n",
    "lambda_tuner = kt.RandomSearch(\n",
    "    build_model_VGG_reg,\n",
    "    objective='val_loss',\n",
    "    max_trials=3,\n",
    "    project_name='lambda_tuning')"
   ]
  },
  {
   "cell_type": "code",
   "execution_count": null,
   "metadata": {},
   "outputs": [],
   "source": [
    "lambda_tuner.search(shape_train_generator, validation_data=shape_val_generator, class_weight=shape_weights, epochs=100)"
   ]
  },
  {
   "cell_type": "code",
   "execution_count": null,
   "metadata": {},
   "outputs": [],
   "source": []
  },
  {
   "cell_type": "code",
   "execution_count": null,
   "metadata": {},
   "outputs": [],
   "source": []
  }
 ],
 "metadata": {
  "kernelspec": {
   "display_name": "base",
   "language": "python",
   "name": "python3"
  },
  "language_info": {
   "codemirror_mode": {
    "name": "ipython",
    "version": 3
   },
   "file_extension": ".py",
   "mimetype": "text/x-python",
   "name": "python",
   "nbconvert_exporter": "python",
   "pygments_lexer": "ipython3",
   "version": "3.11.7"
  }
 },
 "nbformat": 4,
 "nbformat_minor": 2
}
