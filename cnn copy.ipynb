{
 "cells": [
  {
   "cell_type": "code",
   "execution_count": 1,
   "metadata": {},
   "outputs": [],
   "source": [
    "# import common libraries\n",
    "import pandas as pd\n",
    "import numpy as np\n",
    "import matplotlib.pyplot as plt"
   ]
  },
  {
   "cell_type": "code",
   "execution_count": 2,
   "metadata": {},
   "outputs": [
    {
     "data": {
      "text/html": [
       "<div>\n",
       "<style scoped>\n",
       "    .dataframe tbody tr th:only-of-type {\n",
       "        vertical-align: middle;\n",
       "    }\n",
       "\n",
       "    .dataframe tbody tr th {\n",
       "        vertical-align: top;\n",
       "    }\n",
       "\n",
       "    .dataframe thead th {\n",
       "        text-align: right;\n",
       "    }\n",
       "</style>\n",
       "<table border=\"1\" class=\"dataframe\">\n",
       "  <thead>\n",
       "    <tr style=\"text-align: right;\">\n",
       "      <th></th>\n",
       "      <th>Path</th>\n",
       "      <th>Shape</th>\n",
       "    </tr>\n",
       "  </thead>\n",
       "  <tbody>\n",
       "    <tr>\n",
       "      <th>0</th>\n",
       "      <td>Dataset/trafficsigns_dataset/diamond/rightofwa...</td>\n",
       "      <td>diamond</td>\n",
       "    </tr>\n",
       "    <tr>\n",
       "      <th>1</th>\n",
       "      <td>Dataset/trafficsigns_dataset/diamond/rightofwa...</td>\n",
       "      <td>diamond</td>\n",
       "    </tr>\n",
       "    <tr>\n",
       "      <th>2</th>\n",
       "      <td>Dataset/trafficsigns_dataset/diamond/rightofwa...</td>\n",
       "      <td>diamond</td>\n",
       "    </tr>\n",
       "    <tr>\n",
       "      <th>3</th>\n",
       "      <td>Dataset/trafficsigns_dataset/diamond/rightofwa...</td>\n",
       "      <td>diamond</td>\n",
       "    </tr>\n",
       "    <tr>\n",
       "      <th>4</th>\n",
       "      <td>Dataset/trafficsigns_dataset/diamond/rightofwa...</td>\n",
       "      <td>diamond</td>\n",
       "    </tr>\n",
       "  </tbody>\n",
       "</table>\n",
       "</div>"
      ],
      "text/plain": [
       "                                                Path    Shape\n",
       "0  Dataset/trafficsigns_dataset/diamond/rightofwa...  diamond\n",
       "1  Dataset/trafficsigns_dataset/diamond/rightofwa...  diamond\n",
       "2  Dataset/trafficsigns_dataset/diamond/rightofwa...  diamond\n",
       "3  Dataset/trafficsigns_dataset/diamond/rightofwa...  diamond\n",
       "4  Dataset/trafficsigns_dataset/diamond/rightofwa...  diamond"
      ]
     },
     "execution_count": 2,
     "metadata": {},
     "output_type": "execute_result"
    }
   ],
   "source": [
    "# Load the dataset\n",
    "shape_data = pd.read_csv('Dataset/csv/shape_preprocessed.csv')\n",
    "shape_data.head()"
   ]
  },
  {
   "cell_type": "code",
   "execution_count": 3,
   "metadata": {},
   "outputs": [],
   "source": [
    "# Declare the number of classes in the dataset\n",
    "OUTPUT_CLASSES_SHAPE = 5"
   ]
  },
  {
   "cell_type": "markdown",
   "metadata": {},
   "source": [
    "Considerable class imbalance can be observed in the dataset. Hence we perform Stratified split to ensure that the distribution of classes is the same in both training and validation sets."
   ]
  },
  {
   "cell_type": "code",
   "execution_count": 4,
   "metadata": {},
   "outputs": [],
   "source": [
    "# split shape data into train, test, and validation sets\n",
    "from sklearn.model_selection import train_test_split\n",
    "train_data, test_data = train_test_split(shape_data, test_size=0.2, random_state=42, stratify=shape_data['Shape'])\n",
    "train_data, val_data = train_test_split(train_data, test_size=0.20, random_state=42, stratify=train_data['Shape'])"
   ]
  },
  {
   "cell_type": "markdown",
   "metadata": {},
   "source": [
    "From the above figure it is clear that we have preserved the class distribution in training, validation and test sets."
   ]
  },
  {
   "cell_type": "code",
   "execution_count": 5,
   "metadata": {},
   "outputs": [
    {
     "name": "stdout",
     "output_type": "stream",
     "text": [
      "Train data : 2367, Val Data: 592, Test Data: 740\n"
     ]
    }
   ],
   "source": [
    "# print the shape of the train, validation, and test sets\n",
    "print(\"Train data : {}, Val Data: {}, Test Data: {}\".format(train_data.shape[0], val_data.shape[0], test_data.shape[0]))"
   ]
  },
  {
   "cell_type": "code",
   "execution_count": 6,
   "metadata": {},
   "outputs": [
    {
     "data": {
      "text/plain": [
       "Shape\n",
       "round       1126\n",
       "triangle     593\n",
       "square       440\n",
       "diamond      181\n",
       "hex           27\n",
       "Name: count, dtype: int64"
      ]
     },
     "execution_count": 6,
     "metadata": {},
     "output_type": "execute_result"
    }
   ],
   "source": [
    "#copy train_data to new independent dataframe\n",
    "train_data_new = train_data.copy()\n",
    "train_data_new.head()\n",
    "train_data_new['Shape'].value_counts()"
   ]
  },
  {
   "cell_type": "code",
   "execution_count": 7,
   "metadata": {},
   "outputs": [],
   "source": [
    "# Convert the boolean encoding to integer\n",
    "def bool_to_int(df_encoded) -> pd.DataFrame:\n",
    "    \"\"\"Convert boolean encoding to integer encoding\"\"\"\n",
    "    for col in df_encoded.columns:\n",
    "        if df_encoded[col].dtype == bool:\n",
    "            df_encoded[col] = df_encoded[col].astype(int)\n",
    "    return df_encoded"
   ]
  },
  {
   "cell_type": "code",
   "execution_count": 8,
   "metadata": {},
   "outputs": [],
   "source": [
    "# One-hot encode 'Shape' column in the train data\n",
    "train_data = pd.get_dummies(train_data, columns=['Shape'])\n",
    "\n",
    "# One-hot encode 'Shape' column in the validation data\n",
    "val_data = pd.get_dummies(val_data, columns=['Shape'])\n",
    "\n",
    "# One-hot encode 'Shape' column in the test data\n",
    "test_data = pd.get_dummies(test_data, columns=['Shape'])"
   ]
  },
  {
   "cell_type": "code",
   "execution_count": 9,
   "metadata": {},
   "outputs": [
    {
     "data": {
      "text/html": [
       "<div>\n",
       "<style scoped>\n",
       "    .dataframe tbody tr th:only-of-type {\n",
       "        vertical-align: middle;\n",
       "    }\n",
       "\n",
       "    .dataframe tbody tr th {\n",
       "        vertical-align: top;\n",
       "    }\n",
       "\n",
       "    .dataframe thead th {\n",
       "        text-align: right;\n",
       "    }\n",
       "</style>\n",
       "<table border=\"1\" class=\"dataframe\">\n",
       "  <thead>\n",
       "    <tr style=\"text-align: right;\">\n",
       "      <th></th>\n",
       "      <th>Path</th>\n",
       "      <th>Shape_diamond</th>\n",
       "      <th>Shape_hex</th>\n",
       "      <th>Shape_round</th>\n",
       "      <th>Shape_square</th>\n",
       "      <th>Shape_triangle</th>\n",
       "    </tr>\n",
       "  </thead>\n",
       "  <tbody>\n",
       "    <tr>\n",
       "      <th>1422</th>\n",
       "      <td>Dataset/trafficsigns_dataset/triangle/warning/...</td>\n",
       "      <td>0</td>\n",
       "      <td>0</td>\n",
       "      <td>0</td>\n",
       "      <td>0</td>\n",
       "      <td>1</td>\n",
       "    </tr>\n",
       "    <tr>\n",
       "      <th>782</th>\n",
       "      <td>Dataset/trafficsigns_dataset/square/continue/0...</td>\n",
       "      <td>0</td>\n",
       "      <td>0</td>\n",
       "      <td>0</td>\n",
       "      <td>1</td>\n",
       "      <td>0</td>\n",
       "    </tr>\n",
       "    <tr>\n",
       "      <th>143</th>\n",
       "      <td>Dataset/trafficsigns_dataset/diamond/rightofwa...</td>\n",
       "      <td>1</td>\n",
       "      <td>0</td>\n",
       "      <td>0</td>\n",
       "      <td>0</td>\n",
       "      <td>0</td>\n",
       "    </tr>\n",
       "    <tr>\n",
       "      <th>443</th>\n",
       "      <td>Dataset/trafficsigns_dataset/square/parking/00...</td>\n",
       "      <td>0</td>\n",
       "      <td>0</td>\n",
       "      <td>0</td>\n",
       "      <td>1</td>\n",
       "      <td>0</td>\n",
       "    </tr>\n",
       "    <tr>\n",
       "      <th>1878</th>\n",
       "      <td>Dataset/trafficsigns_dataset/triangle/warning/...</td>\n",
       "      <td>0</td>\n",
       "      <td>0</td>\n",
       "      <td>0</td>\n",
       "      <td>0</td>\n",
       "      <td>1</td>\n",
       "    </tr>\n",
       "  </tbody>\n",
       "</table>\n",
       "</div>"
      ],
      "text/plain": [
       "                                                   Path  Shape_diamond  \\\n",
       "1422  Dataset/trafficsigns_dataset/triangle/warning/...              0   \n",
       "782   Dataset/trafficsigns_dataset/square/continue/0...              0   \n",
       "143   Dataset/trafficsigns_dataset/diamond/rightofwa...              1   \n",
       "443   Dataset/trafficsigns_dataset/square/parking/00...              0   \n",
       "1878  Dataset/trafficsigns_dataset/triangle/warning/...              0   \n",
       "\n",
       "      Shape_hex  Shape_round  Shape_square  Shape_triangle  \n",
       "1422          0            0             0               1  \n",
       "782           0            0             1               0  \n",
       "143           0            0             0               0  \n",
       "443           0            0             1               0  \n",
       "1878          0            0             0               1  "
      ]
     },
     "execution_count": 9,
     "metadata": {},
     "output_type": "execute_result"
    }
   ],
   "source": [
    "# Convert boolean encoding to integer encoding\n",
    "train_data = bool_to_int(train_data)\n",
    "val_data = bool_to_int(val_data)\n",
    "test_data = bool_to_int(test_data)\n",
    "\n",
    "train_data.head()"
   ]
  },
  {
   "cell_type": "code",
   "execution_count": 12,
   "metadata": {},
   "outputs": [
    {
     "name": "stdout",
     "output_type": "stream",
     "text": [
      "Found 2367 validated image filenames.\n",
      "Found 592 validated image filenames.\n",
      "Found 740 validated image filenames.\n"
     ]
    }
   ],
   "source": [
    "from tensorflow.keras.preprocessing.image import ImageDataGenerator\n",
    "\n",
    "# normalize pixel values and build a data generator\n",
    "train_datagen = ImageDataGenerator(rescale=1./255, data_format='channels_last')\n",
    "val_datagen = ImageDataGenerator(rescale=1./255, data_format='channels_last')\n",
    "# normalize pixel values and build a data generator for test data\n",
    "test_datagen = ImageDataGenerator(rescale=1./255, data_format='channels_last')\n",
    "\n",
    "# choose 32 as the batch size\n",
    "batch_size = 32\n",
    "\n",
    "# train and validation generators\n",
    "train_generator = train_datagen.flow_from_dataframe(\n",
    "        dataframe=train_data,\n",
    "        directory='./',\n",
    "        x_col=\"Path\",\n",
    "        y_col=train_data.columns[1:],\n",
    "        # All images are already 28x28 so retain the size\n",
    "        target_size=(28, 28),\n",
    "        batch_size=batch_size,\n",
    "        color_mode='grayscale',\n",
    "        class_mode='raw')\n",
    "\n",
    "validation_generator = val_datagen.flow_from_dataframe(\n",
    "        dataframe=val_data,\n",
    "        directory='./',\n",
    "        x_col=\"Path\",\n",
    "        y_col=val_data.columns[1:],\n",
    "        # All images are already 28x28 so retain the size\n",
    "        target_size=(28, 28),\n",
    "        batch_size=batch_size,\n",
    "        color_mode='grayscale',\n",
    "        class_mode='raw')\n",
    "\n",
    "test_generator = test_datagen.flow_from_dataframe(\n",
    "        dataframe=test_data,  # make sure you have a dataframe for test data\n",
    "        directory='./',\n",
    "        x_col=\"Path\",\n",
    "        y_col=test_data.columns[1:],\n",
    "        # All images are already 28x28 so retain the size\n",
    "        target_size=(28, 28),\n",
    "        batch_size=1,\n",
    "        color_mode='grayscale',\n",
    "        class_mode='raw')"
   ]
  },
  {
   "cell_type": "code",
   "execution_count": 100,
   "metadata": {},
   "outputs": [],
   "source": [
    "import os\n",
    "import shutil\n",
    "def copy_images(df, path):\n",
    "    \"\"\"Copies the images from the original dataset to the new directory\"\"\"\n",
    "    for index, row in train_data.iterrows():\n",
    "        # Get the image path and shape\n",
    "        image_path = row['Path']\n",
    "        shape = row['Shape']\n",
    "        sub_dir = f\"{shape}_aug\"\n",
    "\n",
    "        # Create a new directory for the shape if it doesn't exist\n",
    "        new_dir = os.path.join(path, shape)\n",
    "        os.makedirs(new_dir, exist_ok=True)\n",
    "\n",
    "        # Copy the image to the new directory\n",
    "        shutil.copy2(image_path, new_dir)"
   ]
  },
  {
   "cell_type": "code",
   "execution_count": 101,
   "metadata": {},
   "outputs": [],
   "source": [
    "path = 'Dataset/trafficsigns_dataset_train'\n",
    "copy_images(train_data, path)"
   ]
  },
  {
   "cell_type": "code",
   "execution_count": 12,
   "metadata": {},
   "outputs": [
    {
     "name": "stdout",
     "output_type": "stream",
     "text": [
      "Found 593 images belonging to 1 classes.\n"
     ]
    },
    {
     "name": "stdout",
     "output_type": "stream",
     "text": [
      "Found 440 images belonging to 1 classes.\n",
      "Found 181 images belonging to 1 classes.\n",
      "Found 27 images belonging to 1 classes.\n"
     ]
    }
   ],
   "source": [
    "####################FOLDER HAS TO EXIST BFRHAND####################\n",
    "import tensorflow as tf\n",
    "from tensorflow.keras.preprocessing.image import ImageDataGenerator\n",
    "import os\n",
    "\n",
    "# Path to the dataset\n",
    "data_dir = 'Dataset/trafficsigns_dataset_train'\n",
    "\n",
    "# Path to save augmented images\n",
    "augmented_dir = os.path.join('Dataset', 'trafficsigns_dataset_augmented')\n",
    "os.makedirs(augmented_dir, exist_ok=True)\n",
    "\n",
    "\n",
    "# List of minority classes and their sizes\n",
    "minority_classes = {\n",
    "    'triangle': 593,\n",
    "    'square': 440,\n",
    "    'diamond': 181,\n",
    "    'hex': 27\n",
    "}\n",
    "\n",
    "# Size of the majority class\n",
    "majority_class_size = 1126  # 'round'\n",
    "\n",
    "# Create the data generator for the minority classes\n",
    "minority_datagen = ImageDataGenerator(\n",
    "    rotation_range=15,\n",
    "    width_shift_range=0.2,\n",
    "    height_shift_range=0.2,\n",
    ")\n",
    "\n",
    "# Generate augmented data for each minority class\n",
    "for class_name, class_size in minority_classes.items():\n",
    "    class_dir = os.path.join(data_dir, class_name)\n",
    "    num_augmented_needed = majority_class_size - class_size\n",
    "\n",
    "    # Generate augmented images for the minority class\n",
    "    augmented_generator = minority_datagen.flow_from_directory(\n",
    "        class_dir,\n",
    "        target_size=(28, 28),\n",
    "        batch_size = 1,\n",
    "        save_to_dir=os.path.join(augmented_dir, class_name),\n",
    "        save_prefix=f'{class_name}_aug',\n",
    "        save_format='png',\n",
    "        class_mode='binary'\n",
    "    )\n",
    "\n",
    "    # Generate the required number of augmented images\n",
    "    for i in range(num_augmented_needed):\n",
    "        next(augmented_generator)"
   ]
  },
  {
   "cell_type": "code",
   "execution_count": 13,
   "metadata": {},
   "outputs": [
    {
     "name": "stdout",
     "output_type": "stream",
     "text": [
      "Dataset/trafficsigns_dataset_augmented/hex\n",
      "Dataset/trafficsigns_dataset_augmented/triangle\n",
      "Dataset/trafficsigns_dataset_augmented/diamond\n",
      "Dataset/trafficsigns_dataset_augmented/square\n"
     ]
    }
   ],
   "source": [
    "# Traverse the folder tree and get the image paths, type and shape\n",
    "import os\n",
    "path_to_dataset = 'Dataset/trafficsigns_dataset_augmented'\n",
    "image_path = []\n",
    "sign_shape = []\n",
    "for shape_folder in os.listdir(path_to_dataset):\n",
    "    shape_path = os.path.join(path_to_dataset, shape_folder)\n",
    "    print(shape_path)\n",
    "    if os.path.isdir(shape_path):\n",
    "        # get the parent shape folders\n",
    "        for image_file in os.listdir(shape_path):\n",
    "            # save the image paths, type and shape\n",
    "            image_path.append(os.path.join(shape_path, image_file))\n",
    "            sign_shape.append(shape_folder)\n",
    "                    "
   ]
  },
  {
   "cell_type": "code",
   "execution_count": 14,
   "metadata": {},
   "outputs": [
    {
     "data": {
      "text/html": [
       "<div>\n",
       "<style scoped>\n",
       "    .dataframe tbody tr th:only-of-type {\n",
       "        vertical-align: middle;\n",
       "    }\n",
       "\n",
       "    .dataframe tbody tr th {\n",
       "        vertical-align: top;\n",
       "    }\n",
       "\n",
       "    .dataframe thead th {\n",
       "        text-align: right;\n",
       "    }\n",
       "</style>\n",
       "<table border=\"1\" class=\"dataframe\">\n",
       "  <thead>\n",
       "    <tr style=\"text-align: right;\">\n",
       "      <th></th>\n",
       "      <th>Path</th>\n",
       "      <th>Shape</th>\n",
       "    </tr>\n",
       "  </thead>\n",
       "  <tbody>\n",
       "    <tr>\n",
       "      <th>3258</th>\n",
       "      <td>Dataset/trafficsigns_dataset_augmented/square/...</td>\n",
       "      <td>square</td>\n",
       "    </tr>\n",
       "    <tr>\n",
       "      <th>3259</th>\n",
       "      <td>Dataset/trafficsigns_dataset_augmented/square/...</td>\n",
       "      <td>square</td>\n",
       "    </tr>\n",
       "    <tr>\n",
       "      <th>3260</th>\n",
       "      <td>Dataset/trafficsigns_dataset_augmented/square/...</td>\n",
       "      <td>square</td>\n",
       "    </tr>\n",
       "    <tr>\n",
       "      <th>3261</th>\n",
       "      <td>Dataset/trafficsigns_dataset_augmented/square/...</td>\n",
       "      <td>square</td>\n",
       "    </tr>\n",
       "    <tr>\n",
       "      <th>3262</th>\n",
       "      <td>Dataset/trafficsigns_dataset_augmented/square/...</td>\n",
       "      <td>square</td>\n",
       "    </tr>\n",
       "  </tbody>\n",
       "</table>\n",
       "</div>"
      ],
      "text/plain": [
       "                                                   Path   Shape\n",
       "3258  Dataset/trafficsigns_dataset_augmented/square/...  square\n",
       "3259  Dataset/trafficsigns_dataset_augmented/square/...  square\n",
       "3260  Dataset/trafficsigns_dataset_augmented/square/...  square\n",
       "3261  Dataset/trafficsigns_dataset_augmented/square/...  square\n",
       "3262  Dataset/trafficsigns_dataset_augmented/square/...  square"
      ]
     },
     "execution_count": 14,
     "metadata": {},
     "output_type": "execute_result"
    }
   ],
   "source": [
    "# Create a DataFrame from the data\n",
    "data = {'Path': image_path, 'Shape': sign_shape}\n",
    "augmented_df = pd.DataFrame(data)\n",
    "augmented_df.tail(5)"
   ]
  },
  {
   "cell_type": "code",
   "execution_count": 15,
   "metadata": {},
   "outputs": [
    {
     "data": {
      "text/plain": [
       "(3263, 2)"
      ]
     },
     "execution_count": 15,
     "metadata": {},
     "output_type": "execute_result"
    }
   ],
   "source": [
    "augmented_df.shape"
   ]
  },
  {
   "cell_type": "code",
   "execution_count": 16,
   "metadata": {},
   "outputs": [
    {
     "name": "stdout",
     "output_type": "stream",
     "text": [
      "Shape Counts:\n",
      "Shape\n",
      "hex         1099\n",
      "diamond      945\n",
      "square       686\n",
      "triangle     533\n",
      "Name: count, dtype: int64\n"
     ]
    }
   ],
   "source": [
    "# Count the number of each unique shape in the DataFrame\n",
    "shape_counts = augmented_df['Shape'].value_counts()\n",
    "print(\"Shape Counts:\")\n",
    "print(shape_counts)"
   ]
  },
  {
   "cell_type": "code",
   "execution_count": 17,
   "metadata": {},
   "outputs": [],
   "source": [
    "# concatenate the augmented data to train_data\n",
    "train_data_aug = pd.concat([train_data_new, augmented_df], ignore_index=True)"
   ]
  },
  {
   "cell_type": "code",
   "execution_count": 19,
   "metadata": {},
   "outputs": [
    {
     "data": {
      "text/plain": [
       "Shape\n",
       "triangle    1126\n",
       "square      1126\n",
       "diamond     1126\n",
       "round       1126\n",
       "hex         1126\n",
       "Name: count, dtype: int64"
      ]
     },
     "execution_count": 19,
     "metadata": {},
     "output_type": "execute_result"
    }
   ],
   "source": [
    "train_data_aug['Shape'].value_counts()"
   ]
  },
  {
   "cell_type": "code",
   "execution_count": 20,
   "metadata": {},
   "outputs": [
    {
     "data": {
      "text/html": [
       "<div>\n",
       "<style scoped>\n",
       "    .dataframe tbody tr th:only-of-type {\n",
       "        vertical-align: middle;\n",
       "    }\n",
       "\n",
       "    .dataframe tbody tr th {\n",
       "        vertical-align: top;\n",
       "    }\n",
       "\n",
       "    .dataframe thead th {\n",
       "        text-align: right;\n",
       "    }\n",
       "</style>\n",
       "<table border=\"1\" class=\"dataframe\">\n",
       "  <thead>\n",
       "    <tr style=\"text-align: right;\">\n",
       "      <th></th>\n",
       "      <th>Path</th>\n",
       "      <th>Shape_diamond</th>\n",
       "      <th>Shape_hex</th>\n",
       "      <th>Shape_round</th>\n",
       "      <th>Shape_square</th>\n",
       "      <th>Shape_triangle</th>\n",
       "    </tr>\n",
       "  </thead>\n",
       "  <tbody>\n",
       "    <tr>\n",
       "      <th>0</th>\n",
       "      <td>Dataset/trafficsigns_dataset/triangle/warning/...</td>\n",
       "      <td>False</td>\n",
       "      <td>False</td>\n",
       "      <td>False</td>\n",
       "      <td>False</td>\n",
       "      <td>True</td>\n",
       "    </tr>\n",
       "    <tr>\n",
       "      <th>1</th>\n",
       "      <td>Dataset/trafficsigns_dataset/square/continue/0...</td>\n",
       "      <td>False</td>\n",
       "      <td>False</td>\n",
       "      <td>False</td>\n",
       "      <td>True</td>\n",
       "      <td>False</td>\n",
       "    </tr>\n",
       "    <tr>\n",
       "      <th>2</th>\n",
       "      <td>Dataset/trafficsigns_dataset/diamond/rightofwa...</td>\n",
       "      <td>True</td>\n",
       "      <td>False</td>\n",
       "      <td>False</td>\n",
       "      <td>False</td>\n",
       "      <td>False</td>\n",
       "    </tr>\n",
       "    <tr>\n",
       "      <th>3</th>\n",
       "      <td>Dataset/trafficsigns_dataset/square/parking/00...</td>\n",
       "      <td>False</td>\n",
       "      <td>False</td>\n",
       "      <td>False</td>\n",
       "      <td>True</td>\n",
       "      <td>False</td>\n",
       "    </tr>\n",
       "    <tr>\n",
       "      <th>4</th>\n",
       "      <td>Dataset/trafficsigns_dataset/triangle/warning/...</td>\n",
       "      <td>False</td>\n",
       "      <td>False</td>\n",
       "      <td>False</td>\n",
       "      <td>False</td>\n",
       "      <td>True</td>\n",
       "    </tr>\n",
       "  </tbody>\n",
       "</table>\n",
       "</div>"
      ],
      "text/plain": [
       "                                                Path  Shape_diamond  \\\n",
       "0  Dataset/trafficsigns_dataset/triangle/warning/...          False   \n",
       "1  Dataset/trafficsigns_dataset/square/continue/0...          False   \n",
       "2  Dataset/trafficsigns_dataset/diamond/rightofwa...           True   \n",
       "3  Dataset/trafficsigns_dataset/square/parking/00...          False   \n",
       "4  Dataset/trafficsigns_dataset/triangle/warning/...          False   \n",
       "\n",
       "   Shape_hex  Shape_round  Shape_square  Shape_triangle  \n",
       "0      False        False         False            True  \n",
       "1      False        False          True           False  \n",
       "2      False        False         False           False  \n",
       "3      False        False          True           False  \n",
       "4      False        False         False            True  "
      ]
     },
     "execution_count": 20,
     "metadata": {},
     "output_type": "execute_result"
    }
   ],
   "source": [
    "augmented_train_data = pd.get_dummies(train_data_aug, columns=['Shape'])\n",
    "augmented_train_data.head()"
   ]
  },
  {
   "cell_type": "code",
   "execution_count": 21,
   "metadata": {},
   "outputs": [
    {
     "data": {
      "text/html": [
       "<div>\n",
       "<style scoped>\n",
       "    .dataframe tbody tr th:only-of-type {\n",
       "        vertical-align: middle;\n",
       "    }\n",
       "\n",
       "    .dataframe tbody tr th {\n",
       "        vertical-align: top;\n",
       "    }\n",
       "\n",
       "    .dataframe thead th {\n",
       "        text-align: right;\n",
       "    }\n",
       "</style>\n",
       "<table border=\"1\" class=\"dataframe\">\n",
       "  <thead>\n",
       "    <tr style=\"text-align: right;\">\n",
       "      <th></th>\n",
       "      <th>Path</th>\n",
       "      <th>Shape_diamond</th>\n",
       "      <th>Shape_hex</th>\n",
       "      <th>Shape_round</th>\n",
       "      <th>Shape_square</th>\n",
       "      <th>Shape_triangle</th>\n",
       "    </tr>\n",
       "  </thead>\n",
       "  <tbody>\n",
       "    <tr>\n",
       "      <th>0</th>\n",
       "      <td>Dataset/trafficsigns_dataset/triangle/warning/...</td>\n",
       "      <td>0</td>\n",
       "      <td>0</td>\n",
       "      <td>0</td>\n",
       "      <td>0</td>\n",
       "      <td>1</td>\n",
       "    </tr>\n",
       "    <tr>\n",
       "      <th>1</th>\n",
       "      <td>Dataset/trafficsigns_dataset/square/continue/0...</td>\n",
       "      <td>0</td>\n",
       "      <td>0</td>\n",
       "      <td>0</td>\n",
       "      <td>1</td>\n",
       "      <td>0</td>\n",
       "    </tr>\n",
       "    <tr>\n",
       "      <th>2</th>\n",
       "      <td>Dataset/trafficsigns_dataset/diamond/rightofwa...</td>\n",
       "      <td>1</td>\n",
       "      <td>0</td>\n",
       "      <td>0</td>\n",
       "      <td>0</td>\n",
       "      <td>0</td>\n",
       "    </tr>\n",
       "    <tr>\n",
       "      <th>3</th>\n",
       "      <td>Dataset/trafficsigns_dataset/square/parking/00...</td>\n",
       "      <td>0</td>\n",
       "      <td>0</td>\n",
       "      <td>0</td>\n",
       "      <td>1</td>\n",
       "      <td>0</td>\n",
       "    </tr>\n",
       "    <tr>\n",
       "      <th>4</th>\n",
       "      <td>Dataset/trafficsigns_dataset/triangle/warning/...</td>\n",
       "      <td>0</td>\n",
       "      <td>0</td>\n",
       "      <td>0</td>\n",
       "      <td>0</td>\n",
       "      <td>1</td>\n",
       "    </tr>\n",
       "  </tbody>\n",
       "</table>\n",
       "</div>"
      ],
      "text/plain": [
       "                                                Path  Shape_diamond  \\\n",
       "0  Dataset/trafficsigns_dataset/triangle/warning/...              0   \n",
       "1  Dataset/trafficsigns_dataset/square/continue/0...              0   \n",
       "2  Dataset/trafficsigns_dataset/diamond/rightofwa...              1   \n",
       "3  Dataset/trafficsigns_dataset/square/parking/00...              0   \n",
       "4  Dataset/trafficsigns_dataset/triangle/warning/...              0   \n",
       "\n",
       "   Shape_hex  Shape_round  Shape_square  Shape_triangle  \n",
       "0          0            0             0               1  \n",
       "1          0            0             1               0  \n",
       "2          0            0             0               0  \n",
       "3          0            0             1               0  \n",
       "4          0            0             0               1  "
      ]
     },
     "execution_count": 21,
     "metadata": {},
     "output_type": "execute_result"
    }
   ],
   "source": [
    "augmented_train_data = bool_to_int(augmented_train_data)\n",
    "augmented_train_data.head()"
   ]
  },
  {
   "cell_type": "code",
   "execution_count": 22,
   "metadata": {},
   "outputs": [
    {
     "data": {
      "text/plain": [
       "Path              Dataset/trafficsigns_dataset/triangle/warning/...\n",
       "Shape_diamond                                                  1126\n",
       "Shape_hex                                                      1126\n",
       "Shape_round                                                    1126\n",
       "Shape_square                                                   1126\n",
       "Shape_triangle                                                 1126\n",
       "dtype: object"
      ]
     },
     "execution_count": 22,
     "metadata": {},
     "output_type": "execute_result"
    }
   ],
   "source": [
    "# Count the number of each unique shape in the DataFrame which is onehot encoded\n",
    "class_counts = augmented_train_data.sum()\n",
    "class_counts"
   ]
  },
  {
   "cell_type": "code",
   "execution_count": null,
   "metadata": {},
   "outputs": [],
   "source": []
  },
  {
   "cell_type": "markdown",
   "metadata": {},
   "source": [
    "### Metric Selection\n",
    "Considering that this is a multi-class calssification problem and the existing class imbalance in the dataset, we choose, classwise Precision, Recall, F1 Score and Support as the evaluation metrics. We also plot a confusion matrix to understand the model performance better."
   ]
  },
  {
   "cell_type": "markdown",
   "metadata": {},
   "source": [
    "Setup Diagnostics"
   ]
  },
  {
   "cell_type": "code",
   "execution_count": 23,
   "metadata": {},
   "outputs": [],
   "source": [
    "import matplotlib.pyplot as plt\n",
    "def plot_learning_curve(train_loss, val_loss, train_metric, val_metric, metric_name):\n",
    "    plt.figure(figsize=(10,5))\n",
    "    \n",
    "    plt.subplot(1,2,1)\n",
    "    plt.plot(train_loss, 'r--')\n",
    "    plt.plot(val_loss, 'b--')\n",
    "    plt.xlabel(\"epochs\")\n",
    "    plt.ylabel(\"Loss\")\n",
    "    plt.legend(['train', 'val'], loc='upper left')\n",
    "\n",
    "    plt.subplot(1,2,2)\n",
    "    plt.plot(train_metric, 'r--')\n",
    "    plt.plot(val_metric, 'b--')\n",
    "    plt.xlabel(\"epochs\")\n",
    "    plt.ylabel(metric_name)\n",
    "    plt.legend(['train', 'val'], loc='upper left')\n",
    "\n",
    "    plt.show()"
   ]
  },
  {
   "cell_type": "code",
   "execution_count": 24,
   "metadata": {},
   "outputs": [],
   "source": [
    "def calc_model_performance(model, train_generator, validation_generator):\n",
    "    train_loss, train_auc = model.evaluate(train_generator, verbose=2)\n",
    "    val_loss, val_auc = model.evaluate(validation_generator, verbose=2)\n",
    "    test_loss, test_auc = model.evaluate(test_generator, verbose=2)\n",
    "    print('\\n################## Model Performance ######################\\n')\n",
    "    print(f'Train loss: {train_loss:.4f}, \\nTrain AUC-PR: {train_auc:.4f}')\n",
    "    print(f'Validation loss: {val_loss:.4f}, \\nValidation AUC-PR: {val_auc:.4f}')\n",
    "    print(f'Test loss: {test_loss:.4f}, \\nTest AUC-PR: {test_auc:.4f}')\n",
    "    "
   ]
  },
  {
   "cell_type": "code",
   "execution_count": 25,
   "metadata": {},
   "outputs": [],
   "source": [
    "from sklearn.metrics import classification_report\n",
    "import numpy as np\n",
    "\n",
    "def predict_labels(model, test_generator, test_data):\n",
    "    # Get the class labels\n",
    "    class_labels = list(test_data.columns[1:])\n",
    "    # Predict on the test generator\n",
    "    predictions = model.predict(test_generator)\n",
    "    # Decode the predictions\n",
    "    decoded_predictions = np.argmax(predictions, axis=1)\n",
    "    # Map the decoded predictions to class labels\n",
    "    predicted_labels = [class_labels[prediction] for prediction in decoded_predictions]\n",
    "    # Assuming you have the true labels (y_true) and predicted labels (predicted_labels)\n",
    "    y_true = test_data.iloc[:, 1:].idxmax(axis=1).values  # Get true labels from test_data\n",
    "    # Calculate classification report\n",
    "    report = classification_report(y_true, predicted_labels, target_names=class_labels)\n",
    "    # Print the report\n",
    "    print(\"\\n################# Classification Report #################\\n\")\n",
    "    print(report)"
   ]
  },
  {
   "cell_type": "markdown",
   "metadata": {},
   "source": [
    "### Handle Class Imbalance\n",
    "Class weighting\n"
   ]
  },
  {
   "cell_type": "code",
   "execution_count": 59,
   "metadata": {},
   "outputs": [],
   "source": [
    "from sklearn.utils.class_weight import compute_class_weight\n",
    "\n",
    "def calc_class_weight(y_train, class_labels):\n",
    "    \"\"\"Compute class weights for unbalanced classes\"\"\"\n",
    "    \n",
    "    # Compute class weights\n",
    "    class_weights = compute_class_weight(\n",
    "        class_weight='balanced',\n",
    "        classes=np.arange(len(class_labels)),  \n",
    "        y=y_train.values.argmax(axis=1) \n",
    "    )\n",
    "    print(\"Class Labels: \", class_labels)\n",
    "    print(\"Class weights: \", class_weights)\n",
    "    d_class_weights = dict(enumerate(class_weights))\n",
    "    return d_class_weights"
   ]
  },
  {
   "cell_type": "markdown",
   "metadata": {},
   "source": [
    "### Baseline CNN\n",
    "We choose LeNet-5 as the baseline architecture for this task, as this architecture was originally developed for recognising handwritten digits of 28x28 size. As our data is also 28x28, we belive this architecture should be a good fit as a baseline."
   ]
  },
  {
   "cell_type": "code",
   "execution_count": 26,
   "metadata": {},
   "outputs": [],
   "source": [
    "from tensorflow.keras.models import Sequential\n",
    "from tensorflow.keras.layers import Conv2D, MaxPooling2D, Flatten, Dense, Dropout, Input, Activation, MaxPool2D\n",
    "\n",
    "def build_model():\n",
    "\n",
    "    model = Sequential([\n",
    "        Conv2D(filters=6, kernel_size=(5, 5), activation='relu', input_shape=(28, 28, 1)),\n",
    "        MaxPooling2D(pool_size=(2, 2)),\n",
    "        Conv2D(filters=16, kernel_size=(5, 5), activation='relu'),\n",
    "        MaxPooling2D(pool_size=(2, 2)),\n",
    "        Flatten(),\n",
    "        Dense(units=120, activation='relu'),\n",
    "        Dense(units=84, activation='relu'),\n",
    "        Dense(units=OUTPUT_CLASSES_SHAPE)\n",
    "    ])\n",
    "    \n",
    "\n",
    "    return model"
   ]
  },
  {
   "cell_type": "markdown",
   "metadata": {},
   "source": [
    "We have decided to follow the common LeNet-5 architecture\n",
    "* Convolutional Layer 1: 6 filters of size 5x5 - This configuration is good for small grayscale images\n",
    "* Convolutional Layer 2: 16 filters of size 5x5 - This is a common configuration\n",
    "* Max Pooling Layer 1: 2x2 - To reduce the spatial dimensions of the image by half\n",
    "* Dense Layer 1: 120 - Learns higher-level representations from the flattened convolutional features\n",
    "* Dense Layer 2: 84 - This is also a common configuration\n",
    "Relu activation function is used for all layers except the output layer as it introduces non-linearity and helps to learn more complex representations. We use softmax activation function in the output layer as this is a multi-class classification problem(as it outputs class probabilities that sum to 1)\n"
   ]
  },
  {
   "cell_type": "code",
   "execution_count": 61,
   "metadata": {},
   "outputs": [],
   "source": [
    "import tensorflow as tf\n",
    "\n",
    "def compile_model(model):\n",
    "    model.compile(optimizer='adam',\n",
    "                    loss=tf.keras.losses.CategoricalCrossentropy(from_logits=True),\n",
    "                    metrics=[tf.keras.metrics.AUC(name=\"AUCPR\", curve=\"PR\", from_logits=True)])\n",
    "    return model"
   ]
  },
  {
   "cell_type": "code",
   "execution_count": 62,
   "metadata": {},
   "outputs": [],
   "source": [
    "# Train the model\n",
    "def train_model(model, train_generator, validation_generator, epochs=50, class_weights=None):\n",
    "    history = model.fit(train_generator,\n",
    "                        validation_data=validation_generator,\n",
    "                        epochs=epochs,\n",
    "                        class_weight=class_weights,\n",
    "                        verbose=2)\n",
    "    return history"
   ]
  },
  {
   "cell_type": "code",
   "execution_count": 63,
   "metadata": {},
   "outputs": [],
   "source": [
    "def pipeline(train_generator, validation_generator, epochs=50, class_weights=None):\n",
    "    model = build_model()\n",
    "    model = compile_model(model)\n",
    "    history = train_model(model, train_generator, validation_generator, epochs=epochs, class_weights=class_weights)\n",
    "    return model, history"
   ]
  },
  {
   "cell_type": "code",
   "execution_count": 64,
   "metadata": {},
   "outputs": [
    {
     "name": "stdout",
     "output_type": "stream",
     "text": [
      "Epoch 1/50\n"
     ]
    },
    {
     "name": "stderr",
     "output_type": "stream",
     "text": [
      "/home/ashwin/anaconda3/lib/python3.11/site-packages/keras/src/layers/convolutional/base_conv.py:107: UserWarning: Do not pass an `input_shape`/`input_dim` argument to a layer. When using Sequential models, prefer using an `Input(shape)` object as the first layer in the model instead.\n",
      "  super().__init__(activity_regularizer=activity_regularizer, **kwargs)\n",
      "/home/ashwin/anaconda3/lib/python3.11/site-packages/keras/src/trainers/data_adapters/py_dataset_adapter.py:121: UserWarning: Your `PyDataset` class should call `super().__init__(**kwargs)` in its constructor. `**kwargs` can include `workers`, `use_multiprocessing`, `max_queue_size`. Do not pass these arguments to `fit()`, as they will be ignored.\n",
      "  self._warn_if_super_not_called()\n"
     ]
    },
    {
     "name": "stdout",
     "output_type": "stream",
     "text": [
      "70/70 - 7s - 102ms/step - AUCPR: 0.5883 - loss: 1.0566 - val_AUCPR: 0.8115 - val_loss: 0.6683\n",
      "Epoch 2/50\n",
      "70/70 - 2s - 29ms/step - AUCPR: 0.8596 - loss: 0.4780 - val_AUCPR: 0.8982 - val_loss: 0.3089\n",
      "Epoch 3/50\n",
      "70/70 - 2s - 29ms/step - AUCPR: 0.9243 - loss: 0.2502 - val_AUCPR: 0.9312 - val_loss: 0.2258\n",
      "Epoch 4/50\n",
      "70/70 - 2s - 27ms/step - AUCPR: 0.9537 - loss: 0.1627 - val_AUCPR: 0.9545 - val_loss: 0.1673\n",
      "Epoch 5/50\n",
      "70/70 - 2s - 28ms/step - AUCPR: 0.9668 - loss: 0.1110 - val_AUCPR: 0.9673 - val_loss: 0.1210\n",
      "Epoch 6/50\n",
      "70/70 - 2s - 29ms/step - AUCPR: 0.9755 - loss: 0.0633 - val_AUCPR: 0.9743 - val_loss: 0.0895\n",
      "Epoch 7/50\n",
      "70/70 - 2s - 25ms/step - AUCPR: 0.9742 - loss: 0.0461 - val_AUCPR: 0.9746 - val_loss: 0.0965\n",
      "Epoch 8/50\n",
      "70/70 - 2s - 27ms/step - AUCPR: 0.9808 - loss: 0.0341 - val_AUCPR: 0.9767 - val_loss: 0.0941\n",
      "Epoch 9/50\n",
      "70/70 - 2s - 29ms/step - AUCPR: 0.9794 - loss: 0.0288 - val_AUCPR: 0.9770 - val_loss: 0.0762\n",
      "Epoch 10/50\n",
      "70/70 - 2s - 28ms/step - AUCPR: 0.9767 - loss: 0.0190 - val_AUCPR: 0.9615 - val_loss: 0.0961\n",
      "Epoch 11/50\n",
      "70/70 - 2s - 28ms/step - AUCPR: 0.9810 - loss: 0.0141 - val_AUCPR: 0.9641 - val_loss: 0.0708\n",
      "Epoch 12/50\n",
      "70/70 - 2s - 27ms/step - AUCPR: 0.9741 - loss: 0.0110 - val_AUCPR: 0.9641 - val_loss: 0.0631\n",
      "Epoch 13/50\n",
      "70/70 - 2s - 30ms/step - AUCPR: 0.9738 - loss: 0.0090 - val_AUCPR: 0.9600 - val_loss: 0.0605\n",
      "Epoch 14/50\n",
      "70/70 - 2s - 29ms/step - AUCPR: 0.9711 - loss: 0.0070 - val_AUCPR: 0.9645 - val_loss: 0.0618\n",
      "Epoch 15/50\n",
      "70/70 - 2s - 29ms/step - AUCPR: 0.9725 - loss: 0.0042 - val_AUCPR: 0.9664 - val_loss: 0.0581\n",
      "Epoch 16/50\n",
      "70/70 - 2s - 30ms/step - AUCPR: 0.9622 - loss: 0.0075 - val_AUCPR: 0.9504 - val_loss: 0.0715\n",
      "Epoch 17/50\n",
      "70/70 - 2s - 28ms/step - AUCPR: 0.9647 - loss: 0.0064 - val_AUCPR: 0.9270 - val_loss: 0.0830\n",
      "Epoch 18/50\n",
      "70/70 - 2s - 28ms/step - AUCPR: 0.9621 - loss: 0.0118 - val_AUCPR: 0.9587 - val_loss: 0.0518\n",
      "Epoch 19/50\n",
      "70/70 - 2s - 28ms/step - AUCPR: 0.9795 - loss: 0.0052 - val_AUCPR: 0.9668 - val_loss: 0.0586\n",
      "Epoch 20/50\n",
      "70/70 - 2s - 27ms/step - AUCPR: 0.9771 - loss: 0.0016 - val_AUCPR: 0.9608 - val_loss: 0.0533\n",
      "Epoch 21/50\n",
      "70/70 - 2s - 27ms/step - AUCPR: 0.9707 - loss: 0.0011 - val_AUCPR: 0.9451 - val_loss: 0.0689\n",
      "Epoch 22/50\n",
      "70/70 - 2s - 27ms/step - AUCPR: 0.9694 - loss: 9.5197e-04 - val_AUCPR: 0.9527 - val_loss: 0.0672\n",
      "Epoch 23/50\n",
      "70/70 - 2s - 27ms/step - AUCPR: 0.9686 - loss: 8.3525e-04 - val_AUCPR: 0.9569 - val_loss: 0.0588\n",
      "Epoch 24/50\n",
      "70/70 - 2s - 27ms/step - AUCPR: 0.9666 - loss: 6.7664e-04 - val_AUCPR: 0.9482 - val_loss: 0.0653\n",
      "Epoch 25/50\n",
      "70/70 - 2s - 27ms/step - AUCPR: 0.9630 - loss: 5.6183e-04 - val_AUCPR: 0.9443 - val_loss: 0.0644\n",
      "Epoch 26/50\n",
      "70/70 - 2s - 26ms/step - AUCPR: 0.9655 - loss: 5.0502e-04 - val_AUCPR: 0.9472 - val_loss: 0.0650\n",
      "Epoch 27/50\n",
      "70/70 - 2s - 27ms/step - AUCPR: 0.9610 - loss: 4.8362e-04 - val_AUCPR: 0.9397 - val_loss: 0.0650\n",
      "Epoch 28/50\n",
      "70/70 - 2s - 28ms/step - AUCPR: 0.9585 - loss: 4.5900e-04 - val_AUCPR: 0.9499 - val_loss: 0.0608\n",
      "Epoch 29/50\n",
      "70/70 - 2s - 27ms/step - AUCPR: 0.9581 - loss: 3.7664e-04 - val_AUCPR: 0.9451 - val_loss: 0.0651\n",
      "Epoch 30/50\n",
      "70/70 - 2s - 28ms/step - AUCPR: 0.9595 - loss: 3.3777e-04 - val_AUCPR: 0.9351 - val_loss: 0.0670\n",
      "Epoch 31/50\n",
      "70/70 - 2s - 28ms/step - AUCPR: 0.9578 - loss: 2.9993e-04 - val_AUCPR: 0.9427 - val_loss: 0.0638\n",
      "Epoch 32/50\n",
      "70/70 - 2s - 27ms/step - AUCPR: 0.9566 - loss: 2.7744e-04 - val_AUCPR: 0.9391 - val_loss: 0.0647\n",
      "Epoch 33/50\n",
      "70/70 - 2s - 28ms/step - AUCPR: 0.9562 - loss: 2.5418e-04 - val_AUCPR: 0.9356 - val_loss: 0.0671\n",
      "Epoch 34/50\n",
      "70/70 - 2s - 27ms/step - AUCPR: 0.9534 - loss: 2.3361e-04 - val_AUCPR: 0.9392 - val_loss: 0.0649\n",
      "Epoch 35/50\n",
      "70/70 - 2s - 27ms/step - AUCPR: 0.9542 - loss: 2.1696e-04 - val_AUCPR: 0.9317 - val_loss: 0.0704\n",
      "Epoch 36/50\n",
      "70/70 - 2s - 28ms/step - AUCPR: 0.9530 - loss: 2.0017e-04 - val_AUCPR: 0.9392 - val_loss: 0.0635\n",
      "Epoch 37/50\n",
      "70/70 - 2s - 27ms/step - AUCPR: 0.9530 - loss: 1.8442e-04 - val_AUCPR: 0.9355 - val_loss: 0.0674\n",
      "Epoch 38/50\n",
      "70/70 - 2s - 26ms/step - AUCPR: 0.9509 - loss: 1.7443e-04 - val_AUCPR: 0.9357 - val_loss: 0.0660\n",
      "Epoch 39/50\n",
      "70/70 - 2s - 27ms/step - AUCPR: 0.9506 - loss: 1.6760e-04 - val_AUCPR: 0.9404 - val_loss: 0.0659\n",
      "Epoch 40/50\n",
      "70/70 - 2s - 27ms/step - AUCPR: 0.9477 - loss: 1.4587e-04 - val_AUCPR: 0.9380 - val_loss: 0.0677\n",
      "Epoch 41/50\n",
      "70/70 - 2s - 26ms/step - AUCPR: 0.9518 - loss: 1.2804e-04 - val_AUCPR: 0.9320 - val_loss: 0.0698\n",
      "Epoch 42/50\n",
      "70/70 - 2s - 27ms/step - AUCPR: 0.9498 - loss: 1.2552e-04 - val_AUCPR: 0.9320 - val_loss: 0.0710\n",
      "Epoch 43/50\n",
      "70/70 - 2s - 28ms/step - AUCPR: 0.9466 - loss: 1.1231e-04 - val_AUCPR: 0.9309 - val_loss: 0.0683\n",
      "Epoch 44/50\n",
      "70/70 - 2s - 27ms/step - AUCPR: 0.9446 - loss: 1.0425e-04 - val_AUCPR: 0.9285 - val_loss: 0.0708\n",
      "Epoch 45/50\n",
      "70/70 - 2s - 27ms/step - AUCPR: 0.9462 - loss: 9.5337e-05 - val_AUCPR: 0.9312 - val_loss: 0.0697\n",
      "Epoch 46/50\n",
      "70/70 - 2s - 27ms/step - AUCPR: 0.9434 - loss: 9.0439e-05 - val_AUCPR: 0.9288 - val_loss: 0.0696\n",
      "Epoch 47/50\n",
      "70/70 - 2s - 27ms/step - AUCPR: 0.9438 - loss: 8.4318e-05 - val_AUCPR: 0.9300 - val_loss: 0.0706\n",
      "Epoch 48/50\n",
      "70/70 - 2s - 27ms/step - AUCPR: 0.9406 - loss: 7.7336e-05 - val_AUCPR: 0.9312 - val_loss: 0.0708\n",
      "Epoch 49/50\n",
      "70/70 - 2s - 27ms/step - AUCPR: 0.9430 - loss: 6.9476e-05 - val_AUCPR: 0.9291 - val_loss: 0.0664\n",
      "Epoch 50/50\n",
      "70/70 - 2s - 26ms/step - AUCPR: 0.9430 - loss: 6.9831e-05 - val_AUCPR: 0.9277 - val_loss: 0.0727\n"
     ]
    },
    {
     "data": {
      "image/png": "[encoded data removed]",
      "text/plain": [
       "<Figure size 1000x500 with 2 Axes>"
      ]
     },
     "metadata": {},
     "output_type": "display_data"
    }
   ],
   "source": [
    "model, history = pipeline(train_generator, validation_generator, epochs=50)\n",
    "\n",
    "# Plot the learning curves\n",
    "plot_learning_curve(history.history['loss'], history.history['val_loss'],\n",
    "                    history.history['AUCPR'], history.history['val_AUCPR'],\n",
    "                    metric_name='PR-Curve')"
   ]
  },
  {
   "cell_type": "code",
   "execution_count": 208,
   "metadata": {},
   "outputs": [
    {
     "name": "stdout",
     "output_type": "stream",
     "text": [
      "70/70 - 0s - 3ms/step - AUCPR: 0.8770 - loss: 6.9681e-05\n",
      "24/24 - 0s - 4ms/step - AUCPR: 0.8595 - loss: 0.1409\n",
      "740/740 - 0s - 669us/step - AUCPR: 0.8537 - loss: 0.0524\n",
      "\n",
      "################## Model Performance ######################\n",
      "\n",
      "Train loss: 0.0001, \n",
      "Train AUC-PR: 0.8770\n",
      "Validation loss: 0.1409, \n",
      "Validation AUC-PR: 0.8595\n",
      "Test loss: 0.0524, \n",
      "Test AUC-PR: 0.8537\n"
     ]
    }
   ],
   "source": [
    "calc_model_performance(model, train_generator, validation_generator)"
   ]
  },
  {
   "cell_type": "code",
   "execution_count": 209,
   "metadata": {},
   "outputs": [
    {
     "name": "stdout",
     "output_type": "stream",
     "text": [
      "\u001b[1m740/740\u001b[0m \u001b[32m━━━━━━━━━━━━━━━━━━━━\u001b[0m\u001b[37m\u001b[0m \u001b[1m1s\u001b[0m 730us/step\n",
      "\n",
      "################# Classification Report #################\n",
      "\n",
      "                precision    recall  f1-score   support\n",
      "\n",
      " Shape_diamond       0.13      0.12      0.13        56\n",
      "     Shape_hex       0.11      0.11      0.11         9\n",
      "   Shape_round       0.46      0.46      0.46       352\n",
      "  Shape_square       0.21      0.21      0.21       138\n",
      "Shape_triangle       0.29      0.30      0.29       185\n",
      "\n",
      "      accuracy                           0.34       740\n",
      "     macro avg       0.24      0.24      0.24       740\n",
      "  weighted avg       0.34      0.34      0.34       740\n",
      "\n"
     ]
    }
   ],
   "source": [
    "predict_labels(model, test_generator, test_data)"
   ]
  },
  {
   "cell_type": "markdown",
   "metadata": {},
   "source": [
    "Re-Weight the classes"
   ]
  },
  {
   "cell_type": "code",
   "execution_count": 78,
   "metadata": {},
   "outputs": [
    {
     "name": "stdout",
     "output_type": "stream",
     "text": [
      "Class Labels:  Index(['Shape_diamond', 'Shape_hex', 'Shape_round', 'Shape_square',\n",
      "       'Shape_triangle'],\n",
      "      dtype='object')\n",
      "Class weights:  [ 2.61546961 17.53333333  0.42042629  1.07590909  0.79831366]\n",
      "{0: 2.6154696132596684, 1: 17.533333333333335, 2: 0.42042628774422736, 3: 1.075909090909091, 4: 0.7983136593591905}\n"
     ]
    }
   ],
   "source": [
    "y_train = train_data.iloc[:, 1:]\n",
    "class_labels = y_train.columns  # Get class labels from column names\n",
    "class_weights = calc_class_weight(y_train=y_train, class_labels=class_labels)\n",
    "print(class_weights)"
   ]
  },
  {
   "cell_type": "code",
   "execution_count": 211,
   "metadata": {},
   "outputs": [
    {
     "name": "stderr",
     "output_type": "stream",
     "text": [
      "/home/ashwin/anaconda3/lib/python3.11/site-packages/keras/src/layers/convolutional/base_conv.py:107: UserWarning: Do not pass an `input_shape`/`input_dim` argument to a layer. When using Sequential models, prefer using an `Input(shape)` object as the first layer in the model instead.\n",
      "  super().__init__(activity_regularizer=activity_regularizer, **kwargs)\n"
     ]
    }
   ],
   "source": [
    "model, history = pipeline(train_generator, validation_generator, epochs=50, class_weights=class_weights)"
   ]
  },
  {
   "cell_type": "code",
   "execution_count": 212,
   "metadata": {},
   "outputs": [
    {
     "data": {
      "image/png": "[encoded data removed]",
      "text/plain": [
       "<Figure size 1000x500 with 2 Axes>"
      ]
     },
     "metadata": {},
     "output_type": "display_data"
    }
   ],
   "source": [
    "# Plot the learning curves\n",
    "plot_learning_curve(history.history['loss'], history.history['val_loss'],\n",
    "                    history.history['AUCPR'], history.history['val_AUCPR'],\n",
    "                    metric_name='PR-Curve')"
   ]
  },
  {
   "cell_type": "code",
   "execution_count": 213,
   "metadata": {},
   "outputs": [
    {
     "name": "stdout",
     "output_type": "stream",
     "text": [
      "70/70 - 0s - 3ms/step - AUCPR: 0.8717 - loss: 1.4065e-04\n",
      "24/24 - 0s - 4ms/step - AUCPR: 0.8644 - loss: 0.1041\n",
      "740/740 - 0s - 660us/step - AUCPR: 0.8668 - loss: 0.0541\n",
      "\n",
      "################## Model Performance ######################\n",
      "\n",
      "Train loss: 0.0001, \n",
      "Train AUC-PR: 0.8717\n",
      "Validation loss: 0.1041, \n",
      "Validation AUC-PR: 0.8644\n",
      "Test loss: 0.0541, \n",
      "Test AUC-PR: 0.8668\n"
     ]
    }
   ],
   "source": [
    "calc_model_performance(model, train_generator, validation_generator)"
   ]
  },
  {
   "cell_type": "code",
   "execution_count": 214,
   "metadata": {},
   "outputs": [
    {
     "name": "stdout",
     "output_type": "stream",
     "text": [
      "\u001b[1m740/740\u001b[0m \u001b[32m━━━━━━━━━━━━━━━━━━━━\u001b[0m\u001b[37m\u001b[0m \u001b[1m1s\u001b[0m 797us/step\n",
      "\n",
      "################# Classification Report #################\n",
      "\n",
      "                precision    recall  f1-score   support\n",
      "\n",
      " Shape_diamond       0.15      0.14      0.15        56\n",
      "     Shape_hex       0.00      0.00      0.00         9\n",
      "   Shape_round       0.48      0.48      0.48       352\n",
      "  Shape_square       0.18      0.18      0.18       138\n",
      "Shape_triangle       0.24      0.24      0.24       185\n",
      "\n",
      "      accuracy                           0.33       740\n",
      "     macro avg       0.21      0.21      0.21       740\n",
      "  weighted avg       0.33      0.33      0.33       740\n",
      "\n"
     ]
    }
   ],
   "source": [
    "predict_labels(model, test_generator, test_data)"
   ]
  },
  {
   "cell_type": "markdown",
   "metadata": {},
   "source": [
    "Overfitting has reduced slightly"
   ]
  },
  {
   "cell_type": "markdown",
   "metadata": {},
   "source": [
    "Learning rate scheduler"
   ]
  },
  {
   "cell_type": "code",
   "execution_count": 32,
   "metadata": {},
   "outputs": [
    {
     "name": "stdout",
     "output_type": "stream",
     "text": [
      "Found 5630 validated image filenames.\n",
      "Found 592 validated image filenames.\n",
      "Found 740 validated image filenames.\n"
     ]
    }
   ],
   "source": [
    "from tensorflow.keras.preprocessing.image import ImageDataGenerator\n",
    "\n",
    "# normalize pixel values and build a data generator\n",
    "train_datagen = ImageDataGenerator(rescale=1./255, data_format='channels_last')\n",
    "val_datagen = ImageDataGenerator(rescale=1./255, data_format='channels_last')\n",
    "# normalize pixel values and build a data generator for test data\n",
    "test_datagen = ImageDataGenerator(rescale=1./255, data_format='channels_last')\n",
    "\n",
    "# choose 32 as the batch size\n",
    "batch_size = 32\n",
    "\n",
    "# train and validation generators\n",
    "train_generator = train_datagen.flow_from_dataframe(\n",
    "        dataframe=augmented_train_data,\n",
    "        directory='./',\n",
    "        x_col=\"Path\",\n",
    "        y_col=train_data.columns[1:],\n",
    "        # All images are already 28x28 so retain the size\n",
    "        target_size=(28, 28),\n",
    "        batch_size=batch_size,\n",
    "        color_mode='grayscale',\n",
    "        class_mode='raw')\n",
    "\n",
    "validation_generator = val_datagen.flow_from_dataframe(\n",
    "        dataframe=val_data,\n",
    "        directory='./',\n",
    "        x_col=\"Path\",\n",
    "        y_col=val_data.columns[1:],\n",
    "        # All images are already 28x28 so retain the size\n",
    "        target_size=(28, 28),\n",
    "        batch_size=batch_size,\n",
    "        color_mode='grayscale',\n",
    "        class_mode='raw')\n",
    "\n",
    "test_generator = test_datagen.flow_from_dataframe(\n",
    "        dataframe=test_data,  # make sure you have a dataframe for test data\n",
    "        directory='./',\n",
    "        x_col=\"Path\",\n",
    "        y_col=test_data.columns[1:],\n",
    "        # All images are already 28x28 so retain the size\n",
    "        target_size=(28, 28),\n",
    "        batch_size=1,\n",
    "        color_mode='grayscale',\n",
    "        class_mode='raw')"
   ]
  },
  {
   "cell_type": "code",
   "execution_count": 29,
   "metadata": {},
   "outputs": [],
   "source": [
    "import tensorflow as tf\n",
    "# Rest of the code\n",
    "def scheduler(epoch, lr):\n",
    "    if epoch < 10:\n",
    "        return float(lr)\n",
    "    else:\n",
    "        return float(lr * tf.math.exp(-0.1))\n",
    "    \n",
    "\n",
    "# def compile_model_with_scheduler(model):\n",
    "#     optimizer = tf.keras.optimizers.SGD(learning_rate=0.001)\n",
    "#     model.compile(optimizer=optimizer,\n",
    "#                     loss=tf.keras.losses.CategoricalCrossentropy(from_logits=True),\n",
    "#                     metrics=[tf.keras.metrics.AUC(name=\"AUCPR\", curve=\"PR\", from_logits=True)])\n",
    "#     return model\n",
    "def compile_model_with_scheduler(model):\n",
    "    optimizer = tf.keras.optimizers.SGD(learning_rate=0.001)\n",
    "    model.compile(optimizer=optimizer,\n",
    "                    loss=tf.keras.losses.CategoricalCrossentropy(from_logits=True),\n",
    "                    metrics=['categorical_accuracy'])\n",
    "    return model"
   ]
  },
  {
   "cell_type": "code",
   "execution_count": 30,
   "metadata": {},
   "outputs": [],
   "source": [
    "def train_model_scheduler(model, train_generator, validation_generator, epochs=50, class_weights=None):\n",
    "    callback = tf.keras.callbacks.LearningRateScheduler(scheduler)\n",
    "    history = model.fit(train_generator,\n",
    "                        validation_data=validation_generator,\n",
    "                        epochs=epochs,\n",
    "                        class_weight=class_weights,\n",
    "                        callbacks=[callback],\n",
    "                        verbose=2)\n",
    "    return history"
   ]
  },
  {
   "cell_type": "code",
   "execution_count": 33,
   "metadata": {},
   "outputs": [
    {
     "name": "stderr",
     "output_type": "stream",
     "text": [
      "/home/ashwin/anaconda3/lib/python3.11/site-packages/keras/src/layers/convolutional/base_conv.py:107: UserWarning: Do not pass an `input_shape`/`input_dim` argument to a layer. When using Sequential models, prefer using an `Input(shape)` object as the first layer in the model instead.\n",
      "  super().__init__(activity_regularizer=activity_regularizer, **kwargs)\n"
     ]
    },
    {
     "name": "stdout",
     "output_type": "stream",
     "text": [
      "Epoch 1/100\n"
     ]
    },
    {
     "name": "stderr",
     "output_type": "stream",
     "text": [
      "/home/ashwin/anaconda3/lib/python3.11/site-packages/keras/src/trainers/data_adapters/py_dataset_adapter.py:121: UserWarning: Your `PyDataset` class should call `super().__init__(**kwargs)` in its constructor. `**kwargs` can include `workers`, `use_multiprocessing`, `max_queue_size`. Do not pass these arguments to `fit()`, as they will be ignored.\n",
      "  self._warn_if_super_not_called()\n"
     ]
    },
    {
     "name": "stdout",
     "output_type": "stream",
     "text": [
      "176/176 - 7s - 39ms/step - categorical_accuracy: 0.1975 - loss: 1.6217 - val_categorical_accuracy: 0.0743 - val_loss: 1.6703 - learning_rate: 0.0010\n",
      "Epoch 2/100\n",
      "176/176 - 5s - 26ms/step - categorical_accuracy: 0.1934 - loss: 1.6117 - val_categorical_accuracy: 0.0760 - val_loss: 1.6439 - learning_rate: 0.0010\n",
      "Epoch 3/100\n",
      "176/176 - 5s - 28ms/step - categorical_accuracy: 0.1927 - loss: 1.6057 - val_categorical_accuracy: 0.1098 - val_loss: 1.6253 - learning_rate: 0.0010\n",
      "Epoch 4/100\n",
      "176/176 - 4s - 25ms/step - categorical_accuracy: 0.2266 - loss: 1.6010 - val_categorical_accuracy: 0.1875 - val_loss: 1.6119 - learning_rate: 0.0010\n",
      "Epoch 5/100\n",
      "176/176 - 5s - 26ms/step - categorical_accuracy: 0.2552 - loss: 1.5970 - val_categorical_accuracy: 0.2517 - val_loss: 1.6025 - learning_rate: 0.0010\n",
      "Epoch 6/100\n",
      "176/176 - 4s - 24ms/step - categorical_accuracy: 0.2876 - loss: 1.5931 - val_categorical_accuracy: 0.2889 - val_loss: 1.5947 - learning_rate: 0.0010\n",
      "Epoch 7/100\n",
      "176/176 - 4s - 25ms/step - categorical_accuracy: 0.3009 - loss: 1.5894 - val_categorical_accuracy: 0.3024 - val_loss: 1.5873 - learning_rate: 0.0010\n",
      "Epoch 8/100\n",
      "176/176 - 5s - 27ms/step - categorical_accuracy: 0.3091 - loss: 1.5854 - val_categorical_accuracy: 0.3176 - val_loss: 1.5811 - learning_rate: 0.0010\n",
      "Epoch 9/100\n",
      "176/176 - 4s - 25ms/step - categorical_accuracy: 0.3181 - loss: 1.5812 - val_categorical_accuracy: 0.3311 - val_loss: 1.5742 - learning_rate: 0.0010\n",
      "Epoch 10/100\n",
      "176/176 - 4s - 24ms/step - categorical_accuracy: 0.3345 - loss: 1.5766 - val_categorical_accuracy: 0.3361 - val_loss: 1.5680 - learning_rate: 0.0010\n",
      "Epoch 11/100\n",
      "176/176 - 4s - 25ms/step - categorical_accuracy: 0.3405 - loss: 1.5719 - val_categorical_accuracy: 0.3395 - val_loss: 1.5638 - learning_rate: 9.0484e-04\n",
      "Epoch 12/100\n",
      "176/176 - 4s - 24ms/step - categorical_accuracy: 0.3487 - loss: 1.5673 - val_categorical_accuracy: 0.3514 - val_loss: 1.5575 - learning_rate: 8.1873e-04\n",
      "Epoch 13/100\n",
      "176/176 - 4s - 25ms/step - categorical_accuracy: 0.3536 - loss: 1.5628 - val_categorical_accuracy: 0.3514 - val_loss: 1.5535 - learning_rate: 7.4082e-04\n",
      "Epoch 14/100\n",
      "176/176 - 4s - 25ms/step - categorical_accuracy: 0.3737 - loss: 1.5583 - val_categorical_accuracy: 0.3497 - val_loss: 1.5478 - learning_rate: 6.7032e-04\n",
      "Epoch 15/100\n",
      "176/176 - 4s - 25ms/step - categorical_accuracy: 0.3746 - loss: 1.5539 - val_categorical_accuracy: 0.3615 - val_loss: 1.5399 - learning_rate: 6.0653e-04\n",
      "Epoch 16/100\n",
      "176/176 - 5s - 26ms/step - categorical_accuracy: 0.3822 - loss: 1.5496 - val_categorical_accuracy: 0.3733 - val_loss: 1.5349 - learning_rate: 5.4881e-04\n",
      "Epoch 17/100\n",
      "176/176 - 4s - 25ms/step - categorical_accuracy: 0.3877 - loss: 1.5455 - val_categorical_accuracy: 0.3784 - val_loss: 1.5308 - learning_rate: 4.9659e-04\n",
      "Epoch 18/100\n",
      "176/176 - 4s - 24ms/step - categorical_accuracy: 0.3986 - loss: 1.5414 - val_categorical_accuracy: 0.3885 - val_loss: 1.5257 - learning_rate: 4.4933e-04\n",
      "Epoch 19/100\n",
      "176/176 - 4s - 23ms/step - categorical_accuracy: 0.4002 - loss: 1.5375 - val_categorical_accuracy: 0.4003 - val_loss: 1.5202 - learning_rate: 4.0657e-04\n",
      "Epoch 20/100\n",
      "176/176 - 4s - 24ms/step - categorical_accuracy: 0.4044 - loss: 1.5337 - val_categorical_accuracy: 0.3919 - val_loss: 1.5174 - learning_rate: 3.6788e-04\n",
      "Epoch 21/100\n",
      "176/176 - 4s - 24ms/step - categorical_accuracy: 0.4087 - loss: 1.5302 - val_categorical_accuracy: 0.3919 - val_loss: 1.5130 - learning_rate: 3.3287e-04\n",
      "Epoch 22/100\n",
      "176/176 - 4s - 23ms/step - categorical_accuracy: 0.4162 - loss: 1.5267 - val_categorical_accuracy: 0.4071 - val_loss: 1.5080 - learning_rate: 3.0119e-04\n",
      "Epoch 23/100\n",
      "176/176 - 4s - 22ms/step - categorical_accuracy: 0.4204 - loss: 1.5235 - val_categorical_accuracy: 0.4139 - val_loss: 1.5041 - learning_rate: 2.7253e-04\n",
      "Epoch 24/100\n",
      "176/176 - 4s - 23ms/step - categorical_accuracy: 0.4270 - loss: 1.5204 - val_categorical_accuracy: 0.4206 - val_loss: 1.4998 - learning_rate: 2.4660e-04\n",
      "Epoch 25/100\n",
      "176/176 - 4s - 23ms/step - categorical_accuracy: 0.4277 - loss: 1.5175 - val_categorical_accuracy: 0.4324 - val_loss: 1.4960 - learning_rate: 2.2313e-04\n",
      "Epoch 26/100\n",
      "176/176 - 4s - 22ms/step - categorical_accuracy: 0.4336 - loss: 1.5148 - val_categorical_accuracy: 0.4375 - val_loss: 1.4923 - learning_rate: 2.0190e-04\n",
      "Epoch 27/100\n",
      "176/176 - 4s - 23ms/step - categorical_accuracy: 0.4353 - loss: 1.5123 - val_categorical_accuracy: 0.4443 - val_loss: 1.4892 - learning_rate: 1.8268e-04\n",
      "Epoch 28/100\n",
      "176/176 - 4s - 24ms/step - categorical_accuracy: 0.4416 - loss: 1.5099 - val_categorical_accuracy: 0.4493 - val_loss: 1.4865 - learning_rate: 1.6530e-04\n",
      "Epoch 29/100\n",
      "176/176 - 4s - 21ms/step - categorical_accuracy: 0.4453 - loss: 1.5077 - val_categorical_accuracy: 0.4645 - val_loss: 1.4831 - learning_rate: 1.4957e-04\n",
      "Epoch 30/100\n",
      "176/176 - 4s - 23ms/step - categorical_accuracy: 0.4464 - loss: 1.5056 - val_categorical_accuracy: 0.4713 - val_loss: 1.4803 - learning_rate: 1.3534e-04\n",
      "Epoch 31/100\n",
      "176/176 - 4s - 23ms/step - categorical_accuracy: 0.4478 - loss: 1.5037 - val_categorical_accuracy: 0.4747 - val_loss: 1.4776 - learning_rate: 1.2246e-04\n",
      "Epoch 32/100\n",
      "176/176 - 4s - 23ms/step - categorical_accuracy: 0.4513 - loss: 1.5019 - val_categorical_accuracy: 0.4831 - val_loss: 1.4751 - learning_rate: 1.1080e-04\n",
      "Epoch 33/100\n",
      "176/176 - 4s - 22ms/step - categorical_accuracy: 0.4522 - loss: 1.5003 - val_categorical_accuracy: 0.4848 - val_loss: 1.4730 - learning_rate: 1.0026e-04\n",
      "Epoch 34/100\n",
      "176/176 - 4s - 23ms/step - categorical_accuracy: 0.4545 - loss: 1.4988 - val_categorical_accuracy: 0.4814 - val_loss: 1.4713 - learning_rate: 9.0718e-05\n",
      "Epoch 35/100\n",
      "176/176 - 4s - 22ms/step - categorical_accuracy: 0.4549 - loss: 1.4975 - val_categorical_accuracy: 0.4814 - val_loss: 1.4698 - learning_rate: 8.2085e-05\n",
      "Epoch 36/100\n",
      "176/176 - 4s - 22ms/step - categorical_accuracy: 0.4574 - loss: 1.4962 - val_categorical_accuracy: 0.4797 - val_loss: 1.4685 - learning_rate: 7.4274e-05\n",
      "Epoch 37/100\n",
      "176/176 - 4s - 23ms/step - categorical_accuracy: 0.4590 - loss: 1.4951 - val_categorical_accuracy: 0.4797 - val_loss: 1.4673 - learning_rate: 6.7206e-05\n",
      "Epoch 38/100\n",
      "176/176 - 4s - 20ms/step - categorical_accuracy: 0.4583 - loss: 1.4941 - val_categorical_accuracy: 0.4797 - val_loss: 1.4661 - learning_rate: 6.0810e-05\n",
      "Epoch 39/100\n",
      "176/176 - 4s - 23ms/step - categorical_accuracy: 0.4581 - loss: 1.4932 - val_categorical_accuracy: 0.4831 - val_loss: 1.4652 - learning_rate: 5.5023e-05\n",
      "Epoch 40/100\n",
      "176/176 - 4s - 23ms/step - categorical_accuracy: 0.4586 - loss: 1.4924 - val_categorical_accuracy: 0.4848 - val_loss: 1.4642 - learning_rate: 4.9787e-05\n",
      "Epoch 41/100\n",
      "176/176 - 4s - 23ms/step - categorical_accuracy: 0.4611 - loss: 1.4916 - val_categorical_accuracy: 0.4865 - val_loss: 1.4634 - learning_rate: 4.5049e-05\n",
      "Epoch 42/100\n",
      "176/176 - 4s - 22ms/step - categorical_accuracy: 0.4613 - loss: 1.4909 - val_categorical_accuracy: 0.4865 - val_loss: 1.4627 - learning_rate: 4.0762e-05\n",
      "Epoch 43/100\n",
      "176/176 - 4s - 23ms/step - categorical_accuracy: 0.4602 - loss: 1.4903 - val_categorical_accuracy: 0.4865 - val_loss: 1.4621 - learning_rate: 3.6883e-05\n",
      "Epoch 44/100\n",
      "176/176 - 4s - 22ms/step - categorical_accuracy: 0.4606 - loss: 1.4897 - val_categorical_accuracy: 0.4848 - val_loss: 1.4614 - learning_rate: 3.3373e-05\n",
      "Epoch 45/100\n",
      "176/176 - 4s - 21ms/step - categorical_accuracy: 0.4623 - loss: 1.4892 - val_categorical_accuracy: 0.4814 - val_loss: 1.4609 - learning_rate: 3.0197e-05\n",
      "Epoch 46/100\n",
      "176/176 - 4s - 23ms/step - categorical_accuracy: 0.4620 - loss: 1.4887 - val_categorical_accuracy: 0.4814 - val_loss: 1.4604 - learning_rate: 2.7324e-05\n",
      "Epoch 47/100\n",
      "176/176 - 4s - 23ms/step - categorical_accuracy: 0.4618 - loss: 1.4883 - val_categorical_accuracy: 0.4814 - val_loss: 1.4599 - learning_rate: 2.4724e-05\n",
      "Epoch 48/100\n",
      "176/176 - 4s - 22ms/step - categorical_accuracy: 0.4620 - loss: 1.4879 - val_categorical_accuracy: 0.4814 - val_loss: 1.4595 - learning_rate: 2.2371e-05\n",
      "Epoch 49/100\n",
      "176/176 - 4s - 23ms/step - categorical_accuracy: 0.4625 - loss: 1.4876 - val_categorical_accuracy: 0.4814 - val_loss: 1.4591 - learning_rate: 2.0242e-05\n",
      "Epoch 50/100\n",
      "176/176 - 4s - 23ms/step - categorical_accuracy: 0.4625 - loss: 1.4873 - val_categorical_accuracy: 0.4814 - val_loss: 1.4588 - learning_rate: 1.8316e-05\n",
      "Epoch 51/100\n",
      "176/176 - 4s - 23ms/step - categorical_accuracy: 0.4629 - loss: 1.4870 - val_categorical_accuracy: 0.4814 - val_loss: 1.4585 - learning_rate: 1.6573e-05\n",
      "Epoch 52/100\n",
      "176/176 - 4s - 24ms/step - categorical_accuracy: 0.4634 - loss: 1.4867 - val_categorical_accuracy: 0.4814 - val_loss: 1.4582 - learning_rate: 1.4996e-05\n",
      "Epoch 53/100\n",
      "176/176 - 4s - 24ms/step - categorical_accuracy: 0.4638 - loss: 1.4865 - val_categorical_accuracy: 0.4814 - val_loss: 1.4579 - learning_rate: 1.3569e-05\n",
      "Epoch 54/100\n",
      "176/176 - 4s - 22ms/step - categorical_accuracy: 0.4639 - loss: 1.4863 - val_categorical_accuracy: 0.4814 - val_loss: 1.4577 - learning_rate: 1.2277e-05\n",
      "Epoch 55/100\n",
      "176/176 - 4s - 23ms/step - categorical_accuracy: 0.4639 - loss: 1.4861 - val_categorical_accuracy: 0.4814 - val_loss: 1.4575 - learning_rate: 1.1109e-05\n",
      "Epoch 56/100\n",
      "176/176 - 4s - 22ms/step - categorical_accuracy: 0.4645 - loss: 1.4859 - val_categorical_accuracy: 0.4814 - val_loss: 1.4573 - learning_rate: 1.0052e-05\n",
      "Epoch 57/100\n",
      "176/176 - 4s - 22ms/step - categorical_accuracy: 0.4650 - loss: 1.4857 - val_categorical_accuracy: 0.4814 - val_loss: 1.4571 - learning_rate: 9.0953e-06\n",
      "Epoch 58/100\n",
      "176/176 - 4s - 22ms/step - categorical_accuracy: 0.4654 - loss: 1.4856 - val_categorical_accuracy: 0.4814 - val_loss: 1.4570 - learning_rate: 8.2298e-06\n",
      "Epoch 59/100\n",
      "176/176 - 4s - 21ms/step - categorical_accuracy: 0.4648 - loss: 1.4855 - val_categorical_accuracy: 0.4814 - val_loss: 1.4568 - learning_rate: 7.4466e-06\n",
      "Epoch 60/100\n",
      "176/176 - 4s - 23ms/step - categorical_accuracy: 0.4655 - loss: 1.4853 - val_categorical_accuracy: 0.4831 - val_loss: 1.4567 - learning_rate: 6.7379e-06\n",
      "Epoch 61/100\n",
      "176/176 - 4s - 23ms/step - categorical_accuracy: 0.4648 - loss: 1.4852 - val_categorical_accuracy: 0.4848 - val_loss: 1.4566 - learning_rate: 6.0967e-06\n",
      "Epoch 62/100\n",
      "176/176 - 4s - 23ms/step - categorical_accuracy: 0.4654 - loss: 1.4851 - val_categorical_accuracy: 0.4865 - val_loss: 1.4565 - learning_rate: 5.5166e-06\n",
      "Epoch 63/100\n",
      "176/176 - 4s - 21ms/step - categorical_accuracy: 0.4648 - loss: 1.4851 - val_categorical_accuracy: 0.4865 - val_loss: 1.4564 - learning_rate: 4.9916e-06\n",
      "Epoch 64/100\n",
      "176/176 - 4s - 22ms/step - categorical_accuracy: 0.4654 - loss: 1.4850 - val_categorical_accuracy: 0.4865 - val_loss: 1.4563 - learning_rate: 4.5166e-06\n",
      "Epoch 65/100\n",
      "176/176 - 4s - 23ms/step - categorical_accuracy: 0.4650 - loss: 1.4849 - val_categorical_accuracy: 0.4865 - val_loss: 1.4562 - learning_rate: 4.0868e-06\n",
      "Epoch 66/100\n",
      "176/176 - 4s - 23ms/step - categorical_accuracy: 0.4652 - loss: 1.4848 - val_categorical_accuracy: 0.4865 - val_loss: 1.4561 - learning_rate: 3.6979e-06\n",
      "Epoch 67/100\n",
      "176/176 - 4s - 23ms/step - categorical_accuracy: 0.4654 - loss: 1.4848 - val_categorical_accuracy: 0.4865 - val_loss: 1.4561 - learning_rate: 3.3460e-06\n",
      "Epoch 68/100\n",
      "176/176 - 4s - 23ms/step - categorical_accuracy: 0.4655 - loss: 1.4847 - val_categorical_accuracy: 0.4865 - val_loss: 1.4560 - learning_rate: 3.0276e-06\n",
      "Epoch 69/100\n",
      "176/176 - 4s - 23ms/step - categorical_accuracy: 0.4655 - loss: 1.4847 - val_categorical_accuracy: 0.4865 - val_loss: 1.4560 - learning_rate: 2.7394e-06\n",
      "Epoch 70/100\n",
      "176/176 - 4s - 23ms/step - categorical_accuracy: 0.4654 - loss: 1.4846 - val_categorical_accuracy: 0.4865 - val_loss: 1.4559 - learning_rate: 2.4788e-06\n",
      "Epoch 71/100\n",
      "176/176 - 4s - 23ms/step - categorical_accuracy: 0.4657 - loss: 1.4846 - val_categorical_accuracy: 0.4865 - val_loss: 1.4559 - learning_rate: 2.2429e-06\n",
      "Epoch 72/100\n",
      "176/176 - 4s - 25ms/step - categorical_accuracy: 0.4655 - loss: 1.4846 - val_categorical_accuracy: 0.4865 - val_loss: 1.4558 - learning_rate: 2.0294e-06\n",
      "Epoch 73/100\n",
      "176/176 - 4s - 23ms/step - categorical_accuracy: 0.4657 - loss: 1.4845 - val_categorical_accuracy: 0.4865 - val_loss: 1.4558 - learning_rate: 1.8363e-06\n",
      "Epoch 74/100\n",
      "176/176 - 4s - 24ms/step - categorical_accuracy: 0.4659 - loss: 1.4845 - val_categorical_accuracy: 0.4865 - val_loss: 1.4558 - learning_rate: 1.6616e-06\n",
      "Epoch 75/100\n",
      "176/176 - 4s - 24ms/step - categorical_accuracy: 0.4659 - loss: 1.4845 - val_categorical_accuracy: 0.4865 - val_loss: 1.4557 - learning_rate: 1.5034e-06\n",
      "Epoch 76/100\n",
      "176/176 - 4s - 22ms/step - categorical_accuracy: 0.4659 - loss: 1.4845 - val_categorical_accuracy: 0.4865 - val_loss: 1.4557 - learning_rate: 1.3604e-06\n",
      "Epoch 77/100\n",
      "176/176 - 4s - 23ms/step - categorical_accuracy: 0.4659 - loss: 1.4844 - val_categorical_accuracy: 0.4865 - val_loss: 1.4557 - learning_rate: 1.2309e-06\n",
      "Epoch 78/100\n",
      "176/176 - 4s - 23ms/step - categorical_accuracy: 0.4659 - loss: 1.4844 - val_categorical_accuracy: 0.4865 - val_loss: 1.4557 - learning_rate: 1.1138e-06\n",
      "Epoch 79/100\n",
      "176/176 - 4s - 23ms/step - categorical_accuracy: 0.4659 - loss: 1.4844 - val_categorical_accuracy: 0.4865 - val_loss: 1.4557 - learning_rate: 1.0078e-06\n",
      "Epoch 80/100\n",
      "176/176 - 4s - 22ms/step - categorical_accuracy: 0.4659 - loss: 1.4844 - val_categorical_accuracy: 0.4865 - val_loss: 1.4556 - learning_rate: 9.1188e-07\n",
      "Epoch 81/100\n",
      "176/176 - 4s - 23ms/step - categorical_accuracy: 0.4659 - loss: 1.4844 - val_categorical_accuracy: 0.4865 - val_loss: 1.4556 - learning_rate: 8.2511e-07\n",
      "Epoch 82/100\n",
      "176/176 - 4s - 23ms/step - categorical_accuracy: 0.4659 - loss: 1.4843 - val_categorical_accuracy: 0.4865 - val_loss: 1.4556 - learning_rate: 7.4659e-07\n",
      "Epoch 83/100\n",
      "176/176 - 4s - 23ms/step - categorical_accuracy: 0.4659 - loss: 1.4843 - val_categorical_accuracy: 0.4865 - val_loss: 1.4556 - learning_rate: 6.7554e-07\n",
      "Epoch 84/100\n",
      "176/176 - 4s - 24ms/step - categorical_accuracy: 0.4659 - loss: 1.4843 - val_categorical_accuracy: 0.4865 - val_loss: 1.4556 - learning_rate: 6.1125e-07\n",
      "Epoch 85/100\n",
      "176/176 - 4s - 24ms/step - categorical_accuracy: 0.4659 - loss: 1.4843 - val_categorical_accuracy: 0.4865 - val_loss: 1.4556 - learning_rate: 5.5308e-07\n",
      "Epoch 86/100\n",
      "176/176 - 4s - 23ms/step - categorical_accuracy: 0.4659 - loss: 1.4843 - val_categorical_accuracy: 0.4865 - val_loss: 1.4556 - learning_rate: 5.0045e-07\n",
      "Epoch 87/100\n",
      "176/176 - 4s - 22ms/step - categorical_accuracy: 0.4657 - loss: 1.4843 - val_categorical_accuracy: 0.4865 - val_loss: 1.4556 - learning_rate: 4.5283e-07\n",
      "Epoch 88/100\n",
      "176/176 - 4s - 24ms/step - categorical_accuracy: 0.4659 - loss: 1.4843 - val_categorical_accuracy: 0.4865 - val_loss: 1.4555 - learning_rate: 4.0974e-07\n",
      "Epoch 89/100\n",
      "176/176 - 4s - 23ms/step - categorical_accuracy: 0.4659 - loss: 1.4843 - val_categorical_accuracy: 0.4865 - val_loss: 1.4555 - learning_rate: 3.7074e-07\n",
      "Epoch 90/100\n",
      "176/176 - 4s - 23ms/step - categorical_accuracy: 0.4659 - loss: 1.4843 - val_categorical_accuracy: 0.4865 - val_loss: 1.4555 - learning_rate: 3.3546e-07\n",
      "Epoch 91/100\n",
      "176/176 - 4s - 23ms/step - categorical_accuracy: 0.4659 - loss: 1.4843 - val_categorical_accuracy: 0.4865 - val_loss: 1.4555 - learning_rate: 3.0354e-07\n",
      "Epoch 92/100\n",
      "176/176 - 4s - 23ms/step - categorical_accuracy: 0.4659 - loss: 1.4843 - val_categorical_accuracy: 0.4865 - val_loss: 1.4555 - learning_rate: 2.7465e-07\n",
      "Epoch 93/100\n",
      "176/176 - 4s - 23ms/step - categorical_accuracy: 0.4659 - loss: 1.4843 - val_categorical_accuracy: 0.4865 - val_loss: 1.4555 - learning_rate: 2.4852e-07\n",
      "Epoch 94/100\n",
      "176/176 - 4s - 23ms/step - categorical_accuracy: 0.4659 - loss: 1.4843 - val_categorical_accuracy: 0.4865 - val_loss: 1.4555 - learning_rate: 2.2487e-07\n",
      "Epoch 95/100\n",
      "176/176 - 4s - 24ms/step - categorical_accuracy: 0.4659 - loss: 1.4843 - val_categorical_accuracy: 0.4865 - val_loss: 1.4555 - learning_rate: 2.0347e-07\n",
      "Epoch 96/100\n",
      "176/176 - 4s - 23ms/step - categorical_accuracy: 0.4659 - loss: 1.4843 - val_categorical_accuracy: 0.4865 - val_loss: 1.4555 - learning_rate: 1.8411e-07\n",
      "Epoch 97/100\n",
      "176/176 - 4s - 24ms/step - categorical_accuracy: 0.4659 - loss: 1.4843 - val_categorical_accuracy: 0.4865 - val_loss: 1.4555 - learning_rate: 1.6659e-07\n",
      "Epoch 98/100\n",
      "176/176 - 4s - 24ms/step - categorical_accuracy: 0.4659 - loss: 1.4843 - val_categorical_accuracy: 0.4865 - val_loss: 1.4555 - learning_rate: 1.5073e-07\n",
      "Epoch 99/100\n",
      "176/176 - 4s - 23ms/step - categorical_accuracy: 0.4659 - loss: 1.4843 - val_categorical_accuracy: 0.4865 - val_loss: 1.4555 - learning_rate: 1.3639e-07\n",
      "Epoch 100/100\n",
      "176/176 - 4s - 23ms/step - categorical_accuracy: 0.4659 - loss: 1.4843 - val_categorical_accuracy: 0.4865 - val_loss: 1.4555 - learning_rate: 1.2341e-07\n"
     ]
    },
    {
     "data": {
      "image/png": "[encoded data removed]",
      "text/plain": [
       "<Figure size 1000x500 with 2 Axes>"
      ]
     },
     "metadata": {},
     "output_type": "display_data"
    }
   ],
   "source": [
    "model = build_model()\n",
    "model = compile_model_with_scheduler(model)\n",
    "history = train_model_scheduler(model, train_generator, validation_generator, epochs=100, class_weights=None)\n",
    "\n",
    "\n",
    "# Plot the learning curves\n",
    "plot_learning_curve(history.history['loss'], history.history['val_loss'],\n",
    "                    history.history['categorical_accuracy'], history.history['val_categorical_accuracy'],\n",
    "                    metric_name='Accuracy')"
   ]
  },
  {
   "cell_type": "code",
   "execution_count": 34,
   "metadata": {},
   "outputs": [
    {
     "name": "stdout",
     "output_type": "stream",
     "text": [
      "176/176 - 4s - 23ms/step - categorical_accuracy: 0.4659 - loss: 1.4843\n",
      "19/19 - 1s - 27ms/step - categorical_accuracy: 0.4865 - loss: 1.4555\n",
      "740/740 - 3s - 4ms/step - categorical_accuracy: 0.4743 - loss: 1.4638\n",
      "\n",
      "################## Model Performance ######################\n",
      "\n",
      "Train loss: 1.4843, \n",
      "Train AUC-PR: 0.4659\n",
      "Validation loss: 1.4555, \n",
      "Validation AUC-PR: 0.4865\n",
      "Test loss: 1.4638, \n",
      "Test AUC-PR: 0.4743\n"
     ]
    }
   ],
   "source": [
    "calc_model_performance(model, train_generator, validation_generator)"
   ]
  },
  {
   "cell_type": "code",
   "execution_count": 35,
   "metadata": {},
   "outputs": [
    {
     "name": "stdout",
     "output_type": "stream",
     "text": [
      "\u001b[1m740/740\u001b[0m \u001b[32m━━━━━━━━━━━━━━━━━━━━\u001b[0m\u001b[37m\u001b[0m \u001b[1m4s\u001b[0m 5ms/step\n",
      "\n",
      "################# Classification Report #################\n",
      "\n",
      "                precision    recall  f1-score   support\n",
      "\n",
      " Shape_diamond       0.04      0.05      0.05        56\n",
      "     Shape_hex       0.02      0.33      0.04         9\n",
      "   Shape_round       0.56      0.25      0.34       352\n",
      "  Shape_square       0.19      0.09      0.13       138\n",
      "Shape_triangle       0.29      0.49      0.37       185\n",
      "\n",
      "      accuracy                           0.26       740\n",
      "     macro avg       0.22      0.24      0.18       740\n",
      "  weighted avg       0.38      0.26      0.28       740\n",
      "\n"
     ]
    }
   ],
   "source": [
    "predict_labels(model, test_generator, test_data)"
   ]
  },
  {
   "cell_type": "markdown",
   "metadata": {},
   "source": [
    "Early stopping"
   ]
  },
  {
   "cell_type": "code",
   "execution_count": 36,
   "metadata": {},
   "outputs": [],
   "source": [
    "from tensorflow.keras.callbacks import EarlyStopping\n",
    "def train_model_early_stop(model, train_generator, validation_generator, epochs=50, class_weights=None):\n",
    "    \n",
    "    \n",
    "    callback_early_stopping = EarlyStopping(monitor='val_loss', patience=10, restore_best_weights=True)\n",
    "    callback_learning_rate = tf.keras.callbacks.LearningRateScheduler(scheduler)\n",
    "    callback = [callback_early_stopping, callback_learning_rate]\n",
    "\n",
    "    history = model.fit(train_generator,\n",
    "                        validation_data=validation_generator,\n",
    "                        epochs=epochs,\n",
    "                        class_weight=class_weights,\n",
    "                        callbacks=[callback],\n",
    "                        verbose=2)\n",
    "    return history"
   ]
  },
  {
   "cell_type": "code",
   "execution_count": 37,
   "metadata": {},
   "outputs": [
    {
     "name": "stdout",
     "output_type": "stream",
     "text": [
      "Epoch 1/100\n"
     ]
    },
    {
     "name": "stderr",
     "output_type": "stream",
     "text": [
      "/home/ashwin/anaconda3/lib/python3.11/site-packages/keras/src/layers/convolutional/base_conv.py:107: UserWarning: Do not pass an `input_shape`/`input_dim` argument to a layer. When using Sequential models, prefer using an `Input(shape)` object as the first layer in the model instead.\n",
      "  super().__init__(activity_regularizer=activity_regularizer, **kwargs)\n"
     ]
    },
    {
     "name": "stdout",
     "output_type": "stream",
     "text": [
      "176/176 - 7s - 42ms/step - categorical_accuracy: 0.2250 - loss: 1.6094 - val_categorical_accuracy: 0.4155 - val_loss: 1.5744 - learning_rate: 0.0010\n",
      "Epoch 2/100\n",
      "176/176 - 4s - 25ms/step - categorical_accuracy: 0.2803 - loss: 1.6010 - val_categorical_accuracy: 0.5084 - val_loss: 1.5712 - learning_rate: 0.0010\n",
      "Epoch 3/100\n",
      "176/176 - 4s - 25ms/step - categorical_accuracy: 0.3137 - loss: 1.5955 - val_categorical_accuracy: 0.5490 - val_loss: 1.5682 - learning_rate: 0.0010\n",
      "Epoch 4/100\n",
      "176/176 - 4s - 25ms/step - categorical_accuracy: 0.3334 - loss: 1.5903 - val_categorical_accuracy: 0.5507 - val_loss: 1.5639 - learning_rate: 0.0010\n",
      "Epoch 5/100\n",
      "176/176 - 4s - 24ms/step - categorical_accuracy: 0.3519 - loss: 1.5851 - val_categorical_accuracy: 0.5220 - val_loss: 1.5591 - learning_rate: 0.0010\n",
      "Epoch 6/100\n",
      "176/176 - 4s - 25ms/step - categorical_accuracy: 0.3611 - loss: 1.5797 - val_categorical_accuracy: 0.5270 - val_loss: 1.5518 - learning_rate: 0.0010\n",
      "Epoch 7/100\n",
      "176/176 - 4s - 24ms/step - categorical_accuracy: 0.3741 - loss: 1.5737 - val_categorical_accuracy: 0.5253 - val_loss: 1.5435 - learning_rate: 0.0010\n",
      "Epoch 8/100\n",
      "176/176 - 4s - 24ms/step - categorical_accuracy: 0.3813 - loss: 1.5669 - val_categorical_accuracy: 0.5169 - val_loss: 1.5338 - learning_rate: 0.0010\n",
      "Epoch 9/100\n",
      "176/176 - 4s - 24ms/step - categorical_accuracy: 0.3890 - loss: 1.5592 - val_categorical_accuracy: 0.5236 - val_loss: 1.5225 - learning_rate: 0.0010\n",
      "Epoch 10/100\n",
      "176/176 - 4s - 24ms/step - categorical_accuracy: 0.3970 - loss: 1.5502 - val_categorical_accuracy: 0.5557 - val_loss: 1.5080 - learning_rate: 0.0010\n",
      "Epoch 11/100\n",
      "176/176 - 4s - 24ms/step - categorical_accuracy: 0.4069 - loss: 1.5401 - val_categorical_accuracy: 0.5760 - val_loss: 1.4927 - learning_rate: 9.0484e-04\n",
      "Epoch 12/100\n",
      "176/176 - 4s - 24ms/step - categorical_accuracy: 0.4169 - loss: 1.5296 - val_categorical_accuracy: 0.5625 - val_loss: 1.4775 - learning_rate: 8.1873e-04\n",
      "Epoch 13/100\n",
      "176/176 - 4s - 24ms/step - categorical_accuracy: 0.4172 - loss: 1.5189 - val_categorical_accuracy: 0.5912 - val_loss: 1.4633 - learning_rate: 7.4082e-04\n",
      "Epoch 14/100\n",
      "176/176 - 4s - 24ms/step - categorical_accuracy: 0.4279 - loss: 1.5079 - val_categorical_accuracy: 0.6047 - val_loss: 1.4482 - learning_rate: 6.7032e-04\n",
      "Epoch 15/100\n",
      "176/176 - 4s - 24ms/step - categorical_accuracy: 0.4458 - loss: 1.4972 - val_categorical_accuracy: 0.6081 - val_loss: 1.4319 - learning_rate: 6.0653e-04\n",
      "Epoch 16/100\n",
      "176/176 - 4s - 24ms/step - categorical_accuracy: 0.4453 - loss: 1.4865 - val_categorical_accuracy: 0.6098 - val_loss: 1.4175 - learning_rate: 5.4881e-04\n",
      "Epoch 17/100\n",
      "176/176 - 4s - 25ms/step - categorical_accuracy: 0.4528 - loss: 1.4760 - val_categorical_accuracy: 0.6132 - val_loss: 1.4035 - learning_rate: 4.9659e-04\n",
      "Epoch 18/100\n",
      "176/176 - 4s - 24ms/step - categorical_accuracy: 0.4627 - loss: 1.4661 - val_categorical_accuracy: 0.6250 - val_loss: 1.3903 - learning_rate: 4.4933e-04\n",
      "Epoch 19/100\n",
      "176/176 - 4s - 24ms/step - categorical_accuracy: 0.4682 - loss: 1.4564 - val_categorical_accuracy: 0.6301 - val_loss: 1.3751 - learning_rate: 4.0657e-04\n",
      "Epoch 20/100\n",
      "176/176 - 4s - 23ms/step - categorical_accuracy: 0.4771 - loss: 1.4474 - val_categorical_accuracy: 0.6351 - val_loss: 1.3638 - learning_rate: 3.6788e-04\n",
      "Epoch 21/100\n",
      "176/176 - 4s - 24ms/step - categorical_accuracy: 0.4787 - loss: 1.4388 - val_categorical_accuracy: 0.6318 - val_loss: 1.3538 - learning_rate: 3.3287e-04\n",
      "Epoch 22/100\n",
      "176/176 - 4s - 24ms/step - categorical_accuracy: 0.4810 - loss: 1.4310 - val_categorical_accuracy: 0.6250 - val_loss: 1.3449 - learning_rate: 3.0119e-04\n",
      "Epoch 23/100\n",
      "176/176 - 4s - 24ms/step - categorical_accuracy: 0.4853 - loss: 1.4238 - val_categorical_accuracy: 0.6284 - val_loss: 1.3349 - learning_rate: 2.7253e-04\n",
      "Epoch 24/100\n",
      "176/176 - 4s - 24ms/step - categorical_accuracy: 0.4917 - loss: 1.4172 - val_categorical_accuracy: 0.6318 - val_loss: 1.3262 - learning_rate: 2.4660e-04\n",
      "Epoch 25/100\n",
      "176/176 - 4s - 24ms/step - categorical_accuracy: 0.4918 - loss: 1.4113 - val_categorical_accuracy: 0.6351 - val_loss: 1.3181 - learning_rate: 2.2313e-04\n",
      "Epoch 26/100\n",
      "176/176 - 4s - 24ms/step - categorical_accuracy: 0.4961 - loss: 1.4059 - val_categorical_accuracy: 0.6402 - val_loss: 1.3116 - learning_rate: 2.0190e-04\n",
      "Epoch 27/100\n",
      "176/176 - 4s - 24ms/step - categorical_accuracy: 0.4991 - loss: 1.4011 - val_categorical_accuracy: 0.6419 - val_loss: 1.3057 - learning_rate: 1.8268e-04\n",
      "Epoch 28/100\n",
      "176/176 - 4s - 25ms/step - categorical_accuracy: 0.5014 - loss: 1.3968 - val_categorical_accuracy: 0.6419 - val_loss: 1.3004 - learning_rate: 1.6530e-04\n",
      "Epoch 29/100\n",
      "176/176 - 3s - 18ms/step - categorical_accuracy: 0.5005 - loss: 1.3928 - val_categorical_accuracy: 0.6402 - val_loss: 1.2957 - learning_rate: 1.4957e-04\n",
      "Epoch 30/100\n",
      "176/176 - 3s - 20ms/step - categorical_accuracy: 0.5030 - loss: 1.3893 - val_categorical_accuracy: 0.6419 - val_loss: 1.2918 - learning_rate: 1.3534e-04\n",
      "Epoch 31/100\n",
      "176/176 - 3s - 19ms/step - categorical_accuracy: 0.5037 - loss: 1.3861 - val_categorical_accuracy: 0.6402 - val_loss: 1.2872 - learning_rate: 1.2246e-04\n",
      "Epoch 32/100\n",
      "176/176 - 4s - 22ms/step - categorical_accuracy: 0.5041 - loss: 1.3833 - val_categorical_accuracy: 0.6385 - val_loss: 1.2831 - learning_rate: 1.1080e-04\n",
      "Epoch 33/100\n",
      "176/176 - 3s - 20ms/step - categorical_accuracy: 0.5062 - loss: 1.3807 - val_categorical_accuracy: 0.6402 - val_loss: 1.2800 - learning_rate: 1.0026e-04\n",
      "Epoch 34/100\n",
      "176/176 - 4s - 22ms/step - categorical_accuracy: 0.5080 - loss: 1.3784 - val_categorical_accuracy: 0.6402 - val_loss: 1.2769 - learning_rate: 9.0718e-05\n",
      "Epoch 35/100\n",
      "176/176 - 4s - 23ms/step - categorical_accuracy: 0.5092 - loss: 1.3763 - val_categorical_accuracy: 0.6385 - val_loss: 1.2741 - learning_rate: 8.2085e-05\n",
      "Epoch 36/100\n",
      "176/176 - 3s - 17ms/step - categorical_accuracy: 0.5096 - loss: 1.3744 - val_categorical_accuracy: 0.6402 - val_loss: 1.2717 - learning_rate: 7.4274e-05\n",
      "Epoch 37/100\n",
      "176/176 - 4s - 22ms/step - categorical_accuracy: 0.5131 - loss: 1.3727 - val_categorical_accuracy: 0.6385 - val_loss: 1.2697 - learning_rate: 6.7206e-05\n",
      "Epoch 38/100\n",
      "176/176 - 3s - 19ms/step - categorical_accuracy: 0.5114 - loss: 1.3711 - val_categorical_accuracy: 0.6385 - val_loss: 1.2678 - learning_rate: 6.0810e-05\n",
      "Epoch 39/100\n",
      "176/176 - 4s - 22ms/step - categorical_accuracy: 0.5121 - loss: 1.3697 - val_categorical_accuracy: 0.6385 - val_loss: 1.2660 - learning_rate: 5.5023e-05\n",
      "Epoch 40/100\n",
      "176/176 - 3s - 17ms/step - categorical_accuracy: 0.5119 - loss: 1.3685 - val_categorical_accuracy: 0.6368 - val_loss: 1.2644 - learning_rate: 4.9787e-05\n",
      "Epoch 41/100\n",
      "176/176 - 4s - 20ms/step - categorical_accuracy: 0.5121 - loss: 1.3674 - val_categorical_accuracy: 0.6368 - val_loss: 1.2627 - learning_rate: 4.5049e-05\n",
      "Epoch 42/100\n",
      "176/176 - 3s - 15ms/step - categorical_accuracy: 0.5155 - loss: 1.3663 - val_categorical_accuracy: 0.6368 - val_loss: 1.2614 - learning_rate: 4.0762e-05\n",
      "Epoch 43/100\n",
      "176/176 - 3s - 16ms/step - categorical_accuracy: 0.5140 - loss: 1.3654 - val_categorical_accuracy: 0.6368 - val_loss: 1.2601 - learning_rate: 3.6883e-05\n",
      "Epoch 44/100\n",
      "176/176 - 3s - 15ms/step - categorical_accuracy: 0.5146 - loss: 1.3646 - val_categorical_accuracy: 0.6351 - val_loss: 1.2591 - learning_rate: 3.3373e-05\n",
      "Epoch 45/100\n",
      "176/176 - 3s - 16ms/step - categorical_accuracy: 0.5146 - loss: 1.3638 - val_categorical_accuracy: 0.6368 - val_loss: 1.2582 - learning_rate: 3.0197e-05\n",
      "Epoch 46/100\n",
      "176/176 - 3s - 17ms/step - categorical_accuracy: 0.5146 - loss: 1.3631 - val_categorical_accuracy: 0.6368 - val_loss: 1.2573 - learning_rate: 2.7324e-05\n",
      "Epoch 47/100\n",
      "176/176 - 3s - 16ms/step - categorical_accuracy: 0.5153 - loss: 1.3625 - val_categorical_accuracy: 0.6368 - val_loss: 1.2566 - learning_rate: 2.4724e-05\n",
      "Epoch 48/100\n",
      "176/176 - 3s - 15ms/step - categorical_accuracy: 0.5153 - loss: 1.3619 - val_categorical_accuracy: 0.6368 - val_loss: 1.2558 - learning_rate: 2.2371e-05\n",
      "Epoch 49/100\n",
      "176/176 - 3s - 15ms/step - categorical_accuracy: 0.5160 - loss: 1.3614 - val_categorical_accuracy: 0.6368 - val_loss: 1.2551 - learning_rate: 2.0242e-05\n",
      "Epoch 50/100\n",
      "176/176 - 3s - 15ms/step - categorical_accuracy: 0.5160 - loss: 1.3610 - val_categorical_accuracy: 0.6368 - val_loss: 1.2546 - learning_rate: 1.8316e-05\n",
      "Epoch 51/100\n",
      "176/176 - 3s - 15ms/step - categorical_accuracy: 0.5156 - loss: 1.3606 - val_categorical_accuracy: 0.6368 - val_loss: 1.2540 - learning_rate: 1.6573e-05\n",
      "Epoch 52/100\n",
      "176/176 - 3s - 15ms/step - categorical_accuracy: 0.5167 - loss: 1.3602 - val_categorical_accuracy: 0.6368 - val_loss: 1.2535 - learning_rate: 1.4996e-05\n",
      "Epoch 53/100\n",
      "176/176 - 3s - 15ms/step - categorical_accuracy: 0.5169 - loss: 1.3599 - val_categorical_accuracy: 0.6368 - val_loss: 1.2531 - learning_rate: 1.3569e-05\n",
      "Epoch 54/100\n",
      "176/176 - 3s - 15ms/step - categorical_accuracy: 0.5162 - loss: 1.3596 - val_categorical_accuracy: 0.6368 - val_loss: 1.2527 - learning_rate: 1.2277e-05\n",
      "Epoch 55/100\n",
      "176/176 - 3s - 15ms/step - categorical_accuracy: 0.5171 - loss: 1.3593 - val_categorical_accuracy: 0.6368 - val_loss: 1.2524 - learning_rate: 1.1109e-05\n",
      "Epoch 56/100\n",
      "176/176 - 3s - 15ms/step - categorical_accuracy: 0.5169 - loss: 1.3590 - val_categorical_accuracy: 0.6368 - val_loss: 1.2520 - learning_rate: 1.0052e-05\n",
      "Epoch 57/100\n",
      "176/176 - 3s - 15ms/step - categorical_accuracy: 0.5171 - loss: 1.3588 - val_categorical_accuracy: 0.6368 - val_loss: 1.2517 - learning_rate: 9.0953e-06\n",
      "Epoch 58/100\n",
      "176/176 - 3s - 15ms/step - categorical_accuracy: 0.5171 - loss: 1.3586 - val_categorical_accuracy: 0.6385 - val_loss: 1.2515 - learning_rate: 8.2298e-06\n",
      "Epoch 59/100\n",
      "176/176 - 3s - 15ms/step - categorical_accuracy: 0.5176 - loss: 1.3584 - val_categorical_accuracy: 0.6385 - val_loss: 1.2512 - learning_rate: 7.4466e-06\n",
      "Epoch 60/100\n",
      "176/176 - 3s - 15ms/step - categorical_accuracy: 0.5176 - loss: 1.3583 - val_categorical_accuracy: 0.6385 - val_loss: 1.2510 - learning_rate: 6.7379e-06\n",
      "Epoch 61/100\n",
      "176/176 - 3s - 15ms/step - categorical_accuracy: 0.5178 - loss: 1.3581 - val_categorical_accuracy: 0.6385 - val_loss: 1.2508 - learning_rate: 6.0967e-06\n",
      "Epoch 62/100\n",
      "176/176 - 3s - 15ms/step - categorical_accuracy: 0.5178 - loss: 1.3580 - val_categorical_accuracy: 0.6385 - val_loss: 1.2507 - learning_rate: 5.5166e-06\n",
      "Epoch 63/100\n",
      "176/176 - 3s - 15ms/step - categorical_accuracy: 0.5176 - loss: 1.3578 - val_categorical_accuracy: 0.6385 - val_loss: 1.2505 - learning_rate: 4.9916e-06\n",
      "Epoch 64/100\n",
      "176/176 - 3s - 15ms/step - categorical_accuracy: 0.5176 - loss: 1.3577 - val_categorical_accuracy: 0.6385 - val_loss: 1.2504 - learning_rate: 4.5166e-06\n",
      "Epoch 65/100\n",
      "176/176 - 3s - 15ms/step - categorical_accuracy: 0.5181 - loss: 1.3576 - val_categorical_accuracy: 0.6385 - val_loss: 1.2502 - learning_rate: 4.0868e-06\n",
      "Epoch 66/100\n",
      "176/176 - 3s - 15ms/step - categorical_accuracy: 0.5181 - loss: 1.3575 - val_categorical_accuracy: 0.6385 - val_loss: 1.2501 - learning_rate: 3.6979e-06\n",
      "Epoch 67/100\n",
      "176/176 - 3s - 14ms/step - categorical_accuracy: 0.5181 - loss: 1.3575 - val_categorical_accuracy: 0.6385 - val_loss: 1.2500 - learning_rate: 3.3460e-06\n",
      "Epoch 68/100\n",
      "176/176 - 3s - 16ms/step - categorical_accuracy: 0.5181 - loss: 1.3574 - val_categorical_accuracy: 0.6385 - val_loss: 1.2499 - learning_rate: 3.0276e-06\n",
      "Epoch 69/100\n",
      "176/176 - 3s - 15ms/step - categorical_accuracy: 0.5181 - loss: 1.3573 - val_categorical_accuracy: 0.6385 - val_loss: 1.2498 - learning_rate: 2.7394e-06\n",
      "Epoch 70/100\n",
      "176/176 - 3s - 16ms/step - categorical_accuracy: 0.5181 - loss: 1.3573 - val_categorical_accuracy: 0.6385 - val_loss: 1.2497 - learning_rate: 2.4788e-06\n",
      "Epoch 71/100\n",
      "176/176 - 3s - 14ms/step - categorical_accuracy: 0.5181 - loss: 1.3572 - val_categorical_accuracy: 0.6385 - val_loss: 1.2497 - learning_rate: 2.2429e-06\n",
      "Epoch 72/100\n",
      "176/176 - 3s - 15ms/step - categorical_accuracy: 0.5179 - loss: 1.3572 - val_categorical_accuracy: 0.6385 - val_loss: 1.2496 - learning_rate: 2.0294e-06\n",
      "Epoch 73/100\n",
      "176/176 - 3s - 15ms/step - categorical_accuracy: 0.5179 - loss: 1.3571 - val_categorical_accuracy: 0.6385 - val_loss: 1.2495 - learning_rate: 1.8363e-06\n",
      "Epoch 74/100\n",
      "176/176 - 3s - 15ms/step - categorical_accuracy: 0.5181 - loss: 1.3571 - val_categorical_accuracy: 0.6385 - val_loss: 1.2495 - learning_rate: 1.6616e-06\n",
      "Epoch 75/100\n",
      "176/176 - 3s - 14ms/step - categorical_accuracy: 0.5179 - loss: 1.3570 - val_categorical_accuracy: 0.6385 - val_loss: 1.2494 - learning_rate: 1.5034e-06\n",
      "Epoch 76/100\n",
      "176/176 - 3s - 15ms/step - categorical_accuracy: 0.5179 - loss: 1.3570 - val_categorical_accuracy: 0.6368 - val_loss: 1.2494 - learning_rate: 1.3604e-06\n",
      "Epoch 77/100\n",
      "176/176 - 3s - 15ms/step - categorical_accuracy: 0.5179 - loss: 1.3570 - val_categorical_accuracy: 0.6368 - val_loss: 1.2494 - learning_rate: 1.2309e-06\n",
      "Epoch 78/100\n",
      "176/176 - 3s - 15ms/step - categorical_accuracy: 0.5179 - loss: 1.3569 - val_categorical_accuracy: 0.6368 - val_loss: 1.2493 - learning_rate: 1.1138e-06\n",
      "Epoch 79/100\n",
      "176/176 - 3s - 15ms/step - categorical_accuracy: 0.5179 - loss: 1.3569 - val_categorical_accuracy: 0.6368 - val_loss: 1.2493 - learning_rate: 1.0078e-06\n",
      "Epoch 80/100\n",
      "176/176 - 3s - 14ms/step - categorical_accuracy: 0.5179 - loss: 1.3569 - val_categorical_accuracy: 0.6368 - val_loss: 1.2493 - learning_rate: 9.1188e-07\n",
      "Epoch 81/100\n",
      "176/176 - 2s - 14ms/step - categorical_accuracy: 0.5179 - loss: 1.3569 - val_categorical_accuracy: 0.6368 - val_loss: 1.2492 - learning_rate: 8.2511e-07\n",
      "Epoch 82/100\n",
      "176/176 - 3s - 14ms/step - categorical_accuracy: 0.5179 - loss: 1.3569 - val_categorical_accuracy: 0.6368 - val_loss: 1.2492 - learning_rate: 7.4659e-07\n",
      "Epoch 83/100\n",
      "176/176 - 3s - 15ms/step - categorical_accuracy: 0.5179 - loss: 1.3568 - val_categorical_accuracy: 0.6368 - val_loss: 1.2492 - learning_rate: 6.7554e-07\n",
      "Epoch 84/100\n",
      "176/176 - 3s - 15ms/step - categorical_accuracy: 0.5179 - loss: 1.3568 - val_categorical_accuracy: 0.6368 - val_loss: 1.2492 - learning_rate: 6.1125e-07\n",
      "Epoch 85/100\n",
      "176/176 - 3s - 14ms/step - categorical_accuracy: 0.5179 - loss: 1.3568 - val_categorical_accuracy: 0.6368 - val_loss: 1.2492 - learning_rate: 5.5308e-07\n",
      "Epoch 86/100\n",
      "176/176 - 3s - 15ms/step - categorical_accuracy: 0.5179 - loss: 1.3568 - val_categorical_accuracy: 0.6368 - val_loss: 1.2491 - learning_rate: 5.0045e-07\n",
      "Epoch 87/100\n",
      "176/176 - 3s - 15ms/step - categorical_accuracy: 0.5179 - loss: 1.3568 - val_categorical_accuracy: 0.6368 - val_loss: 1.2491 - learning_rate: 4.5283e-07\n",
      "Epoch 88/100\n",
      "176/176 - 3s - 15ms/step - categorical_accuracy: 0.5179 - loss: 1.3568 - val_categorical_accuracy: 0.6368 - val_loss: 1.2491 - learning_rate: 4.0974e-07\n",
      "Epoch 89/100\n",
      "176/176 - 3s - 16ms/step - categorical_accuracy: 0.5179 - loss: 1.3568 - val_categorical_accuracy: 0.6368 - val_loss: 1.2491 - learning_rate: 3.7074e-07\n",
      "Epoch 90/100\n",
      "176/176 - 3s - 15ms/step - categorical_accuracy: 0.5179 - loss: 1.3568 - val_categorical_accuracy: 0.6368 - val_loss: 1.2491 - learning_rate: 3.3546e-07\n",
      "Epoch 91/100\n",
      "176/176 - 3s - 15ms/step - categorical_accuracy: 0.5179 - loss: 1.3568 - val_categorical_accuracy: 0.6368 - val_loss: 1.2491 - learning_rate: 3.0354e-07\n",
      "Epoch 92/100\n",
      "176/176 - 3s - 15ms/step - categorical_accuracy: 0.5179 - loss: 1.3567 - val_categorical_accuracy: 0.6368 - val_loss: 1.2491 - learning_rate: 2.7465e-07\n",
      "Epoch 93/100\n",
      "176/176 - 3s - 14ms/step - categorical_accuracy: 0.5179 - loss: 1.3567 - val_categorical_accuracy: 0.6368 - val_loss: 1.2491 - learning_rate: 2.4852e-07\n",
      "Epoch 94/100\n",
      "176/176 - 3s - 15ms/step - categorical_accuracy: 0.5179 - loss: 1.3567 - val_categorical_accuracy: 0.6368 - val_loss: 1.2491 - learning_rate: 2.2487e-07\n",
      "Epoch 95/100\n",
      "176/176 - 3s - 15ms/step - categorical_accuracy: 0.5179 - loss: 1.3567 - val_categorical_accuracy: 0.6368 - val_loss: 1.2491 - learning_rate: 2.0347e-07\n",
      "Epoch 96/100\n",
      "176/176 - 3s - 15ms/step - categorical_accuracy: 0.5179 - loss: 1.3567 - val_categorical_accuracy: 0.6368 - val_loss: 1.2491 - learning_rate: 1.8411e-07\n",
      "Epoch 97/100\n",
      "176/176 - 3s - 14ms/step - categorical_accuracy: 0.5179 - loss: 1.3567 - val_categorical_accuracy: 0.6368 - val_loss: 1.2490 - learning_rate: 1.6659e-07\n",
      "Epoch 98/100\n",
      "176/176 - 3s - 14ms/step - categorical_accuracy: 0.5179 - loss: 1.3567 - val_categorical_accuracy: 0.6368 - val_loss: 1.2490 - learning_rate: 1.5073e-07\n",
      "Epoch 99/100\n",
      "176/176 - 3s - 15ms/step - categorical_accuracy: 0.5179 - loss: 1.3567 - val_categorical_accuracy: 0.6368 - val_loss: 1.2490 - learning_rate: 1.3639e-07\n",
      "Epoch 100/100\n",
      "176/176 - 3s - 16ms/step - categorical_accuracy: 0.5179 - loss: 1.3567 - val_categorical_accuracy: 0.6368 - val_loss: 1.2490 - learning_rate: 1.2341e-07\n"
     ]
    },
    {
     "data": {
      "image/png": "[encoded data removed]",
      "text/plain": [
       "<Figure size 1000x500 with 2 Axes>"
      ]
     },
     "metadata": {},
     "output_type": "display_data"
    }
   ],
   "source": [
    "model = build_model()\n",
    "model = compile_model_with_scheduler(model)\n",
    "history = train_model_early_stop(model, train_generator, validation_generator, epochs=100, class_weights=None)\n",
    "# Plot the learning curves\n",
    "plot_learning_curve(history.history['loss'], history.history['val_loss'],\n",
    "                    history.history['categorical_accuracy'], history.history['val_categorical_accuracy'],\n",
    "                    metric_name='Accuracy')"
   ]
  },
  {
   "cell_type": "code",
   "execution_count": 81,
   "metadata": {},
   "outputs": [
    {
     "name": "stdout",
     "output_type": "stream",
     "text": [
      "74/74 - 2s - 21ms/step - AUCPR: 0.5065 - loss: 1.1607\n",
      "19/19 - 0s - 25ms/step - AUCPR: 0.4943 - loss: 1.1642\n"
     ]
    },
    {
     "name": "stderr",
     "output_type": "stream",
     "text": [
      "/home/ashwin/anaconda3/lib/python3.11/site-packages/keras/src/trainers/data_adapters/py_dataset_adapter.py:121: UserWarning: Your `PyDataset` class should call `super().__init__(**kwargs)` in its constructor. `**kwargs` can include `workers`, `use_multiprocessing`, `max_queue_size`. Do not pass these arguments to `fit()`, as they will be ignored.\n",
      "  self._warn_if_super_not_called()\n"
     ]
    },
    {
     "name": "stdout",
     "output_type": "stream",
     "text": [
      "740/740 - 4s - 5ms/step - AUCPR: 0.4910 - loss: 1.1697\n",
      "\n",
      "################## Model Performance ######################\n",
      "\n",
      "Train loss: 1.1607, \n",
      "Train AUC-PR: 0.5065\n",
      "Validation loss: 1.1642, \n",
      "Validation AUC-PR: 0.4943\n",
      "Test loss: 1.1697, \n",
      "Test AUC-PR: 0.4910\n"
     ]
    }
   ],
   "source": [
    "calc_model_performance(model, train_generator, validation_generator)"
   ]
  },
  {
   "cell_type": "code",
   "execution_count": 82,
   "metadata": {},
   "outputs": [
    {
     "name": "stdout",
     "output_type": "stream",
     "text": [
      "\u001b[1m740/740\u001b[0m \u001b[32m━━━━━━━━━━━━━━━━━━━━\u001b[0m\u001b[37m\u001b[0m \u001b[1m5s\u001b[0m 6ms/step\n",
      "\n",
      "################# Classification Report #################\n",
      "\n",
      "                precision    recall  f1-score   support\n",
      "\n",
      " Shape_diamond       0.00      0.00      0.00        56\n",
      "     Shape_hex       0.00      0.00      0.00         9\n",
      "   Shape_round       0.48      0.93      0.63       352\n",
      "  Shape_square       0.00      0.00      0.00       138\n",
      "Shape_triangle       0.32      0.09      0.14       185\n",
      "\n",
      "      accuracy                           0.46       740\n",
      "     macro avg       0.16      0.20      0.15       740\n",
      "  weighted avg       0.31      0.46      0.34       740\n",
      "\n"
     ]
    },
    {
     "name": "stderr",
     "output_type": "stream",
     "text": [
      "/home/ashwin/anaconda3/lib/python3.11/site-packages/sklearn/metrics/_classification.py:1344: UndefinedMetricWarning: Precision and F-score are ill-defined and being set to 0.0 in labels with no predicted samples. Use `zero_division` parameter to control this behavior.\n",
      "  _warn_prf(average, modifier, msg_start, len(result))\n",
      "/home/ashwin/anaconda3/lib/python3.11/site-packages/sklearn/metrics/_classification.py:1344: UndefinedMetricWarning: Precision and F-score are ill-defined and being set to 0.0 in labels with no predicted samples. Use `zero_division` parameter to control this behavior.\n",
      "  _warn_prf(average, modifier, msg_start, len(result))\n",
      "/home/ashwin/anaconda3/lib/python3.11/site-packages/sklearn/metrics/_classification.py:1344: UndefinedMetricWarning: Precision and F-score are ill-defined and being set to 0.0 in labels with no predicted samples. Use `zero_division` parameter to control this behavior.\n",
      "  _warn_prf(average, modifier, msg_start, len(result))\n"
     ]
    }
   ],
   "source": [
    "predict_labels(model, test_generator, test_data)"
   ]
  },
  {
   "cell_type": "code",
   "execution_count": null,
   "metadata": {},
   "outputs": [],
   "source": []
  },
  {
   "cell_type": "code",
   "execution_count": null,
   "metadata": {},
   "outputs": [],
   "source": []
  },
  {
   "cell_type": "code",
   "execution_count": null,
   "metadata": {},
   "outputs": [],
   "source": []
  },
  {
   "cell_type": "code",
   "execution_count": null,
   "metadata": {},
   "outputs": [],
   "source": []
  },
  {
   "cell_type": "code",
   "execution_count": null,
   "metadata": {},
   "outputs": [],
   "source": []
  },
  {
   "cell_type": "code",
   "execution_count": null,
   "metadata": {},
   "outputs": [],
   "source": []
  },
  {
   "cell_type": "code",
   "execution_count": 260,
   "metadata": {},
   "outputs": [],
   "source": [
    "def pipeline(train_generator, validation_generator, epochs=50, class_weights=None):\n",
    "    model = build_model()\n",
    "    model = compile_model(model)\n",
    "    history = train_model(model, train_generator, validation_generator, epochs=epochs, class_weights=class_weights)\n",
    "    return model, history"
   ]
  },
  {
   "cell_type": "code",
   "execution_count": 261,
   "metadata": {},
   "outputs": [],
   "source": [
    "model, history = pipeline(train_generator, validation_generator, epochs=100, class_weights=class_weights)"
   ]
  },
  {
   "cell_type": "code",
   "execution_count": 262,
   "metadata": {},
   "outputs": [
    {
     "data": {
      "image/png": "[encoded data removed]",
      "text/plain": [
       "<Figure size 1000x500 with 2 Axes>"
      ]
     },
     "metadata": {},
     "output_type": "display_data"
    }
   ],
   "source": [
    "# Plot the learning curves\n",
    "plot_learning_curve(history.history['loss'], history.history['val_loss'],\n",
    "                    history.history['AUCPR'], history.history['val_AUCPR'],\n",
    "                    metric_name='PR-Curve')"
   ]
  },
  {
   "cell_type": "code",
   "execution_count": 263,
   "metadata": {},
   "outputs": [
    {
     "name": "stdout",
     "output_type": "stream",
     "text": [
      "70/70 - 0s - 3ms/step - AUCPR: 0.8232 - loss: 0.0010\n",
      "24/24 - 0s - 4ms/step - AUCPR: 0.8196 - loss: 0.0635\n"
     ]
    },
    {
     "name": "stderr",
     "output_type": "stream",
     "text": [
      "/home/ashwin/anaconda3/lib/python3.11/site-packages/keras/src/trainers/data_adapters/py_dataset_adapter.py:121: UserWarning: Your `PyDataset` class should call `super().__init__(**kwargs)` in its constructor. `**kwargs` can include `workers`, `use_multiprocessing`, `max_queue_size`. Do not pass these arguments to `fit()`, as they will be ignored.\n",
      "  self._warn_if_super_not_called()\n"
     ]
    },
    {
     "name": "stdout",
     "output_type": "stream",
     "text": [
      "740/740 - 1s - 706us/step - AUCPR: 0.7998 - loss: 0.0497\n",
      "\n",
      "################## Model Performance ######################\n",
      "\n",
      "Train loss: 0.0010, \n",
      "Train AUC-PR: 0.8232\n",
      "Validation loss: 0.0635, \n",
      "Validation AUC-PR: 0.8196\n",
      "Test loss: 0.0497, \n",
      "Test AUC-PR: 0.7998\n"
     ]
    }
   ],
   "source": [
    "calc_model_performance(model, train_generator, validation_generator)"
   ]
  },
  {
   "cell_type": "code",
   "execution_count": 264,
   "metadata": {},
   "outputs": [
    {
     "name": "stdout",
     "output_type": "stream",
     "text": [
      "\u001b[1m740/740\u001b[0m \u001b[32m━━━━━━━━━━━━━━━━━━━━\u001b[0m\u001b[37m\u001b[0m \u001b[1m1s\u001b[0m 776us/step\n",
      "\n",
      "################# Classification Report #################\n",
      "\n",
      "                precision    recall  f1-score   support\n",
      "\n",
      " Shape_diamond       0.13      0.12      0.13        56\n",
      "     Shape_hex       0.11      0.11      0.11         9\n",
      "   Shape_round       0.47      0.47      0.47       352\n",
      "  Shape_square       0.17      0.17      0.17       138\n",
      "Shape_triangle       0.25      0.25      0.25       185\n",
      "\n",
      "      accuracy                           0.33       740\n",
      "     macro avg       0.23      0.22      0.23       740\n",
      "  weighted avg       0.33      0.33      0.33       740\n",
      "\n"
     ]
    }
   ],
   "source": [
    "predict_labels(model, test_generator, test_data)"
   ]
  },
  {
   "cell_type": "markdown",
   "metadata": {},
   "source": [
    "Regularisation"
   ]
  },
  {
   "cell_type": "code",
   "execution_count": 237,
   "metadata": {},
   "outputs": [],
   "source": [
    "import tensorflow as tf\n",
    "def reg_model():\n",
    "    reg_lambda = 0.001\n",
    "    model = Sequential([\n",
    "        Conv2D(filters=6, kernel_size=(5, 5), activation='relu', \n",
    "            kernel_regularizer=tf.keras.regularizers.l2(reg_lambda), input_shape=(28, 28, 1)),\n",
    "        MaxPooling2D(pool_size=(2, 2)),\n",
    "        Conv2D(filters=16, kernel_size=(5, 5), activation='relu', \n",
    "            kernel_regularizer=tf.keras.regularizers.l2(reg_lambda)),\n",
    "        MaxPooling2D(pool_size=(2, 2)),\n",
    "        Flatten(),\n",
    "        Dense(units=120, activation='relu'),\n",
    "        Dense(units=84, activation='relu'),\n",
    "        Dense(units=OUTPUT_CLASSES_SHAPE)\n",
    "    ])\n",
    "    return model\n"
   ]
  },
  {
   "cell_type": "code",
   "execution_count": 238,
   "metadata": {},
   "outputs": [],
   "source": [
    "def pipelin_reg(train_generator_aug, validation_generator, epochs=50, class_weights=None):\n",
    "    model = reg_model()\n",
    "    model = compile_model(model)\n",
    "\n",
    "    history = train_model(model, train_generator_aug, validation_generator, epochs=50, class_weights=None)\n",
    "    return model, history"
   ]
  },
  {
   "cell_type": "code",
   "execution_count": 239,
   "metadata": {},
   "outputs": [
    {
     "name": "stderr",
     "output_type": "stream",
     "text": [
      "/home/ashwin/anaconda3/lib/python3.11/site-packages/keras/src/layers/convolutional/base_conv.py:107: UserWarning: Do not pass an `input_shape`/`input_dim` argument to a layer. When using Sequential models, prefer using an `Input(shape)` object as the first layer in the model instead.\n",
      "  super().__init__(activity_regularizer=activity_regularizer, **kwargs)\n"
     ]
    }
   ],
   "source": [
    "model, history = pipelin_reg(train_generator_aug, validation_generator, epochs=100, class_weights=None)"
   ]
  },
  {
   "cell_type": "code",
   "execution_count": 240,
   "metadata": {},
   "outputs": [
    {
     "data": {
      "image/png": "[encoded data removed]",
      "text/plain": [
       "<Figure size 1000x500 with 2 Axes>"
      ]
     },
     "metadata": {},
     "output_type": "display_data"
    }
   ],
   "source": [
    "# Plot the learning curves\n",
    "plot_learning_curve(history.history['loss'], history.history['val_loss'],\n",
    "                    history.history['AUCPR'], history.history['val_AUCPR'],\n",
    "                    metric_name='PR-Curve')"
   ]
  },
  {
   "cell_type": "code",
   "execution_count": 241,
   "metadata": {},
   "outputs": [
    {
     "name": "stdout",
     "output_type": "stream",
     "text": [
      "70/70 - 0s - 3ms/step - AUCPR: 0.9920 - loss: 0.0630\n",
      "24/24 - 0s - 4ms/step - AUCPR: 0.9840 - loss: 0.0994\n",
      "740/740 - 1s - 678us/step - AUCPR: 0.9902 - loss: 0.0867\n",
      "\n",
      "################## Model Performance ######################\n",
      "\n",
      "Train loss: 0.0630, \n",
      "Train AUC-PR: 0.9920\n",
      "Validation loss: 0.0994, \n",
      "Validation AUC-PR: 0.9840\n",
      "Test loss: 0.0867, \n",
      "Test AUC-PR: 0.9902\n"
     ]
    }
   ],
   "source": [
    "calc_model_performance(model, train_generator, validation_generator)"
   ]
  },
  {
   "cell_type": "code",
   "execution_count": 242,
   "metadata": {},
   "outputs": [
    {
     "name": "stdout",
     "output_type": "stream",
     "text": [
      "\u001b[1m740/740\u001b[0m \u001b[32m━━━━━━━━━━━━━━━━━━━━\u001b[0m\u001b[37m\u001b[0m \u001b[1m1s\u001b[0m 787us/step\n",
      "\n",
      "################# Classification Report #################\n",
      "\n",
      "                precision    recall  f1-score   support\n",
      "\n",
      " Shape_diamond       0.11      0.11      0.11        56\n",
      "     Shape_hex       0.00      0.00      0.00         9\n",
      "   Shape_round       0.47      0.47      0.47       352\n",
      "  Shape_square       0.18      0.17      0.18       138\n",
      "Shape_triangle       0.26      0.26      0.26       185\n",
      "\n",
      "      accuracy                           0.33       740\n",
      "     macro avg       0.20      0.20      0.20       740\n",
      "  weighted avg       0.33      0.33      0.33       740\n",
      "\n"
     ]
    }
   ],
   "source": [
    "predict_labels(model, test_generator, test_data)"
   ]
  },
  {
   "cell_type": "code",
   "execution_count": null,
   "metadata": {},
   "outputs": [],
   "source": []
  },
  {
   "cell_type": "code",
   "execution_count": null,
   "metadata": {},
   "outputs": [],
   "source": []
  },
  {
   "cell_type": "code",
   "execution_count": null,
   "metadata": {},
   "outputs": [],
   "source": []
  },
  {
   "cell_type": "code",
   "execution_count": null,
   "metadata": {},
   "outputs": [],
   "source": []
  },
  {
   "cell_type": "code",
   "execution_count": null,
   "metadata": {},
   "outputs": [],
   "source": []
  },
  {
   "cell_type": "code",
   "execution_count": null,
   "metadata": {},
   "outputs": [],
   "source": []
  },
  {
   "cell_type": "code",
   "execution_count": null,
   "metadata": {},
   "outputs": [],
   "source": []
  },
  {
   "cell_type": "code",
   "execution_count": null,
   "metadata": {},
   "outputs": [],
   "source": []
  },
  {
   "cell_type": "code",
   "execution_count": null,
   "metadata": {},
   "outputs": [],
   "source": []
  },
  {
   "cell_type": "code",
   "execution_count": null,
   "metadata": {},
   "outputs": [],
   "source": []
  },
  {
   "cell_type": "code",
   "execution_count": null,
   "metadata": {},
   "outputs": [],
   "source": []
  },
  {
   "cell_type": "code",
   "execution_count": null,
   "metadata": {},
   "outputs": [],
   "source": []
  },
  {
   "cell_type": "code",
   "execution_count": 284,
   "metadata": {},
   "outputs": [],
   "source": [
    "import kerastuner as kt\n",
    "from tensorflow.keras import Sequential\n",
    "from tensorflow.keras.layers import Conv2D, MaxPooling2D, Flatten, Dense, Dropout\n",
    "from tensorflow.keras.regularizers import l1_l2\n",
    "\n",
    "def kernel_size_to_string(kernel_size):\n",
    "    return f\"{kernel_size[0]}x{kernel_size[1]}\"\n",
    "\n",
    "def build_model(hp):\n",
    "    model = Sequential()\n",
    "\n",
    "    # Convolutional layer 1\n",
    "    model.add(Conv2D(\n",
    "        filters=hp.Int('conv_1_filters', min_value=4, max_value=16, step=4),\n",
    "        kernel_size=tuple(map(int, hp.Choice('conv_1_kernel_size', [kernel_size_to_string((3, 3)), kernel_size_to_string((5, 5))]).split('x'))),\n",
    "        activation='relu',\n",
    "        input_shape=(28, 28, 1),\n",
    "        kernel_regularizer=l1_l2(l1=hp.Choice('conv_1_l1_reg', [0.0, 1e-5, 1e-4, 1e-3]),\n",
    "                                  l2=hp.Choice('conv_2_l2_reg', [0.0, 1e-5, 1e-4, 1e-3]))\n",
    "    ))\n",
    "    model.add(MaxPooling2D(pool_size=(2, 2)))\n",
    "    model.add(Dropout(hp.Float('conv_1_dropout', min_value=0.0, max_value=0.5, step=0.1)))\n",
    "\n",
    "    # Convolutional layer 2\n",
    "    model.add(Conv2D(\n",
    "        filters=hp.Int('conv_2_filters', min_value=8, max_value=32, step=8),\n",
    "        kernel_size=tuple(map(int, hp.Choice('conv_2_kernel_size', [kernel_size_to_string((3, 3)), kernel_size_to_string((5, 5))]).split('x'))),\n",
    "        activation='relu',\n",
    "        kernel_regularizer=l1_l2(l1=hp.Choice('conv_2_l1_reg', [0.0, 1e-5, 1e-4, 1e-3]),\n",
    "                                  l2=hp.Choice('conv_2_l2_reg', [0.0, 1e-5, 1e-4, 1e-3]))\n",
    "    ))\n",
    "    model.add(MaxPooling2D(pool_size=(2, 2)))\n",
    "    model.add(Dropout(hp.Float('conv_2_dropout', min_value=0.0, max_value=0.5, step=0.1)))\n",
    "\n",
    "    # Flatten layer\n",
    "    model.add(Flatten())\n",
    "\n",
    "    # Dense layer 1\n",
    "    model.add(Dense(\n",
    "        units=hp.Int('dense_1_units', min_value=64, max_value=256, step=32),\n",
    "        activation='relu',\n",
    "        kernel_regularizer=l1_l2(l1=hp.Choice('dense_1_l1_reg', [0.0, 1e-5, 1e-4, 1e-3]),\n",
    "                                  l2=hp.Choice('dense_1_l2_reg', [0.0, 1e-5, 1e-4, 1e-3]))\n",
    "    ))\n",
    "    model.add(Dropout(hp.Float('dense_1_dropout', min_value=0.0, max_value=0.5, step=0.1)))\n",
    "\n",
    "    # Dense layer 2\n",
    "    model.add(Dense(\n",
    "        units=hp.Int('dense_2_units', min_value=32, max_value=128, step=16),\n",
    "        activation='relu',\n",
    "        kernel_regularizer=l1_l2(l1=hp.Choice('dense_2_l1_reg', [0.0, 1e-5, 1e-4, 1e-3]),\n",
    "                                  l2=hp.Choice('dense_2_l2_reg', [0.0, 1e-5, 1e-4, 1e-3]))\n",
    "    ))\n",
    "    model.add(Dropout(hp.Float('dense_2_dropout', min_value=0.0, max_value=0.5, step=0.1)))\n",
    "\n",
    "    # Output layer\n",
    "    model.add(Dense(OUTPUT_CLASSES_SHAPE, activation='softmax'))\n",
    "\n",
    "    # Compile the model\n",
    "    model.compile(\n",
    "        optimizer=hp.Choice('optimizer', ['adam', 'rmsprop', 'sgd']),\n",
    "        loss='categorical_crossentropy',\n",
    "        metrics=[tf.keras.metrics.AUC(name=\"AUCPR\", curve=\"PR\")]\n",
    "    )\n",
    "\n",
    "    return model"
   ]
  },
  {
   "cell_type": "code",
   "execution_count": 286,
   "metadata": {},
   "outputs": [
    {
     "ename": "ValueError",
     "evalue": "Could not infer optimization direction (\"min\" or \"max\") for unknown metric \"val_AUCPR\". Please specify the objective  asa `keras_tuner.Objective`, for example `keras_tuner.Objective(\"val_AUCPR\", direction=\"min\")`.",
     "output_type": "error",
     "traceback": [
      "\u001b[0;31m---------------------------------------------------------------------------\u001b[0m",
      "\u001b[0;31mValueError\u001b[0m                                Traceback (most recent call last)",
      "Cell \u001b[0;32mIn[286], line 1\u001b[0m\n\u001b[0;32m----> 1\u001b[0m tuner \u001b[38;5;241m=\u001b[39m kt\u001b[38;5;241m.\u001b[39mRandomSearch(\n\u001b[1;32m      2\u001b[0m     build_model,\n\u001b[1;32m      3\u001b[0m     objective\u001b[38;5;241m=\u001b[39m\u001b[38;5;124m'\u001b[39m\u001b[38;5;124mval_AUCPR\u001b[39m\u001b[38;5;124m'\u001b[39m,\n\u001b[1;32m      4\u001b[0m     max_trials\u001b[38;5;241m=\u001b[39m\u001b[38;5;241m5\u001b[39m,\n\u001b[1;32m      5\u001b[0m     executions_per_trial\u001b[38;5;241m=\u001b[39m\u001b[38;5;241m5\u001b[39m,\n\u001b[1;32m      6\u001b[0m     directory\u001b[38;5;241m=\u001b[39m\u001b[38;5;124m'\u001b[39m\u001b[38;5;124mtuner_dir\u001b[39m\u001b[38;5;124m'\u001b[39m,\n\u001b[1;32m      7\u001b[0m     project_name\u001b[38;5;241m=\u001b[39m\u001b[38;5;124m'\u001b[39m\u001b[38;5;124mlenet_tuning\u001b[39m\u001b[38;5;124m'\u001b[39m\n\u001b[1;32m      8\u001b[0m )\n\u001b[1;32m     10\u001b[0m tuner\u001b[38;5;241m.\u001b[39msearch(train_generator, epochs\u001b[38;5;241m=\u001b[39m\u001b[38;5;241m75\u001b[39m, validation_data\u001b[38;5;241m=\u001b[39m(validation_generator))\n\u001b[1;32m     12\u001b[0m \u001b[38;5;66;03m# Get the best hyperparameters and build the model\u001b[39;00m\n",
      "File \u001b[0;32m~/anaconda3/lib/python3.11/site-packages/keras_tuner/src/tuners/randomsearch.py:164\u001b[0m, in \u001b[0;36mRandomSearch.__init__\u001b[0;34m(self, hypermodel, objective, max_trials, seed, hyperparameters, tune_new_entries, allow_new_entries, max_retries_per_trial, max_consecutive_failed_trials, **kwargs)\u001b[0m\n\u001b[1;32m    150\u001b[0m \u001b[38;5;28;01mdef\u001b[39;00m \u001b[38;5;21m__init__\u001b[39m(\n\u001b[1;32m    151\u001b[0m     \u001b[38;5;28mself\u001b[39m,\n\u001b[1;32m    152\u001b[0m     hypermodel\u001b[38;5;241m=\u001b[39m\u001b[38;5;28;01mNone\u001b[39;00m,\n\u001b[0;32m   (...)\u001b[0m\n\u001b[1;32m    161\u001b[0m     \u001b[38;5;241m*\u001b[39m\u001b[38;5;241m*\u001b[39mkwargs\n\u001b[1;32m    162\u001b[0m ):\n\u001b[1;32m    163\u001b[0m     \u001b[38;5;28mself\u001b[39m\u001b[38;5;241m.\u001b[39mseed \u001b[38;5;241m=\u001b[39m seed\n\u001b[0;32m--> 164\u001b[0m     oracle \u001b[38;5;241m=\u001b[39m RandomSearchOracle(\n\u001b[1;32m    165\u001b[0m         objective\u001b[38;5;241m=\u001b[39mobjective,\n\u001b[1;32m    166\u001b[0m         max_trials\u001b[38;5;241m=\u001b[39mmax_trials,\n\u001b[1;32m    167\u001b[0m         seed\u001b[38;5;241m=\u001b[39mseed,\n\u001b[1;32m    168\u001b[0m         hyperparameters\u001b[38;5;241m=\u001b[39mhyperparameters,\n\u001b[1;32m    169\u001b[0m         tune_new_entries\u001b[38;5;241m=\u001b[39mtune_new_entries,\n\u001b[1;32m    170\u001b[0m         allow_new_entries\u001b[38;5;241m=\u001b[39mallow_new_entries,\n\u001b[1;32m    171\u001b[0m         max_retries_per_trial\u001b[38;5;241m=\u001b[39mmax_retries_per_trial,\n\u001b[1;32m    172\u001b[0m         max_consecutive_failed_trials\u001b[38;5;241m=\u001b[39mmax_consecutive_failed_trials,\n\u001b[1;32m    173\u001b[0m     )\n\u001b[1;32m    174\u001b[0m     \u001b[38;5;28msuper\u001b[39m()\u001b[38;5;241m.\u001b[39m\u001b[38;5;21m__init__\u001b[39m(oracle, hypermodel, \u001b[38;5;241m*\u001b[39m\u001b[38;5;241m*\u001b[39mkwargs)\n",
      "File \u001b[0;32m~/anaconda3/lib/python3.11/site-packages/keras_tuner/src/tuners/randomsearch.py:73\u001b[0m, in \u001b[0;36mRandomSearchOracle.__init__\u001b[0;34m(self, objective, max_trials, seed, hyperparameters, allow_new_entries, tune_new_entries, max_retries_per_trial, max_consecutive_failed_trials)\u001b[0m\n\u001b[1;32m     62\u001b[0m \u001b[38;5;28;01mdef\u001b[39;00m \u001b[38;5;21m__init__\u001b[39m(\n\u001b[1;32m     63\u001b[0m     \u001b[38;5;28mself\u001b[39m,\n\u001b[1;32m     64\u001b[0m     objective\u001b[38;5;241m=\u001b[39m\u001b[38;5;28;01mNone\u001b[39;00m,\n\u001b[0;32m   (...)\u001b[0m\n\u001b[1;32m     71\u001b[0m     max_consecutive_failed_trials\u001b[38;5;241m=\u001b[39m\u001b[38;5;241m3\u001b[39m,\n\u001b[1;32m     72\u001b[0m ):\n\u001b[0;32m---> 73\u001b[0m     \u001b[38;5;28msuper\u001b[39m()\u001b[38;5;241m.\u001b[39m\u001b[38;5;21m__init__\u001b[39m(\n\u001b[1;32m     74\u001b[0m         objective\u001b[38;5;241m=\u001b[39mobjective,\n\u001b[1;32m     75\u001b[0m         max_trials\u001b[38;5;241m=\u001b[39mmax_trials,\n\u001b[1;32m     76\u001b[0m         hyperparameters\u001b[38;5;241m=\u001b[39mhyperparameters,\n\u001b[1;32m     77\u001b[0m         tune_new_entries\u001b[38;5;241m=\u001b[39mtune_new_entries,\n\u001b[1;32m     78\u001b[0m         allow_new_entries\u001b[38;5;241m=\u001b[39mallow_new_entries,\n\u001b[1;32m     79\u001b[0m         seed\u001b[38;5;241m=\u001b[39mseed,\n\u001b[1;32m     80\u001b[0m         max_retries_per_trial\u001b[38;5;241m=\u001b[39mmax_retries_per_trial,\n\u001b[1;32m     81\u001b[0m         max_consecutive_failed_trials\u001b[38;5;241m=\u001b[39mmax_consecutive_failed_trials,\n\u001b[1;32m     82\u001b[0m     )\n",
      "File \u001b[0;32m~/anaconda3/lib/python3.11/site-packages/keras_tuner/src/engine/oracle.py:314\u001b[0m, in \u001b[0;36mOracle.__init__\u001b[0;34m(self, objective, max_trials, hyperparameters, allow_new_entries, tune_new_entries, seed, max_retries_per_trial, max_consecutive_failed_trials)\u001b[0m\n\u001b[1;32m    303\u001b[0m \u001b[38;5;28;01mdef\u001b[39;00m \u001b[38;5;21m__init__\u001b[39m(\n\u001b[1;32m    304\u001b[0m     \u001b[38;5;28mself\u001b[39m,\n\u001b[1;32m    305\u001b[0m     objective\u001b[38;5;241m=\u001b[39m\u001b[38;5;28;01mNone\u001b[39;00m,\n\u001b[0;32m   (...)\u001b[0m\n\u001b[1;32m    312\u001b[0m     max_consecutive_failed_trials\u001b[38;5;241m=\u001b[39m\u001b[38;5;241m3\u001b[39m,\n\u001b[1;32m    313\u001b[0m ):\n\u001b[0;32m--> 314\u001b[0m     \u001b[38;5;28mself\u001b[39m\u001b[38;5;241m.\u001b[39mobjective \u001b[38;5;241m=\u001b[39m obj_module\u001b[38;5;241m.\u001b[39mcreate_objective(objective)\n\u001b[1;32m    315\u001b[0m     \u001b[38;5;28mself\u001b[39m\u001b[38;5;241m.\u001b[39mmax_trials \u001b[38;5;241m=\u001b[39m max_trials\n\u001b[1;32m    316\u001b[0m     \u001b[38;5;28;01mif\u001b[39;00m \u001b[38;5;129;01mnot\u001b[39;00m hyperparameters:\n",
      "File \u001b[0;32m~/anaconda3/lib/python3.11/site-packages/keras_tuner/src/engine/objective.py:155\u001b[0m, in \u001b[0;36mcreate_objective\u001b[0;34m(objective)\u001b[0m\n\u001b[1;32m    148\u001b[0m     error_msg \u001b[38;5;241m=\u001b[39m (\n\u001b[1;32m    149\u001b[0m         \u001b[38;5;124m'\u001b[39m\u001b[38;5;124mCould not infer optimization direction (\u001b[39m\u001b[38;5;124m\"\u001b[39m\u001b[38;5;124mmin\u001b[39m\u001b[38;5;124m\"\u001b[39m\u001b[38;5;124m or \u001b[39m\u001b[38;5;124m\"\u001b[39m\u001b[38;5;124mmax\u001b[39m\u001b[38;5;124m\"\u001b[39m\u001b[38;5;124m) \u001b[39m\u001b[38;5;124m'\u001b[39m\n\u001b[1;32m    150\u001b[0m         \u001b[38;5;124m'\u001b[39m\u001b[38;5;124mfor unknown metric \u001b[39m\u001b[38;5;124m\"\u001b[39m\u001b[38;5;132;01m{obj}\u001b[39;00m\u001b[38;5;124m\"\u001b[39m\u001b[38;5;124m. Please specify the objective  as\u001b[39m\u001b[38;5;124m'\u001b[39m\n\u001b[1;32m    151\u001b[0m         \u001b[38;5;124m\"\u001b[39m\u001b[38;5;124ma `keras_tuner.Objective`, for example `keras_tuner.Objective(\u001b[39m\u001b[38;5;124m\"\u001b[39m\n\u001b[1;32m    152\u001b[0m         \u001b[38;5;124m'\u001b[39m\u001b[38;5;124m\"\u001b[39m\u001b[38;5;132;01m{obj}\u001b[39;00m\u001b[38;5;124m\"\u001b[39m\u001b[38;5;124m, direction=\u001b[39m\u001b[38;5;124m\"\u001b[39m\u001b[38;5;124mmin\u001b[39m\u001b[38;5;124m\"\u001b[39m\u001b[38;5;124m)`.\u001b[39m\u001b[38;5;124m'\u001b[39m\n\u001b[1;32m    153\u001b[0m     )\n\u001b[1;32m    154\u001b[0m     error_msg \u001b[38;5;241m=\u001b[39m error_msg\u001b[38;5;241m.\u001b[39mformat(obj\u001b[38;5;241m=\u001b[39mobjective)\n\u001b[0;32m--> 155\u001b[0m     \u001b[38;5;28;01mraise\u001b[39;00m \u001b[38;5;167;01mValueError\u001b[39;00m(error_msg)\n\u001b[1;32m    156\u001b[0m \u001b[38;5;28;01mreturn\u001b[39;00m Objective(name\u001b[38;5;241m=\u001b[39mobjective, direction\u001b[38;5;241m=\u001b[39mdirection)\n",
      "\u001b[0;31mValueError\u001b[0m: Could not infer optimization direction (\"min\" or \"max\") for unknown metric \"val_AUCPR\". Please specify the objective  asa `keras_tuner.Objective`, for example `keras_tuner.Objective(\"val_AUCPR\", direction=\"min\")`."
     ]
    }
   ],
   "source": [
    "tuner = kt.RandomSearch(\n",
    "    build_model,\n",
    "    objective='val_AUCPR',\n",
    "    max_trials=5,\n",
    "    executions_per_trial=5,\n",
    "    directory='tuner_dir',\n",
    "    project_name='lenet_tuning'\n",
    ")\n",
    "\n",
    "tuner.search(train_generator, epochs=75, validation_data=(validation_generator))\n",
    "\n",
    "# Get the best hyperparameters and build the model\n",
    "best_hps = tuner.get_best_hyperparameters(num_trials=1)[0]\n",
    "model = tuner.hypermodel.build(best_hps)"
   ]
  },
  {
   "cell_type": "code",
   "execution_count": 273,
   "metadata": {},
   "outputs": [
    {
     "data": {
      "text/html": [
       "<pre style=\"white-space:pre;overflow-x:auto;line-height:normal;font-family:Menlo,'DejaVu Sans Mono',consolas,'Courier New',monospace\"><span style=\"font-weight: bold\">Model: \"sequential_1\"</span>\n",
       "</pre>\n"
      ],
      "text/plain": [
       "\u001b[1mModel: \"sequential_1\"\u001b[0m\n"
      ]
     },
     "metadata": {},
     "output_type": "display_data"
    },
    {
     "data": {
      "text/html": [
       "<pre style=\"white-space:pre;overflow-x:auto;line-height:normal;font-family:Menlo,'DejaVu Sans Mono',consolas,'Courier New',monospace\">┏━━━━━━━━━━━━━━━━━━━━━━━━━━━━━━━━━┳━━━━━━━━━━━━━━━━━━━━━━━━┳━━━━━━━━━━━━━━━┓\n",
       "┃<span style=\"font-weight: bold\"> Layer (type)                    </span>┃<span style=\"font-weight: bold\"> Output Shape           </span>┃<span style=\"font-weight: bold\">       Param # </span>┃\n",
       "┡━━━━━━━━━━━━━━━━━━━━━━━━━━━━━━━━━╇━━━━━━━━━━━━━━━━━━━━━━━━╇━━━━━━━━━━━━━━━┩\n",
       "│ conv2d_2 (<span style=\"color: #0087ff; text-decoration-color: #0087ff\">Conv2D</span>)               │ (<span style=\"color: #00d7ff; text-decoration-color: #00d7ff\">None</span>, <span style=\"color: #00af00; text-decoration-color: #00af00\">24</span>, <span style=\"color: #00af00; text-decoration-color: #00af00\">24</span>, <span style=\"color: #00af00; text-decoration-color: #00af00\">12</span>)     │           <span style=\"color: #00af00; text-decoration-color: #00af00\">312</span> │\n",
       "├─────────────────────────────────┼────────────────────────┼───────────────┤\n",
       "│ max_pooling2d_2 (<span style=\"color: #0087ff; text-decoration-color: #0087ff\">MaxPooling2D</span>)  │ (<span style=\"color: #00d7ff; text-decoration-color: #00d7ff\">None</span>, <span style=\"color: #00af00; text-decoration-color: #00af00\">12</span>, <span style=\"color: #00af00; text-decoration-color: #00af00\">12</span>, <span style=\"color: #00af00; text-decoration-color: #00af00\">12</span>)     │             <span style=\"color: #00af00; text-decoration-color: #00af00\">0</span> │\n",
       "├─────────────────────────────────┼────────────────────────┼───────────────┤\n",
       "│ dropout_4 (<span style=\"color: #0087ff; text-decoration-color: #0087ff\">Dropout</span>)             │ (<span style=\"color: #00d7ff; text-decoration-color: #00d7ff\">None</span>, <span style=\"color: #00af00; text-decoration-color: #00af00\">12</span>, <span style=\"color: #00af00; text-decoration-color: #00af00\">12</span>, <span style=\"color: #00af00; text-decoration-color: #00af00\">12</span>)     │             <span style=\"color: #00af00; text-decoration-color: #00af00\">0</span> │\n",
       "├─────────────────────────────────┼────────────────────────┼───────────────┤\n",
       "│ conv2d_3 (<span style=\"color: #0087ff; text-decoration-color: #0087ff\">Conv2D</span>)               │ (<span style=\"color: #00d7ff; text-decoration-color: #00d7ff\">None</span>, <span style=\"color: #00af00; text-decoration-color: #00af00\">8</span>, <span style=\"color: #00af00; text-decoration-color: #00af00\">8</span>, <span style=\"color: #00af00; text-decoration-color: #00af00\">16</span>)       │         <span style=\"color: #00af00; text-decoration-color: #00af00\">4,816</span> │\n",
       "├─────────────────────────────────┼────────────────────────┼───────────────┤\n",
       "│ max_pooling2d_3 (<span style=\"color: #0087ff; text-decoration-color: #0087ff\">MaxPooling2D</span>)  │ (<span style=\"color: #00d7ff; text-decoration-color: #00d7ff\">None</span>, <span style=\"color: #00af00; text-decoration-color: #00af00\">4</span>, <span style=\"color: #00af00; text-decoration-color: #00af00\">4</span>, <span style=\"color: #00af00; text-decoration-color: #00af00\">16</span>)       │             <span style=\"color: #00af00; text-decoration-color: #00af00\">0</span> │\n",
       "├─────────────────────────────────┼────────────────────────┼───────────────┤\n",
       "│ dropout_5 (<span style=\"color: #0087ff; text-decoration-color: #0087ff\">Dropout</span>)             │ (<span style=\"color: #00d7ff; text-decoration-color: #00d7ff\">None</span>, <span style=\"color: #00af00; text-decoration-color: #00af00\">4</span>, <span style=\"color: #00af00; text-decoration-color: #00af00\">4</span>, <span style=\"color: #00af00; text-decoration-color: #00af00\">16</span>)       │             <span style=\"color: #00af00; text-decoration-color: #00af00\">0</span> │\n",
       "├─────────────────────────────────┼────────────────────────┼───────────────┤\n",
       "│ flatten_1 (<span style=\"color: #0087ff; text-decoration-color: #0087ff\">Flatten</span>)             │ (<span style=\"color: #00d7ff; text-decoration-color: #00d7ff\">None</span>, <span style=\"color: #00af00; text-decoration-color: #00af00\">256</span>)            │             <span style=\"color: #00af00; text-decoration-color: #00af00\">0</span> │\n",
       "├─────────────────────────────────┼────────────────────────┼───────────────┤\n",
       "│ dense_3 (<span style=\"color: #0087ff; text-decoration-color: #0087ff\">Dense</span>)                 │ (<span style=\"color: #00d7ff; text-decoration-color: #00d7ff\">None</span>, <span style=\"color: #00af00; text-decoration-color: #00af00\">256</span>)            │        <span style=\"color: #00af00; text-decoration-color: #00af00\">65,792</span> │\n",
       "├─────────────────────────────────┼────────────────────────┼───────────────┤\n",
       "│ dropout_6 (<span style=\"color: #0087ff; text-decoration-color: #0087ff\">Dropout</span>)             │ (<span style=\"color: #00d7ff; text-decoration-color: #00d7ff\">None</span>, <span style=\"color: #00af00; text-decoration-color: #00af00\">256</span>)            │             <span style=\"color: #00af00; text-decoration-color: #00af00\">0</span> │\n",
       "├─────────────────────────────────┼────────────────────────┼───────────────┤\n",
       "│ dense_4 (<span style=\"color: #0087ff; text-decoration-color: #0087ff\">Dense</span>)                 │ (<span style=\"color: #00d7ff; text-decoration-color: #00d7ff\">None</span>, <span style=\"color: #00af00; text-decoration-color: #00af00\">80</span>)             │        <span style=\"color: #00af00; text-decoration-color: #00af00\">20,560</span> │\n",
       "├─────────────────────────────────┼────────────────────────┼───────────────┤\n",
       "│ dropout_7 (<span style=\"color: #0087ff; text-decoration-color: #0087ff\">Dropout</span>)             │ (<span style=\"color: #00d7ff; text-decoration-color: #00d7ff\">None</span>, <span style=\"color: #00af00; text-decoration-color: #00af00\">80</span>)             │             <span style=\"color: #00af00; text-decoration-color: #00af00\">0</span> │\n",
       "├─────────────────────────────────┼────────────────────────┼───────────────┤\n",
       "│ dense_5 (<span style=\"color: #0087ff; text-decoration-color: #0087ff\">Dense</span>)                 │ (<span style=\"color: #00d7ff; text-decoration-color: #00d7ff\">None</span>, <span style=\"color: #00af00; text-decoration-color: #00af00\">5</span>)              │           <span style=\"color: #00af00; text-decoration-color: #00af00\">405</span> │\n",
       "└─────────────────────────────────┴────────────────────────┴───────────────┘\n",
       "</pre>\n"
      ],
      "text/plain": [
       "┏━━━━━━━━━━━━━━━━━━━━━━━━━━━━━━━━━┳━━━━━━━━━━━━━━━━━━━━━━━━┳━━━━━━━━━━━━━━━┓\n",
       "┃\u001b[1m \u001b[0m\u001b[1mLayer (type)                   \u001b[0m\u001b[1m \u001b[0m┃\u001b[1m \u001b[0m\u001b[1mOutput Shape          \u001b[0m\u001b[1m \u001b[0m┃\u001b[1m \u001b[0m\u001b[1m      Param #\u001b[0m\u001b[1m \u001b[0m┃\n",
       "┡━━━━━━━━━━━━━━━━━━━━━━━━━━━━━━━━━╇━━━━━━━━━━━━━━━━━━━━━━━━╇━━━━━━━━━━━━━━━┩\n",
       "│ conv2d_2 (\u001b[38;5;33mConv2D\u001b[0m)               │ (\u001b[38;5;45mNone\u001b[0m, \u001b[38;5;34m24\u001b[0m, \u001b[38;5;34m24\u001b[0m, \u001b[38;5;34m12\u001b[0m)     │           \u001b[38;5;34m312\u001b[0m │\n",
       "├─────────────────────────────────┼────────────────────────┼───────────────┤\n",
       "│ max_pooling2d_2 (\u001b[38;5;33mMaxPooling2D\u001b[0m)  │ (\u001b[38;5;45mNone\u001b[0m, \u001b[38;5;34m12\u001b[0m, \u001b[38;5;34m12\u001b[0m, \u001b[38;5;34m12\u001b[0m)     │             \u001b[38;5;34m0\u001b[0m │\n",
       "├─────────────────────────────────┼────────────────────────┼───────────────┤\n",
       "│ dropout_4 (\u001b[38;5;33mDropout\u001b[0m)             │ (\u001b[38;5;45mNone\u001b[0m, \u001b[38;5;34m12\u001b[0m, \u001b[38;5;34m12\u001b[0m, \u001b[38;5;34m12\u001b[0m)     │             \u001b[38;5;34m0\u001b[0m │\n",
       "├─────────────────────────────────┼────────────────────────┼───────────────┤\n",
       "│ conv2d_3 (\u001b[38;5;33mConv2D\u001b[0m)               │ (\u001b[38;5;45mNone\u001b[0m, \u001b[38;5;34m8\u001b[0m, \u001b[38;5;34m8\u001b[0m, \u001b[38;5;34m16\u001b[0m)       │         \u001b[38;5;34m4,816\u001b[0m │\n",
       "├─────────────────────────────────┼────────────────────────┼───────────────┤\n",
       "│ max_pooling2d_3 (\u001b[38;5;33mMaxPooling2D\u001b[0m)  │ (\u001b[38;5;45mNone\u001b[0m, \u001b[38;5;34m4\u001b[0m, \u001b[38;5;34m4\u001b[0m, \u001b[38;5;34m16\u001b[0m)       │             \u001b[38;5;34m0\u001b[0m │\n",
       "├─────────────────────────────────┼────────────────────────┼───────────────┤\n",
       "│ dropout_5 (\u001b[38;5;33mDropout\u001b[0m)             │ (\u001b[38;5;45mNone\u001b[0m, \u001b[38;5;34m4\u001b[0m, \u001b[38;5;34m4\u001b[0m, \u001b[38;5;34m16\u001b[0m)       │             \u001b[38;5;34m0\u001b[0m │\n",
       "├─────────────────────────────────┼────────────────────────┼───────────────┤\n",
       "│ flatten_1 (\u001b[38;5;33mFlatten\u001b[0m)             │ (\u001b[38;5;45mNone\u001b[0m, \u001b[38;5;34m256\u001b[0m)            │             \u001b[38;5;34m0\u001b[0m │\n",
       "├─────────────────────────────────┼────────────────────────┼───────────────┤\n",
       "│ dense_3 (\u001b[38;5;33mDense\u001b[0m)                 │ (\u001b[38;5;45mNone\u001b[0m, \u001b[38;5;34m256\u001b[0m)            │        \u001b[38;5;34m65,792\u001b[0m │\n",
       "├─────────────────────────────────┼────────────────────────┼───────────────┤\n",
       "│ dropout_6 (\u001b[38;5;33mDropout\u001b[0m)             │ (\u001b[38;5;45mNone\u001b[0m, \u001b[38;5;34m256\u001b[0m)            │             \u001b[38;5;34m0\u001b[0m │\n",
       "├─────────────────────────────────┼────────────────────────┼───────────────┤\n",
       "│ dense_4 (\u001b[38;5;33mDense\u001b[0m)                 │ (\u001b[38;5;45mNone\u001b[0m, \u001b[38;5;34m80\u001b[0m)             │        \u001b[38;5;34m20,560\u001b[0m │\n",
       "├─────────────────────────────────┼────────────────────────┼───────────────┤\n",
       "│ dropout_7 (\u001b[38;5;33mDropout\u001b[0m)             │ (\u001b[38;5;45mNone\u001b[0m, \u001b[38;5;34m80\u001b[0m)             │             \u001b[38;5;34m0\u001b[0m │\n",
       "├─────────────────────────────────┼────────────────────────┼───────────────┤\n",
       "│ dense_5 (\u001b[38;5;33mDense\u001b[0m)                 │ (\u001b[38;5;45mNone\u001b[0m, \u001b[38;5;34m5\u001b[0m)              │           \u001b[38;5;34m405\u001b[0m │\n",
       "└─────────────────────────────────┴────────────────────────┴───────────────┘\n"
      ]
     },
     "metadata": {},
     "output_type": "display_data"
    },
    {
     "data": {
      "text/html": [
       "<pre style=\"white-space:pre;overflow-x:auto;line-height:normal;font-family:Menlo,'DejaVu Sans Mono',consolas,'Courier New',monospace\"><span style=\"font-weight: bold\"> Total params: </span><span style=\"color: #00af00; text-decoration-color: #00af00\">91,885</span> (358.93 KB)\n",
       "</pre>\n"
      ],
      "text/plain": [
       "\u001b[1m Total params: \u001b[0m\u001b[38;5;34m91,885\u001b[0m (358.93 KB)\n"
      ]
     },
     "metadata": {},
     "output_type": "display_data"
    },
    {
     "data": {
      "text/html": [
       "<pre style=\"white-space:pre;overflow-x:auto;line-height:normal;font-family:Menlo,'DejaVu Sans Mono',consolas,'Courier New',monospace\"><span style=\"font-weight: bold\"> Trainable params: </span><span style=\"color: #00af00; text-decoration-color: #00af00\">91,885</span> (358.93 KB)\n",
       "</pre>\n"
      ],
      "text/plain": [
       "\u001b[1m Trainable params: \u001b[0m\u001b[38;5;34m91,885\u001b[0m (358.93 KB)\n"
      ]
     },
     "metadata": {},
     "output_type": "display_data"
    },
    {
     "data": {
      "text/html": [
       "<pre style=\"white-space:pre;overflow-x:auto;line-height:normal;font-family:Menlo,'DejaVu Sans Mono',consolas,'Courier New',monospace\"><span style=\"font-weight: bold\"> Non-trainable params: </span><span style=\"color: #00af00; text-decoration-color: #00af00\">0</span> (0.00 B)\n",
       "</pre>\n"
      ],
      "text/plain": [
       "\u001b[1m Non-trainable params: \u001b[0m\u001b[38;5;34m0\u001b[0m (0.00 B)\n"
      ]
     },
     "metadata": {},
     "output_type": "display_data"
    }
   ],
   "source": [
    "model.summary()"
   ]
  },
  {
   "cell_type": "code",
   "execution_count": 274,
   "metadata": {},
   "outputs": [
    {
     "name": "stdout",
     "output_type": "stream",
     "text": [
      "70/70 - 0s - 5ms/step - accuracy: 0.1870 - loss: 1.9424\n",
      "24/24 - 0s - 4ms/step - accuracy: 0.1892 - loss: 1.9428\n",
      "740/740 - 1s - 698us/step - accuracy: 0.1824 - loss: 1.9433\n",
      "\n",
      "################## Model Performance ######################\n",
      "\n",
      "Train loss: 1.9424, \n",
      "Train AUC-PR: 0.1870\n",
      "Validation loss: 1.9428, \n",
      "Validation AUC-PR: 0.1892\n",
      "Test loss: 1.9433, \n",
      "Test AUC-PR: 0.1824\n"
     ]
    }
   ],
   "source": [
    "calc_model_performance(model, train_generator, validation_generator)"
   ]
  },
  {
   "cell_type": "code",
   "execution_count": 275,
   "metadata": {},
   "outputs": [
    {
     "name": "stdout",
     "output_type": "stream",
     "text": [
      "\u001b[1m740/740\u001b[0m \u001b[32m━━━━━━━━━━━━━━━━━━━━\u001b[0m\u001b[37m\u001b[0m \u001b[1m1s\u001b[0m 792us/step\n",
      "\n",
      "################# Classification Report #################\n",
      "\n",
      "                precision    recall  f1-score   support\n",
      "\n",
      " Shape_diamond       0.05      0.04      0.04        56\n",
      "     Shape_hex       0.02      0.78      0.03         9\n",
      "   Shape_round       0.00      0.00      0.00       352\n",
      "  Shape_square       0.00      0.00      0.00       138\n",
      "Shape_triangle       0.29      0.42      0.34       185\n",
      "\n",
      "      accuracy                           0.12       740\n",
      "     macro avg       0.07      0.25      0.08       740\n",
      "  weighted avg       0.08      0.12      0.09       740\n",
      "\n"
     ]
    },
    {
     "name": "stderr",
     "output_type": "stream",
     "text": [
      "/home/ashwin/anaconda3/lib/python3.11/site-packages/sklearn/metrics/_classification.py:1344: UndefinedMetricWarning: Precision and F-score are ill-defined and being set to 0.0 in labels with no predicted samples. Use `zero_division` parameter to control this behavior.\n",
      "  _warn_prf(average, modifier, msg_start, len(result))\n",
      "/home/ashwin/anaconda3/lib/python3.11/site-packages/sklearn/metrics/_classification.py:1344: UndefinedMetricWarning: Precision and F-score are ill-defined and being set to 0.0 in labels with no predicted samples. Use `zero_division` parameter to control this behavior.\n",
      "  _warn_prf(average, modifier, msg_start, len(result))\n",
      "/home/ashwin/anaconda3/lib/python3.11/site-packages/sklearn/metrics/_classification.py:1344: UndefinedMetricWarning: Precision and F-score are ill-defined and being set to 0.0 in labels with no predicted samples. Use `zero_division` parameter to control this behavior.\n",
      "  _warn_prf(average, modifier, msg_start, len(result))\n"
     ]
    }
   ],
   "source": [
    "predict_labels(model, test_generator, test_data)"
   ]
  },
  {
   "cell_type": "code",
   "execution_count": null,
   "metadata": {},
   "outputs": [],
   "source": []
  }
 ],
 "metadata": {
  "kernelspec": {
   "display_name": "Python 3",
   "language": "python",
   "name": "python3"
  },
  "language_info": {
   "codemirror_mode": {
    "name": "ipython",
    "version": 3
   },
   "file_extension": ".py",
   "mimetype": "text/x-python",
   "name": "python",
   "nbconvert_exporter": "python",
   "pygments_lexer": "ipython3",
   "version": "3.11.7"
  }
 },
 "nbformat": 4,
 "nbformat_minor": 2
}
