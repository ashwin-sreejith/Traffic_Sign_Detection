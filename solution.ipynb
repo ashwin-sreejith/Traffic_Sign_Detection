{
 "cells": [
  {
   "cell_type": "code",
   "execution_count": 1,
   "metadata": {},
   "outputs": [
    {
     "name": "stderr",
     "output_type": "stream",
     "text": [
      "2024-05-17 21:04:57.103216: I tensorflow/core/util/port.cc:113] oneDNN custom operations are on. You may see slightly different numerical results due to floating-point round-off errors from different computation orders. To turn them off, set the environment variable `TF_ENABLE_ONEDNN_OPTS=0`.\n",
      "2024-05-17 21:04:57.131241: I tensorflow/core/platform/cpu_feature_guard.cc:210] This TensorFlow binary is optimized to use available CPU instructions in performance-critical operations.\n",
      "To enable the following instructions: AVX2 AVX_VNNI FMA, in other operations, rebuild TensorFlow with the appropriate compiler flags.\n",
      "2024-05-17 21:04:57.653279: W tensorflow/compiler/tf2tensorrt/utils/py_utils.cc:38] TF-TRT Warning: Could not find TensorRT\n"
     ]
    }
   ],
   "source": [
    "import splitfolders\n",
    "import shutil\n",
    "import os\n",
    "from PIL import Image\n",
    "import glob\n",
    "import pandas as pd\n",
    "import numpy as np\n",
    "import seaborn as sns\n",
    "import matplotlib.pyplot as plt\n",
    "from sklearn.preprocessing import LabelEncoder\n",
    "from tensorflow.keras.preprocessing.image import ImageDataGenerator, img_to_array\n",
    "import tensorflow as tf\n",
    "from sklearn.utils.class_weight import compute_class_weight\n",
    "import keras_tuner as kt\n",
    "import tensorflow_hub as hub"
   ]
  },
  {
   "cell_type": "markdown",
   "metadata": {},
   "source": [
    "Build Train/Test/Validation datasets from the given dataset."
   ]
  },
  {
   "cell_type": "code",
   "execution_count": 2,
   "metadata": {},
   "outputs": [],
   "source": [
    "def build_directory_dict(root_dir):\n",
    "    directory_dict = {}\n",
    "\n",
    "    for dirpath, dirnames, filenames in os.walk(root_dir):\n",
    "        if dirpath != root_dir:\n",
    "            parent_dir = os.path.basename(dirpath)\n",
    "            if parent_dir not in directory_dict:\n",
    "                directory_dict[parent_dir] = []\n",
    "            for dirname in dirnames:\n",
    "                directory_dict[parent_dir].append(dirname)\n",
    "\n",
    "    # check if values for any key is empty then remove that key value pair from dict\n",
    "    dict_copy = directory_dict.copy()\n",
    "    print(dict_copy)\n",
    "    for key, value in dict_copy.items():\n",
    "        if not value:\n",
    "            del directory_dict[key]\n",
    "    return directory_dict"
   ]
  },
  {
   "cell_type": "code",
   "execution_count": 3,
   "metadata": {},
   "outputs": [],
   "source": [
    "def copy_data_to_dest(source, dest, class_labels, split_ratios):\n",
    "\n",
    "    for shape, types in class_labels.items():\n",
    "        src = source + '/' + shape\n",
    "        temp_dir = source + '/temp/' + shape\n",
    "\n",
    "        if (os.path.exists(temp_dir)):\n",
    "            shutil.rmtree(temp_dir) \n",
    "\n",
    "        splitfolders.ratio(src, output=temp_dir, ratio=split_ratios, seed=1337)\n",
    "      \n",
    "        for type_val in types:\n",
    "            shutil.move(temp_dir + '/train/' + type_val, dest + '/train/' + shape + '/' + type_val)\n",
    "            shutil.move(temp_dir + '/test/'  + type_val, dest + '/test/' + shape + '/' + type_val)\n",
    "            shutil.move(temp_dir + '/val/'   + type_val, dest + '/val/' + shape + '/' + type_val)\n",
    "        \n",
    "    shutil.rmtree(r'./Dataset/trafficsigns_dataset/temp')"
   ]
  },
  {
   "cell_type": "code",
   "execution_count": 4,
   "metadata": {},
   "outputs": [],
   "source": [
    "# use split folders to split the dataset into train, test and validation datasets\n",
    "def create_train_test_val(split_ratios, src, dest):\n",
    "    if (os.path.exists(dest)):\n",
    "        shutil.rmtree(r'./Dataset/train_test_val') \n",
    "    splitfolders.ratio(src, output=dest, seed=1337, ratio=split_ratios)\n",
    "    class_labels = build_directory_dict(src)\n",
    "    copy_data_to_dest(src, dest, class_labels, split_ratios)\n",
    "    \n",
    "    "
   ]
  },
  {
   "cell_type": "code",
   "execution_count": 5,
   "metadata": {},
   "outputs": [
    {
     "name": "stderr",
     "output_type": "stream",
     "text": [
      "Copying files: 0 files [00:00, ? files/s]\n"
     ]
    },
    {
     "name": "stdout",
     "output_type": "stream",
     "text": [
      "{'diamond': ['rightofway'], 'rightofway': [], 'triangle': ['warning', 'giveway'], 'warning': [], 'giveway': [], 'round': ['limitedtraffic', 'noparking', 'speed', 'bicycle', 'traveldirection', 'roundabout', 'trafficdirective', 'noentry'], 'limitedtraffic': [], 'noparking': [], 'speed': [], 'bicycle': [], 'traveldirection': [], 'roundabout': [], 'trafficdirective': [], 'noentry': [], 'hex': ['stop'], 'stop': [], 'square': ['parking', 'continue', 'crossing', 'laneend'], 'parking': [], 'continue': [], 'crossing': [], 'laneend': []}\n"
     ]
    },
    {
     "name": "stderr",
     "output_type": "stream",
     "text": [
      "Copying files: 282 files [00:00, 27767.72 files/s]\n",
      "Copying files: 0 files [00:00, ? files/s]"
     ]
    },
    {
     "name": "stderr",
     "output_type": "stream",
     "text": [
      "Copying files: 926 files [00:00, 28642.94 files/s]\n",
      "Copying files: 1760 files [00:00, 30838.15 files/s]\n",
      "Copying files: 43 files [00:00, 23468.45 files/s]\n",
      "Copying files: 688 files [00:00, 30244.11 files/s]\n"
     ]
    }
   ],
   "source": [
    "create_train_test_val(split_ratios=(0.6, 0.2, 0.2), src='Dataset/trafficsigns_dataset', dest='Dataset/train_test_val')  "
   ]
  },
  {
   "cell_type": "markdown",
   "metadata": {},
   "source": [
    "Fetch the images from the folder and build a dataframe"
   ]
  },
  {
   "cell_type": "code",
   "execution_count": 6,
   "metadata": {},
   "outputs": [],
   "source": [
    "def build_df_from_image_list(image_list):\n",
    "    df = pd.DataFrame(image_list, columns = ['Path', 'Shape', 'Type'])\n",
    "    return df"
   ]
  },
  {
   "cell_type": "code",
   "execution_count": 7,
   "metadata": {},
   "outputs": [],
   "source": [
    "def fetch_images(root_path):\n",
    "    image_list = []\n",
    "    for filepath in glob.glob(root_path, recursive=True): #assuming gif\n",
    "      shape = filepath.split('/')[3]\n",
    "      types = filepath.split('/')[4]\n",
    "      image_list.append((filepath, shape, types))\n",
    "    \n",
    "    df = build_df_from_image_list(image_list)\n",
    "    return df"
   ]
  },
  {
   "cell_type": "code",
   "execution_count": 8,
   "metadata": {},
   "outputs": [],
   "source": [
    "train = fetch_images('Dataset/train_test_val/train/*/*/*.png')\n",
    "test = fetch_images('Dataset/train_test_val/test/*/*/*.png')\n",
    "val = fetch_images('Dataset/train_test_val/val/*/*/*.png')"
   ]
  },
  {
   "cell_type": "code",
   "execution_count": 9,
   "metadata": {},
   "outputs": [
    {
     "data": {
      "text/html": [
       "<div>\n",
       "<style scoped>\n",
       "    .dataframe tbody tr th:only-of-type {\n",
       "        vertical-align: middle;\n",
       "    }\n",
       "\n",
       "    .dataframe tbody tr th {\n",
       "        vertical-align: top;\n",
       "    }\n",
       "\n",
       "    .dataframe thead th {\n",
       "        text-align: right;\n",
       "    }\n",
       "</style>\n",
       "<table border=\"1\" class=\"dataframe\">\n",
       "  <thead>\n",
       "    <tr style=\"text-align: right;\">\n",
       "      <th></th>\n",
       "      <th>Path</th>\n",
       "      <th>Shape</th>\n",
       "      <th>Type</th>\n",
       "    </tr>\n",
       "  </thead>\n",
       "  <tbody>\n",
       "    <tr>\n",
       "      <th>0</th>\n",
       "      <td>Dataset/train_test_val/val/diamond/rightofway/...</td>\n",
       "      <td>diamond</td>\n",
       "      <td>rightofway</td>\n",
       "    </tr>\n",
       "    <tr>\n",
       "      <th>1</th>\n",
       "      <td>Dataset/train_test_val/val/diamond/rightofway/...</td>\n",
       "      <td>diamond</td>\n",
       "      <td>rightofway</td>\n",
       "    </tr>\n",
       "    <tr>\n",
       "      <th>2</th>\n",
       "      <td>Dataset/train_test_val/val/diamond/rightofway/...</td>\n",
       "      <td>diamond</td>\n",
       "      <td>rightofway</td>\n",
       "    </tr>\n",
       "    <tr>\n",
       "      <th>3</th>\n",
       "      <td>Dataset/train_test_val/val/diamond/rightofway/...</td>\n",
       "      <td>diamond</td>\n",
       "      <td>rightofway</td>\n",
       "    </tr>\n",
       "    <tr>\n",
       "      <th>4</th>\n",
       "      <td>Dataset/train_test_val/val/diamond/rightofway/...</td>\n",
       "      <td>diamond</td>\n",
       "      <td>rightofway</td>\n",
       "    </tr>\n",
       "  </tbody>\n",
       "</table>\n",
       "</div>"
      ],
      "text/plain": [
       "                                                Path    Shape        Type\n",
       "0  Dataset/train_test_val/val/diamond/rightofway/...  diamond  rightofway\n",
       "1  Dataset/train_test_val/val/diamond/rightofway/...  diamond  rightofway\n",
       "2  Dataset/train_test_val/val/diamond/rightofway/...  diamond  rightofway\n",
       "3  Dataset/train_test_val/val/diamond/rightofway/...  diamond  rightofway\n",
       "4  Dataset/train_test_val/val/diamond/rightofway/...  diamond  rightofway"
      ]
     },
     "execution_count": 9,
     "metadata": {},
     "output_type": "execute_result"
    }
   ],
   "source": [
    "val.head()"
   ]
  },
  {
   "cell_type": "code",
   "execution_count": 10,
   "metadata": {},
   "outputs": [],
   "source": [
    "def print_data_info(train, test, val, key='Shape'):\n",
    "    print(\"########################## Shape ##########################\")\n",
    "    print(f\" Train: {train.shape}, Test: {test.shape}, Val: {val.shape}\\n\",)\n",
    "    print(\"########################## Unique ##########################\")\n",
    "    print(\"Total Classes: \", len(train[key].unique()))\n",
    "    print(f\" Train: {train[key].unique()}, \\nTest: {test[key].unique()}, \\nVal: {val[key].unique()}\\n\")\n",
    "    print(\"########################## Count ##########################\")\n",
    "    print(f\" Train: {train[key].value_counts()}, Test: {test[key].value_counts()}, Val: {val[key].value_counts()}\\n\")\n"
   ]
  },
  {
   "cell_type": "code",
   "execution_count": 11,
   "metadata": {},
   "outputs": [
    {
     "name": "stdout",
     "output_type": "stream",
     "text": [
      "########################## Shape ##########################\n",
      " Train: (2214, 3), Test: (750, 3), Val: (735, 3)\n",
      "\n",
      "########################## Unique ##########################\n",
      "Total Classes:  5\n",
      " Train: ['diamond' 'triangle' 'round' 'hex' 'square'], \n",
      "Test: ['diamond' 'triangle' 'round' 'hex' 'square'], \n",
      "Val: ['diamond' 'triangle' 'round' 'hex' 'square']\n",
      "\n",
      "########################## Count ##########################\n",
      " Train: Shape\n",
      "round       1054\n",
      "triangle     555\n",
      "square       411\n",
      "diamond      169\n",
      "hex           25\n",
      "Name: count, dtype: int64, Test: Shape\n",
      "round       356\n",
      "triangle    186\n",
      "square      141\n",
      "diamond      57\n",
      "hex          10\n",
      "Name: count, dtype: int64, Val: Shape\n",
      "round       350\n",
      "triangle    185\n",
      "square      136\n",
      "diamond      56\n",
      "hex           8\n",
      "Name: count, dtype: int64\n",
      "\n"
     ]
    }
   ],
   "source": [
    "print_data_info(train, test, val, key='Shape')"
   ]
  },
  {
   "cell_type": "code",
   "execution_count": 12,
   "metadata": {},
   "outputs": [
    {
     "name": "stdout",
     "output_type": "stream",
     "text": [
      "########################## Shape ##########################\n",
      " Train: (2214, 3), Test: (750, 3), Val: (735, 3)\n",
      "\n",
      "########################## Unique ##########################\n",
      "Total Classes:  16\n",
      " Train: ['rightofway' 'warning' 'giveway' 'limitedtraffic' 'noparking' 'speed'\n",
      " 'bicycle' 'traveldirection' 'roundabout' 'trafficdirective' 'noentry'\n",
      " 'stop' 'parking' 'continue' 'crossing' 'laneend'], \n",
      "Test: ['rightofway' 'warning' 'giveway' 'limitedtraffic' 'noparking' 'speed'\n",
      " 'bicycle' 'traveldirection' 'roundabout' 'trafficdirective' 'noentry'\n",
      " 'stop' 'parking' 'continue' 'crossing' 'laneend'], \n",
      "Val: ['rightofway' 'warning' 'giveway' 'limitedtraffic' 'noparking' 'speed'\n",
      " 'bicycle' 'traveldirection' 'roundabout' 'trafficdirective' 'noentry'\n",
      " 'stop' 'parking' 'continue' 'crossing' 'laneend']\n",
      "\n",
      "########################## Count ##########################\n",
      " Train: Type\n",
      "warning             417\n",
      "noentry             225\n",
      "speed               189\n",
      "bicycle             171\n",
      "rightofway          169\n",
      "parking             165\n",
      "noparking           145\n",
      "giveway             138\n",
      "continue            119\n",
      "trafficdirective    117\n",
      "limitedtraffic       75\n",
      "traveldirection      74\n",
      "laneend              70\n",
      "roundabout           58\n",
      "crossing             57\n",
      "stop                 25\n",
      "Name: count, dtype: int64, Test: Type\n",
      "warning             139\n",
      "noentry              75\n",
      "speed                64\n",
      "rightofway           57\n",
      "bicycle              57\n",
      "parking              56\n",
      "noparking            49\n",
      "giveway              47\n",
      "continue             41\n",
      "trafficdirective     39\n",
      "traveldirection      26\n",
      "limitedtraffic       25\n",
      "laneend              25\n",
      "roundabout           21\n",
      "crossing             19\n",
      "stop                 10\n",
      "Name: count, dtype: int64, Val: Type\n",
      "warning             139\n",
      "noentry              75\n",
      "speed                63\n",
      "bicycle              57\n",
      "rightofway           56\n",
      "parking              55\n",
      "noparking            48\n",
      "giveway              46\n",
      "trafficdirective     39\n",
      "continue             39\n",
      "limitedtraffic       25\n",
      "traveldirection      24\n",
      "laneend              23\n",
      "roundabout           19\n",
      "crossing             19\n",
      "stop                  8\n",
      "Name: count, dtype: int64\n",
      "\n"
     ]
    }
   ],
   "source": [
    "print_data_info(train, test, val, key='Type')"
   ]
  },
  {
   "cell_type": "markdown",
   "metadata": {
    "vscode": {
     "languageId": "bat"
    }
   },
   "source": [
    "Visualise Data"
   ]
  },
  {
   "cell_type": "code",
   "execution_count": 13,
   "metadata": {},
   "outputs": [],
   "source": [
    "def visualise_data(df):\n",
    "    # plot distribution of each class\n",
    "    fig, axs = plt.subplots(1, 2, figsize=(20,6))\n",
    "\n",
    "    # Plot distribution of each class within shape\n",
    "    sns.countplot(data=df, x='Shape', ax=axs[0])\n",
    "    axs[0].set_title('Distribution of Shapes')\n",
    "\n",
    "    # Plot distribution of each class within type\n",
    "    sns.countplot(data=df, y='Type', ax=axs[1])\n",
    "    axs[1].set_title('Distribution of Types')\n",
    "\n",
    "    plt.tight_layout()\n",
    "    plt.show()"
   ]
  },
  {
   "cell_type": "code",
   "execution_count": 14,
   "metadata": {},
   "outputs": [
    {
     "data": {
      "image/png": "[encoded data removed]",
      "text/plain": [
       "<Figure size 2000x600 with 2 Axes>"
      ]
     },
     "metadata": {},
     "output_type": "display_data"
    }
   ],
   "source": [
    "visualise_data(train)"
   ]
  },
  {
   "cell_type": "code",
   "execution_count": 15,
   "metadata": {},
   "outputs": [],
   "source": [
    "# Iterate through each image path in the DataFrame\n",
    "def check_image_dimensions(df):\n",
    "    for index, row in df.iterrows():\n",
    "        image_path = row['Path']\n",
    "        flag = False\n",
    "\n",
    "        # Open the image using PIL\n",
    "        with Image.open(image_path) as img:\n",
    "            width, height = img.size\n",
    "            # Check if dimensions are not 28x28\n",
    "            if width != 28 or height != 28:\n",
    "                flag = True\n",
    "                print(f\"Image at path {image_path} has dimensions {width}x{height}\")\n",
    "\n",
    "    if not flag:\n",
    "        return \"All images have dimensions 28x28\""
   ]
  },
  {
   "cell_type": "code",
   "execution_count": 16,
   "metadata": {},
   "outputs": [
    {
     "name": "stdout",
     "output_type": "stream",
     "text": [
      "Train: All images have dimensions 28x28\n",
      " Test: All images have dimensions 28x28\n",
      " Val: All images have dimensions 28x28\n"
     ]
    }
   ],
   "source": [
    "print(f\"Train: {check_image_dimensions(train)}\\n Test: {check_image_dimensions(test)}\\n Val: {check_image_dimensions(val)}\")    "
   ]
  },
  {
   "cell_type": "markdown",
   "metadata": {},
   "source": [
    "Encode class labels"
   ]
  },
  {
   "cell_type": "code",
   "execution_count": 17,
   "metadata": {},
   "outputs": [],
   "source": [
    "def encoder(df):\n",
    "    label_encoder = LabelEncoder()\n",
    "    df['Shape'] = label_encoder.fit_transform(df['Shape'])\n",
    "    df['Type'] = label_encoder.fit_transform(df['Type'])\n",
    "\n",
    "    return df    "
   ]
  },
  {
   "cell_type": "code",
   "execution_count": 18,
   "metadata": {},
   "outputs": [
    {
     "data": {
      "text/html": [
       "<div>\n",
       "<style scoped>\n",
       "    .dataframe tbody tr th:only-of-type {\n",
       "        vertical-align: middle;\n",
       "    }\n",
       "\n",
       "    .dataframe tbody tr th {\n",
       "        vertical-align: top;\n",
       "    }\n",
       "\n",
       "    .dataframe thead th {\n",
       "        text-align: right;\n",
       "    }\n",
       "</style>\n",
       "<table border=\"1\" class=\"dataframe\">\n",
       "  <thead>\n",
       "    <tr style=\"text-align: right;\">\n",
       "      <th></th>\n",
       "      <th>Path</th>\n",
       "      <th>Shape</th>\n",
       "      <th>Type</th>\n",
       "    </tr>\n",
       "  </thead>\n",
       "  <tbody>\n",
       "    <tr>\n",
       "      <th>0</th>\n",
       "      <td>Dataset/train_test_val/val/diamond/rightofway/...</td>\n",
       "      <td>0</td>\n",
       "      <td>9</td>\n",
       "    </tr>\n",
       "    <tr>\n",
       "      <th>1</th>\n",
       "      <td>Dataset/train_test_val/val/diamond/rightofway/...</td>\n",
       "      <td>0</td>\n",
       "      <td>9</td>\n",
       "    </tr>\n",
       "    <tr>\n",
       "      <th>2</th>\n",
       "      <td>Dataset/train_test_val/val/diamond/rightofway/...</td>\n",
       "      <td>0</td>\n",
       "      <td>9</td>\n",
       "    </tr>\n",
       "    <tr>\n",
       "      <th>3</th>\n",
       "      <td>Dataset/train_test_val/val/diamond/rightofway/...</td>\n",
       "      <td>0</td>\n",
       "      <td>9</td>\n",
       "    </tr>\n",
       "    <tr>\n",
       "      <th>4</th>\n",
       "      <td>Dataset/train_test_val/val/diamond/rightofway/...</td>\n",
       "      <td>0</td>\n",
       "      <td>9</td>\n",
       "    </tr>\n",
       "    <tr>\n",
       "      <th>...</th>\n",
       "      <td>...</td>\n",
       "      <td>...</td>\n",
       "      <td>...</td>\n",
       "    </tr>\n",
       "    <tr>\n",
       "      <th>730</th>\n",
       "      <td>Dataset/train_test_val/val/square/laneend/0141...</td>\n",
       "      <td>3</td>\n",
       "      <td>4</td>\n",
       "    </tr>\n",
       "    <tr>\n",
       "      <th>731</th>\n",
       "      <td>Dataset/train_test_val/val/square/laneend/0175...</td>\n",
       "      <td>3</td>\n",
       "      <td>4</td>\n",
       "    </tr>\n",
       "    <tr>\n",
       "      <th>732</th>\n",
       "      <td>Dataset/train_test_val/val/square/laneend/0072...</td>\n",
       "      <td>3</td>\n",
       "      <td>4</td>\n",
       "    </tr>\n",
       "    <tr>\n",
       "      <th>733</th>\n",
       "      <td>Dataset/train_test_val/val/square/laneend/0013...</td>\n",
       "      <td>3</td>\n",
       "      <td>4</td>\n",
       "    </tr>\n",
       "    <tr>\n",
       "      <th>734</th>\n",
       "      <td>Dataset/train_test_val/val/square/laneend/0048...</td>\n",
       "      <td>3</td>\n",
       "      <td>4</td>\n",
       "    </tr>\n",
       "  </tbody>\n",
       "</table>\n",
       "<p>735 rows × 3 columns</p>\n",
       "</div>"
      ],
      "text/plain": [
       "                                                  Path  Shape  Type\n",
       "0    Dataset/train_test_val/val/diamond/rightofway/...      0     9\n",
       "1    Dataset/train_test_val/val/diamond/rightofway/...      0     9\n",
       "2    Dataset/train_test_val/val/diamond/rightofway/...      0     9\n",
       "3    Dataset/train_test_val/val/diamond/rightofway/...      0     9\n",
       "4    Dataset/train_test_val/val/diamond/rightofway/...      0     9\n",
       "..                                                 ...    ...   ...\n",
       "730  Dataset/train_test_val/val/square/laneend/0141...      3     4\n",
       "731  Dataset/train_test_val/val/square/laneend/0175...      3     4\n",
       "732  Dataset/train_test_val/val/square/laneend/0072...      3     4\n",
       "733  Dataset/train_test_val/val/square/laneend/0013...      3     4\n",
       "734  Dataset/train_test_val/val/square/laneend/0048...      3     4\n",
       "\n",
       "[735 rows x 3 columns]"
      ]
     },
     "execution_count": 18,
     "metadata": {},
     "output_type": "execute_result"
    }
   ],
   "source": [
    "encoder(train)\n",
    "encoder(test)\n",
    "encoder(val)\n",
    "\n",
    "# print(train['Shape'].value_counts())\n",
    "# print(train['Type'].unique())\n",
    "# train[train.Shape == 1].head()"
   ]
  },
  {
   "cell_type": "markdown",
   "metadata": {},
   "source": [
    "Handle Data Imbalance"
   ]
  },
  {
   "cell_type": "code",
   "execution_count": 19,
   "metadata": {},
   "outputs": [],
   "source": [
    "def augment_data(df, image_batch_size, dest):\n",
    "    \n",
    "    images = []\n",
    "    for image_path in df['Path']:\n",
    "        img = plt.imread(image_path)\n",
    "        images.append(img_to_array(img))\n",
    "      \n",
    "\n",
    "    datagen = ImageDataGenerator(\n",
    "        rotation_range=20,\n",
    "        zoom_range=0.2,\n",
    "        horizontal_flip=True,\n",
    "        vertical_flip=True,\n",
    "        shear_range=0.2,\n",
    "    )\n",
    "\n",
    "    for img in images:\n",
    "        img = img.reshape((1,) + img.shape)\n",
    "        for j, _ in enumerate(datagen.flow(img, save_to_dir=dest, batch_size=1, save_prefix='aug', save_format='png')):\n",
    "            if j >= image_batch_size:\n",
    "                break\n"
   ]
  },
  {
   "cell_type": "code",
   "execution_count": 20,
   "metadata": {},
   "outputs": [],
   "source": [
    "def make_dir(src, dest):\n",
    "    if (os.path.exists(dest)):\n",
    "        if dest == 'Dataset/shape_aug/train':\n",
    "            shutil.rmtree(r'./Dataset/shape_aug/train')\n",
    "        elif dest == 'Dataset/type_aug/train':\n",
    "            shutil.rmtree(r'./Dataset/type_aug/train')\n",
    "    \n",
    "    shutil.copytree(src, dest)"
   ]
  },
  {
   "cell_type": "code",
   "execution_count": 21,
   "metadata": {},
   "outputs": [],
   "source": [
    "def start_shape_augmentation(train, choice, src, dest, batch_dict):\n",
    "    make_dir(src=src, dest=dest)\n",
    "    \n",
    "    for key, [index, value, shape] in batch_dict.items():\n",
    "        path = dest + '/' + shape + '/' + key\n",
    "        augment_data(df=train[train.Type == index], image_batch_size=value, dest=path) \n",
    "    \n",
    "    train_aug = fetch_images(dest + '/*/*/*.png')\n",
    "    train_aug = encoder(train_aug)\n",
    "    print(train_aug[choice].value_counts())\n",
    "    visualise_data(train_aug)\n",
    "    return train_aug"
   ]
  },
  {
   "cell_type": "code",
   "execution_count": 22,
   "metadata": {},
   "outputs": [
    {
     "name": "stdout",
     "output_type": "stream",
     "text": [
      "Shape\n",
      "2    1054\n",
      "1    1018\n",
      "3     912\n",
      "4     826\n",
      "0     823\n",
      "Name: count, dtype: int64\n"
     ]
    },
    {
     "data": {
      "image/png": "[encoded data removed]",
      "text/plain": [
       "<Figure size 2000x600 with 2 Axes>"
      ]
     },
     "metadata": {},
     "output_type": "display_data"
    }
   ],
   "source": [
    "batch_dict_shape = {\n",
    "    # sign_type : [sign_type_label, number of images to generate per image, shape]\n",
    "        'stop': [12, 41, 'hex'],\n",
    "        'giveway': [3, 1, 'triangle'],\n",
    "        'crossing': [2, 3, 'square'],\n",
    "        'laneend': [4, 3, 'square'],\n",
    "        'rightofway': [9, 3, 'diamond'],\n",
    "    }\n",
    "train_shape_aug = start_shape_augmentation(train, 'Shape', \n",
    "                                           src='Dataset/train_test_val/train', \n",
    "                                           dest='Dataset/shape_aug/train', \n",
    "                                           batch_dict=batch_dict_shape)"
   ]
  },
  {
   "cell_type": "code",
   "execution_count": 23,
   "metadata": {},
   "outputs": [
    {
     "name": "stdout",
     "output_type": "stream",
     "text": [
      "Type\n",
      "6     668\n",
      "7     575\n",
      "13    573\n",
      "11    562\n",
      "3     544\n",
      "5     518\n",
      "0     508\n",
      "14    508\n",
      "9     504\n",
      "2     502\n",
      "8     493\n",
      "4     485\n",
      "1     468\n",
      "10    455\n",
      "12    444\n",
      "15    417\n",
      "Name: count, dtype: int64\n"
     ]
    },
    {
     "data": {
      "image/png": "[encoded data removed]",
      "text/plain": [
       "<Figure size 2000x600 with 2 Axes>"
      ]
     },
     "metadata": {},
     "output_type": "display_data"
    }
   ],
   "source": [
    "batch_dict_type = {\n",
    "    # sign_type : [sign_type_label, number of images to generate per image, shape]\n",
    "        'stop': [12, 16, 'hex'],\n",
    "        'crossing': [2, 7, 'square'],\n",
    "        'roundabout': [10, 6, 'round'],\n",
    "        'laneend': [4, 5, 'square'],\n",
    "        'traveldirection': [14, 5, 'round'],\n",
    "        'limitedtraffic': [5, 5, 'round'],\n",
    "        'trafficdirective': [13, 3, 'round'],\n",
    "        'continue': [1, 2, 'square'],\n",
    "        'giveway': [3, 2, 'triangle'],\n",
    "        'noparking': [7, 2, 'round'],\n",
    "        'parking': [8, 1, 'square'],\n",
    "        'rightofway': [9, 1, 'diamond'],\n",
    "        'bicycle': [0, 1, 'round'],\n",
    "        'speed': [11, 1, 'round'], \n",
    "        'noentry': [6, 1, 'round'],\n",
    "    }\n",
    "train_type_augmented = start_shape_augmentation(train, 'Type', \n",
    "                                           src='Dataset/train_test_val/train', \n",
    "                                           dest='Dataset/type_aug/train', \n",
    "                                           batch_dict=batch_dict_type)"
   ]
  },
  {
   "cell_type": "markdown",
   "metadata": {},
   "source": [
    "Generate Images for Training"
   ]
  },
  {
   "cell_type": "code",
   "execution_count": 24,
   "metadata": {},
   "outputs": [],
   "source": [
    "def create_image_batches(df, batch_size, label, target_size=(28, 28), is_train = True):\n",
    "        df[label] = df[label].astype('str')\n",
    "        train_datagen = ImageDataGenerator(rescale=1./255, data_format='channels_last')\n",
    "\n",
    "        if is_train:\n",
    "                train_generator = train_datagen.flow_from_dataframe(\n",
    "                        dataframe=df,\n",
    "                        directory='./',\n",
    "                        x_col=\"Path\",\n",
    "                        y_col=label,\n",
    "                        target_size=target_size,\n",
    "                        batch_size=batch_size,\n",
    "                        class_mode='categorical')\n",
    "        else:\n",
    "                train_generator = train_datagen.flow_from_dataframe(\n",
    "                        dataframe=df,\n",
    "                        directory='./',\n",
    "                        x_col=\"Path\",\n",
    "                        y_col=label,\n",
    "                        target_size=target_size,\n",
    "                        batch_size=batch_size,\n",
    "                        shuffle=False,\n",
    "                        class_mode='categorical'\n",
    "                        )\n",
    "        \n",
    "        return train_generator"
   ]
  },
  {
   "cell_type": "code",
   "execution_count": 25,
   "metadata": {},
   "outputs": [
    {
     "name": "stdout",
     "output_type": "stream",
     "text": [
      "Found 2214 validated image filenames belonging to 5 classes.\n",
      "Found 735 validated image filenames belonging to 5 classes.\n"
     ]
    },
    {
     "name": "stdout",
     "output_type": "stream",
     "text": [
      "Found 4633 validated image filenames belonging to 5 classes.\n"
     ]
    }
   ],
   "source": [
    "# create image batches from train for Shape\n",
    "shape_train_generator = create_image_batches(df=train, batch_size=32, label='Shape', target_size=(28, 28), is_train=True)\n",
    "shape_val_generator = create_image_batches(df=val, batch_size=32, label='Shape', target_size=(28, 28), is_train=True)\n",
    "# create image batches from augmented train for Shape\n",
    "shape_aug_train_generator = create_image_batches(df=train_shape_aug, batch_size=32, label='Shape', target_size=(28, 28), is_train=True)"
   ]
  },
  {
   "cell_type": "code",
   "execution_count": 26,
   "metadata": {},
   "outputs": [
    {
     "name": "stdout",
     "output_type": "stream",
     "text": [
      "Found 2214 validated image filenames belonging to 16 classes.\n",
      "Found 735 validated image filenames belonging to 16 classes.\n",
      "Found 8224 validated image filenames belonging to 16 classes.\n"
     ]
    }
   ],
   "source": [
    "type_train_generator = create_image_batches(df=train, batch_size=32, label='Type', target_size=(28, 28), is_train=True)\n",
    "type_val_generator = create_image_batches(df=val, batch_size=32, label='Type', target_size=(28, 28), is_train=True)\n",
    "# create image batches from augmented train for Type\n",
    "type_aug_train_generator = create_image_batches(df=train_type_augmented, batch_size=32, label='Type', target_size=(28, 28), is_train=True)"
   ]
  },
  {
   "cell_type": "markdown",
   "metadata": {},
   "source": [
    "Model Development"
   ]
  },
  {
   "cell_type": "code",
   "execution_count": 27,
   "metadata": {},
   "outputs": [
    {
     "name": "stdout",
     "output_type": "stream",
     "text": [
      "Classes_Shape: 5\n",
      "Classes_Type: 16\n",
      "Metric: <AUC name=PR>\n",
      "Loss Metric: <keras.src.losses.losses.CategoricalCrossentropy object at 0x78047d4c7b90>\n",
      "\n"
     ]
    },
    {
     "name": "stderr",
     "output_type": "stream",
     "text": [
      "2024-05-17 21:05:01.832001: I external/local_xla/xla/stream_executor/cuda/cuda_executor.cc:998] successful NUMA node read from SysFS had negative value (-1), but there must be at least one NUMA node, so returning NUMA node zero. See more at https://github.com/torvalds/linux/blob/v6.0/Documentation/ABI/testing/sysfs-bus-pci#L344-L355\n",
      "2024-05-17 21:05:01.855462: W tensorflow/core/common_runtime/gpu/gpu_device.cc:2251] Cannot dlopen some GPU libraries. Please make sure the missing libraries mentioned above are installed properly if you would like to use GPU. Follow the guide at https://www.tensorflow.org/install/gpu for how to download and setup the required libraries for your platform.\n",
      "Skipping registering GPU devices...\n"
     ]
    }
   ],
   "source": [
    "OUTPUT_CLASSES_SHAPE = 5\n",
    "OUTPUT_CLASSES_TYPE = 16\n",
    "INPUT_DIM = (28, 28, 3)\n",
    "# define metrics\n",
    "METRIC = tf.keras.metrics.AUC(curve='PR', name='PR', from_logits=True)\n",
    "LOSS_METRIC = tf.keras.losses.CategoricalCrossentropy(from_logits=True)\n",
    "\n",
    "\n",
    "print(\n",
    "    f\"Classes_Shape: {OUTPUT_CLASSES_SHAPE}\\n\"\n",
    "    f\"Classes_Type: {OUTPUT_CLASSES_TYPE}\\n\"\n",
    "    f\"Metric: {METRIC}\\n\"\n",
    "    f\"Loss Metric: {LOSS_METRIC}\\n\"\n",
    ")"
   ]
  },
  {
   "cell_type": "code",
   "execution_count": 28,
   "metadata": {},
   "outputs": [],
   "source": [
    "def plot_learning_curve(train_loss, val_loss, train_metric, val_metric, metric_name='Accuracy'):\n",
    "    plt.figure(figsize=(10,5))\n",
    "    \n",
    "    plt.subplot(1,2,1)\n",
    "    plt.plot(train_loss, 'r--')\n",
    "    plt.plot(val_loss, 'b--')\n",
    "    plt.xlabel(\"epochs\")\n",
    "    plt.ylabel(\"Loss\")\n",
    "    plt.legend(['train', 'val'], loc='upper left')\n",
    "\n",
    "    plt.subplot(1,2,2)\n",
    "    plt.plot(train_metric, 'r--')\n",
    "    plt.plot(val_metric, 'b--')\n",
    "    plt.xlabel(\"epochs\")\n",
    "    plt.ylabel(metric_name)\n",
    "    plt.legend(['train', 'val'], loc='upper left')\n",
    "\n",
    "    plt.show()"
   ]
  },
  {
   "cell_type": "code",
   "execution_count": null,
   "metadata": {},
   "outputs": [],
   "source": [
    "def plot_performance(history, metric_label):\n",
    "    val_metric_label = 'val_' + metric_label\n",
    "    plot_learning_curve(history.history['loss'], history.history['val_loss'], \n",
    "                    history.history[metric_label], history.history[val_metric_label], \n",
    "                    metric_name = metric_label)"
   ]
  },
  {
   "cell_type": "code",
   "execution_count": null,
   "metadata": {},
   "outputs": [],
   "source": [
    "def calc_class_weights(df, label):\n",
    "    unique_labels = train[label].unique()\n",
    "    weights =  compute_class_weight(class_weight=\"balanced\", classes=df[label].unique(), y=df[label].to_numpy())\n",
    "    class_weights = dict(zip(unique_labels, weights))\n",
    "    return class_weights"
   ]
  },
  {
   "cell_type": "code",
   "execution_count": 122,
   "metadata": {},
   "outputs": [],
   "source": [
    "def tune_model(tuner, train_generator, val_generator, class_weights, epoch, tune_type):\n",
    "    tuner.search(train_generator, validation_data=val_generator, class_weight=class_weights, epochs=epoch, verbose=0)\n",
    "    best_hp = tuner.get_best_hyperparameters()[0]\n",
    "    tuned_val = best_hp.get(tune_type)\n",
    "    print(f\"Best {tune_type}: {tuned_val}\")\n",
    "    model = tuner.hypermodel.build(best_hp)\n",
    "    history = model.fit(train_generator, validation_data=val_generator, epochs=epoch, verbose=0, class_weight=class_weights)\n",
    "    plot_performance(history=history, metric_label='PR')\n",
    "    return model"
   ]
  },
  {
   "cell_type": "markdown",
   "metadata": {},
   "source": [
    "Fetch class weights"
   ]
  },
  {
   "cell_type": "code",
   "execution_count": 126,
   "metadata": {},
   "outputs": [
    {
     "data": {
      "text/plain": [
       "{'0': 2.620118343195266,\n",
       " '4': 0.7978378378378378,\n",
       " '2': 0.42011385199240986,\n",
       " '1': 17.712,\n",
       " '3': 1.0773722627737226}"
      ]
     },
     "execution_count": 126,
     "metadata": {},
     "output_type": "execute_result"
    }
   ],
   "source": [
    "shape_weights = calc_class_weights(df=train, label='Shape')\n",
    "shape_weights"
   ]
  },
  {
   "cell_type": "code",
   "execution_count": 127,
   "metadata": {},
   "outputs": [
    {
     "data": {
      "text/plain": [
       "{'9': 0.8187869822485208,\n",
       " '15': 0.3318345323741007,\n",
       " '3': 1.002717391304348,\n",
       " '5': 1.845,\n",
       " '7': 0.9543103448275863,\n",
       " '11': 0.7321428571428571,\n",
       " '0': 0.8092105263157895,\n",
       " '14': 1.8699324324324325,\n",
       " '10': 2.3857758620689653,\n",
       " '13': 1.1826923076923077,\n",
       " '6': 0.615,\n",
       " '12': 5.535,\n",
       " '8': 0.8386363636363636,\n",
       " '1': 1.1628151260504203,\n",
       " '2': 2.4276315789473686,\n",
       " '4': 1.9767857142857144}"
      ]
     },
     "execution_count": 127,
     "metadata": {},
     "output_type": "execute_result"
    }
   ],
   "source": [
    "type_weights = calc_class_weights(df=train, label='Type')\n",
    "type_weights"
   ]
  },
  {
   "cell_type": "markdown",
   "metadata": {},
   "source": [
    "### Models"
   ]
  },
  {
   "cell_type": "markdown",
   "metadata": {},
   "source": [
    "Base MLP"
   ]
  },
  {
   "cell_type": "code",
   "execution_count": null,
   "metadata": {},
   "outputs": [],
   "source": [
    "################### ADD YOUR BASELINE MLP HERE ################"
   ]
  },
  {
   "cell_type": "markdown",
   "metadata": {},
   "source": [
    "Base VGG"
   ]
  },
  {
   "cell_type": "code",
   "execution_count": null,
   "metadata": {},
   "outputs": [],
   "source": [
    "def build_model_VGG(input_shape, output_classes, activation='relu'):\n",
    "    model = tf.keras.Sequential([\n",
    "        tf.keras.layers.Conv2D(28, (3, 3), activation=activation, padding='same', input_shape=input_shape),\n",
    "        tf.keras.layers.Conv2D(28, (3, 3), activation=activation, padding='same'),\n",
    "        tf.keras.layers.MaxPooling2D((2, 2)),\n",
    "   \n",
    "        tf.keras.layers.Conv2D(64, (3, 3), activation=activation, padding='same'),\n",
    "        tf.keras.layers.Conv2D(64, (3, 3), activation=activation, padding='same'),\n",
    "        tf.keras.layers.MaxPooling2D((2, 2)),\n",
    "        \n",
    "        tf.keras.layers.Conv2D(128, (3, 3), activation=activation, padding='same'),\n",
    "        tf.keras.layers.Conv2D(128, (3, 3), activation=activation, padding='same'),\n",
    "        tf.keras.layers.MaxPooling2D((2, 2)),\n",
    "        \n",
    "        tf.keras.layers.Flatten(),\n",
    "        tf.keras.layers.Dense(128, activation=activation),\n",
    "        tf.keras.layers.Dense(output_classes, activation='softmax'),\n",
    "    ])\n",
    "\n",
    "    return model"
   ]
  },
  {
   "cell_type": "markdown",
   "metadata": {},
   "source": [
    "Tuneable VGG with L2 Regularization"
   ]
  },
  {
   "cell_type": "code",
   "execution_count": 124,
   "metadata": {},
   "outputs": [],
   "source": [
    "def build_model_VGG_reg(hp):    \n",
    "    lambda_value = hp.Float('lambda', min_value=0.0001, max_value=0.1, sampling='log', default=0.001)\n",
    "    model = tf.keras.Sequential([\n",
    "        \n",
    "        tf.keras.layers.Conv2D(28, (3, 3), activation='relu', padding='same', \n",
    "                            kernel_regularizer=tf.keras.regularizers.l2(lambda_value), input_shape=INPUT_DIM),\n",
    "        tf.keras.layers.Conv2D(28, (3, 3), activation='relu', padding='same', \n",
    "                            kernel_regularizer=tf.keras.regularizers.l2(lambda_value)),\n",
    "        tf.keras.layers.MaxPooling2D((2, 2)),\n",
    "        \n",
    "        \n",
    "        tf.keras.layers.Conv2D(64, (3, 3), activation='relu', padding='same', \n",
    "                            kernel_regularizer=tf.keras.regularizers.l2(lambda_value)),\n",
    "        tf.keras.layers.Conv2D(64, (3, 3), activation='relu', padding='same', \n",
    "                            kernel_regularizer=tf.keras.regularizers.l2(lambda_value)),\n",
    "        tf.keras.layers.MaxPooling2D((2, 2)),\n",
    "        \n",
    "        \n",
    "        tf.keras.layers.Conv2D(128, (3, 3), activation='relu', padding='same', \n",
    "                            kernel_regularizer=tf.keras.regularizers.l2(lambda_value)),\n",
    "        tf.keras.layers.Conv2D(128, (3, 3), activation='relu', padding='same', \n",
    "                            kernel_regularizer=tf.keras.regularizers.l2(lambda_value)),\n",
    "        tf.keras.layers.MaxPooling2D((2, 2)),\n",
    "        \n",
    "        tf.keras.layers.Flatten(),\n",
    "        tf.keras.layers.Dense(128, activation='relu'),\n",
    "        tf.keras.layers.Dense(OUTPUT_CLASSES_SHAPE, activation = \"softmax\"),\n",
    "    ])\n",
    "\n",
    "    model.compile(optimizer='sgd', loss='categorical_crossentropy', metrics=[METRIC])\n",
    "\n",
    "    return model"
   ]
  },
  {
   "cell_type": "markdown",
   "metadata": {},
   "source": [
    "Tunable VGG with Dropout Regularization"
   ]
  },
  {
   "cell_type": "code",
   "execution_count": 125,
   "metadata": {},
   "outputs": [],
   "source": [
    "def build_model_VGG_dropout(hp):    \n",
    "    # from lambda tuner\n",
    "    #lambda_value = 0.018037870215070927\n",
    "    lambda_value = 0.006407366308178109\n",
    "    dropout_value = hp.Float('dropout_rate', min_value=0.2, max_value=0.5, default=0.2, step=0.1)\n",
    "    model = tf.keras.Sequential([\n",
    "        \n",
    "        tf.keras.layers.Conv2D(28, (3, 3), activation='relu', padding='same', \n",
    "                            kernel_regularizer=tf.keras.regularizers.l2(lambda_value), input_shape=INPUT_DIM),\n",
    "        tf.keras.layers.Conv2D(28, (3, 3), activation='relu', padding='same', \n",
    "                            kernel_regularizer=tf.keras.regularizers.l2(lambda_value)),\n",
    "        tf.keras.layers.MaxPooling2D((2, 2)),\n",
    "        \n",
    "        \n",
    "        tf.keras.layers.Conv2D(64, (3, 3), activation='relu', padding='same', \n",
    "                            kernel_regularizer=tf.keras.regularizers.l2(lambda_value)),\n",
    "        tf.keras.layers.Conv2D(64, (3, 3), activation='relu', padding='same', \n",
    "                            kernel_regularizer=tf.keras.regularizers.l2(lambda_value)),\n",
    "        tf.keras.layers.MaxPooling2D((2, 2)),\n",
    "        \n",
    "        \n",
    "        tf.keras.layers.Conv2D(128, (3, 3), activation='relu', padding='same', \n",
    "                            kernel_regularizer=tf.keras.regularizers.l2(lambda_value)),\n",
    "        tf.keras.layers.Conv2D(128, (3, 3), activation='relu', padding='same', \n",
    "                            kernel_regularizer=tf.keras.regularizers.l2(lambda_value)),\n",
    "        tf.keras.layers.MaxPooling2D((2, 2)),\n",
    "        \n",
    "        tf.keras.layers.Flatten(),\n",
    "        tf.keras.layers.Dense(128, activation='relu'),\n",
    "        tf.keras.layers.Dropout(dropout_value),\n",
    "        tf.keras.layers.Dense(OUTPUT_CLASSES_SHAPE, activation = \"softmax\"),\n",
    "    ])\n",
    "\n",
    "    model.compile(optimizer='sgd', loss='categorical_crossentropy', metrics=[METRIC])\n",
    "\n",
    "    return model"
   ]
  },
  {
   "cell_type": "markdown",
   "metadata": {},
   "source": [
    "### Tuners"
   ]
  },
  {
   "cell_type": "markdown",
   "metadata": {},
   "source": [
    "Lambda Tuner"
   ]
  },
  {
   "cell_type": "code",
   "execution_count": 128,
   "metadata": {},
   "outputs": [
    {
     "name": "stdout",
     "output_type": "stream",
     "text": [
      "Reloading Tuner from ./lambda_tuning/tuner0.json\n"
     ]
    }
   ],
   "source": [
    "# Initialize the l2 tuner\n",
    "lambda_tuner = kt.RandomSearch(\n",
    "    build_model_VGG_reg,\n",
    "    objective='val_loss',\n",
    "    max_trials=3,\n",
    "    project_name='lambda_tuning')"
   ]
  },
  {
   "cell_type": "markdown",
   "metadata": {},
   "source": [
    "Dropout Tuner"
   ]
  },
  {
   "cell_type": "code",
   "execution_count": null,
   "metadata": {},
   "outputs": [],
   "source": [
    "# Initialize the droput tuner\n",
    "dropout_tuner = kt.RandomSearch(\n",
    "    build_model_VGG_dropout,\n",
    "    objective='val_loss',\n",
    "    max_trials=5,\n",
    "    project_name='dropout_tuning')"
   ]
  },
  {
   "cell_type": "markdown",
   "metadata": {},
   "source": [
    "Baseline Model"
   ]
  },
  {
   "cell_type": "code",
   "execution_count": 29,
   "metadata": {},
   "outputs": [],
   "source": [
    "# Add your baseline model here"
   ]
  },
  {
   "cell_type": "markdown",
   "metadata": {},
   "source": [
    "Convolutional Neural Network (CNN)"
   ]
  },
  {
   "cell_type": "code",
   "execution_count": 31,
   "metadata": {},
   "outputs": [],
   "source": [
    "def compile_model(model, optimiser='sgd', loss='categorical_crossentropy', metrics=['categorical_accuracy']):\n",
    "    model.compile(optimizer=optimiser, loss=loss, metrics=metrics)\n",
    "    return model"
   ]
  },
  {
   "cell_type": "code",
   "execution_count": 32,
   "metadata": {},
   "outputs": [],
   "source": [
    "def train_model(model, train_generator, val_generator, epochs=50, class_weights=None):\n",
    "    history = model.fit(train_generator, validation_data=val_generator, epochs=epochs, class_weight=class_weights, verbose=0)\n",
    "    return history"
   ]
  },
  {
   "cell_type": "code",
   "execution_count": 34,
   "metadata": {},
   "outputs": [],
   "source": [
    "def pipeline(train, val, metric_label, optimiser, activation, epoch, class_weights):\n",
    "    model = build_model_VGG(input_shape=INPUT_DIM, output_classes=OUTPUT_CLASSES_SHAPE, activation=activation)\n",
    "    model = compile_model(model, optimiser=optimiser, loss=LOSS_METRIC, metrics=[METRIC])\n",
    "    history = train_model(model, train, val, epochs=epoch, class_weights=class_weights)\n",
    "    plot_performance(history=history, metric_label=metric_label)\n",
    "    return model\n"
   ]
  },
  {
   "cell_type": "markdown",
   "metadata": {},
   "source": [
    "VGG with Adam Optimiser"
   ]
  },
  {
   "cell_type": "code",
   "execution_count": null,
   "metadata": {},
   "outputs": [],
   "source": [
    "model_VGG_base_adam_shape = pipeline(shape_train_generator, \n",
    "                          shape_val_generator, \n",
    "                          metric_label='PR',\n",
    "                          optimiser='adam',\n",
    "                          activation='relu',\n",
    "                          epoch=100,\n",
    "                          class_weights=None)"
   ]
  },
  {
   "cell_type": "markdown",
   "metadata": {},
   "source": [
    "VGG with SGD Optimiser"
   ]
  },
  {
   "cell_type": "code",
   "execution_count": null,
   "metadata": {},
   "outputs": [],
   "source": [
    "model_VGG_base_SGD_shape = pipeline(shape_train_generator, \n",
    "                          shape_val_generator, \n",
    "                          metric_label='PR',\n",
    "                          optimiser='sgd',\n",
    "                          activation='relu',\n",
    "                          epoch=100,\n",
    "                          class_weights=None)"
   ]
  },
  {
   "cell_type": "code",
   "execution_count": 87,
   "metadata": {},
   "outputs": [],
   "source": [
    "model_VGG_base_SGD_shape.save('models/shape/model_VGG_base_SGD_shape.keras')"
   ]
  },
  {
   "cell_type": "markdown",
   "metadata": {},
   "source": [
    "Class Re-Weighting"
   ]
  },
  {
   "cell_type": "markdown",
   "metadata": {},
   "source": [
    "VGG with Class Re-Weighting"
   ]
  },
  {
   "cell_type": "code",
   "execution_count": null,
   "metadata": {},
   "outputs": [],
   "source": [
    "model_VGG_base_SGD_shape_reweighted = pipeline(shape_train_generator, \n",
    "                          shape_val_generator, \n",
    "                          metric_label='PR',\n",
    "                          optimiser='sgd',\n",
    "                          activation='relu',\n",
    "                          epoch=100,\n",
    "                          class_weights=shape_weights)"
   ]
  },
  {
   "cell_type": "code",
   "execution_count": 86,
   "metadata": {},
   "outputs": [],
   "source": [
    "model_VGG_base_SGD_shape_reweighted.save('models/shape/model_VGG_base_SGD_shape_reweighted.keras')"
   ]
  },
  {
   "cell_type": "markdown",
   "metadata": {},
   "source": [
    "L2 Regularisation"
   ]
  },
  {
   "cell_type": "code",
   "execution_count": null,
   "metadata": {},
   "outputs": [],
   "source": [
    "best_model_l2_shape = tune_model(lambda_tuner, shape_train_generator, shape_val_generator, shape_weights, 100, 'lambda')"
   ]
  },
  {
   "cell_type": "code",
   "execution_count": 85,
   "metadata": {},
   "outputs": [],
   "source": [
    "best_model_l2_shape.save('models/shape/best_model_l2_shape.keras')"
   ]
  },
  {
   "cell_type": "markdown",
   "metadata": {},
   "source": [
    "Dropout Regularisation"
   ]
  },
  {
   "cell_type": "code",
   "execution_count": null,
   "metadata": {},
   "outputs": [],
   "source": [
    "best_model_droput_shape = tune_model(dropout_tuner, shape_train_generator, shape_val_generator, shape_weights, 100, 'dropout_rate')"
   ]
  },
  {
   "cell_type": "code",
   "execution_count": 88,
   "metadata": {},
   "outputs": [],
   "source": [
    "best_model_droput_shape.save('models/shape/best_model_droput_shape.keras')"
   ]
  },
  {
   "cell_type": "markdown",
   "metadata": {},
   "source": [
    "Augmented Data"
   ]
  },
  {
   "cell_type": "code",
   "execution_count": null,
   "metadata": {},
   "outputs": [],
   "source": [
    "model_VGG_base_SGD_shape_aug = pipeline(shape_aug_train_generator, \n",
    "                          shape_val_generator, \n",
    "                          metric_label='PR',\n",
    "                          optimiser='sgd',\n",
    "                          activation='relu',\n",
    "                          epoch=100,\n",
    "                          class_weights=None)"
   ]
  },
  {
   "cell_type": "code",
   "execution_count": 89,
   "metadata": {},
   "outputs": [],
   "source": [
    "model_VGG_base_SGD_shape_aug.save('models/shape/model_VGG_base_SGD_shape_aug.keras')"
   ]
  },
  {
   "cell_type": "markdown",
   "metadata": {},
   "source": [
    "Regularisation"
   ]
  },
  {
   "cell_type": "code",
   "execution_count": null,
   "metadata": {},
   "outputs": [],
   "source": [
    "best_model_l2_shape_aug = tune_model(lambda_tuner, shape_aug_train_generator, shape_val_generator, shape_weights, 100, 'lambda')"
   ]
  },
  {
   "cell_type": "code",
   "execution_count": 90,
   "metadata": {},
   "outputs": [],
   "source": [
    "best_model_l2_shape_aug.save('models/shape/best_model_l2_shape_aug.keras')"
   ]
  },
  {
   "cell_type": "markdown",
   "metadata": {},
   "source": [
    "Dropout"
   ]
  },
  {
   "cell_type": "code",
   "execution_count": null,
   "metadata": {},
   "outputs": [],
   "source": [
    "best_model_dropout_shape_aug = tune_model(dropout_tuner, shape_aug_train_generator, shape_val_generator, shape_weights, 100, 'dropout_rate')"
   ]
  },
  {
   "cell_type": "code",
   "execution_count": null,
   "metadata": {},
   "outputs": [],
   "source": [
    "best_model_dropout_shape_aug.save('models/shape/best_model_droput_shape_aug.keras')"
   ]
  },
  {
   "cell_type": "markdown",
   "metadata": {},
   "source": [
    "Type"
   ]
  },
  {
   "cell_type": "markdown",
   "metadata": {},
   "source": [
    "Base SGD Optimiser"
   ]
  },
  {
   "cell_type": "code",
   "execution_count": null,
   "metadata": {},
   "outputs": [],
   "source": [
    "model_VGG_base_SGD_type = pipeline(type_train_generator, \n",
    "                          type_val_generator, \n",
    "                          metric_label='PR',\n",
    "                          optimiser='sgd',\n",
    "                          activation='relu',\n",
    "                          epoch=100,\n",
    "                          class_weights=None)"
   ]
  },
  {
   "cell_type": "code",
   "execution_count": null,
   "metadata": {},
   "outputs": [],
   "source": [
    "model_VGG_base_SGD_type.save('models/type/model_VGG_base_SGD_type.keras')"
   ]
  },
  {
   "cell_type": "markdown",
   "metadata": {},
   "source": [
    "Reweighted SGD Optimiser"
   ]
  },
  {
   "cell_type": "code",
   "execution_count": null,
   "metadata": {},
   "outputs": [],
   "source": [
    "model_VGG_base_SGD_type_reweighted = pipeline(type_train_generator, \n",
    "                          type_val_generator, \n",
    "                          metric_label='PR',\n",
    "                          optimiser='sgd',\n",
    "                          activation='relu',\n",
    "                          epoch=100,\n",
    "                          class_weights=type_weights)"
   ]
  },
  {
   "cell_type": "code",
   "execution_count": null,
   "metadata": {},
   "outputs": [],
   "source": [
    "model_VGG_base_SGD_type_reweighted.save('models/type/model_VGG_base_SGD_type_reweighted.keras')"
   ]
  },
  {
   "cell_type": "markdown",
   "metadata": {},
   "source": [
    "L2 Regularisation"
   ]
  },
  {
   "cell_type": "code",
   "execution_count": null,
   "metadata": {},
   "outputs": [],
   "source": [
    "best_model_l2_type = tune_model(lambda_tuner, type_train_generator, type_val_generator, type_weights, 100, 'lambda')"
   ]
  },
  {
   "cell_type": "code",
   "execution_count": null,
   "metadata": {},
   "outputs": [],
   "source": [
    "best_model_l2_type.save('models/type/best_model_l2_type.keras')"
   ]
  },
  {
   "cell_type": "markdown",
   "metadata": {},
   "source": [
    "Dropout Regularisation"
   ]
  },
  {
   "cell_type": "code",
   "execution_count": null,
   "metadata": {},
   "outputs": [],
   "source": [
    "best_model_droput_type = tune_model(dropout_tuner, type_train_generator, type_val_generator, type_weights, 100, 'dropout_rate')"
   ]
  },
  {
   "cell_type": "code",
   "execution_count": null,
   "metadata": {},
   "outputs": [],
   "source": [
    "best_model_droput_type.save('models/type/best_model_droput_type.keras')"
   ]
  },
  {
   "cell_type": "markdown",
   "metadata": {},
   "source": [
    "Augmented Data"
   ]
  },
  {
   "cell_type": "code",
   "execution_count": null,
   "metadata": {},
   "outputs": [],
   "source": [
    "model_VGG_base_SGD_type_aug = pipeline(type_aug_train_generator, \n",
    "                          type_val_generator, \n",
    "                          metric_label='PR',\n",
    "                          optimiser='sgd',\n",
    "                          activation='relu',\n",
    "                          epoch=100,\n",
    "                          class_weights=None)"
   ]
  },
  {
   "cell_type": "code",
   "execution_count": null,
   "metadata": {},
   "outputs": [],
   "source": [
    "model_VGG_base_SGD_type_aug.save('models/type/model_VGG_base_SGD_type_aug.keras')"
   ]
  },
  {
   "cell_type": "markdown",
   "metadata": {},
   "source": [
    "L2 Regularisation"
   ]
  },
  {
   "cell_type": "code",
   "execution_count": null,
   "metadata": {},
   "outputs": [],
   "source": [
    "best_model_l2_type_aug = tune_model(lambda_tuner, type_aug_train_generator, type_val_generator, type_weights, 100, 'lambda')"
   ]
  },
  {
   "cell_type": "code",
   "execution_count": null,
   "metadata": {},
   "outputs": [],
   "source": [
    "best_model_l2_type_aug.save('models/type/best_model_l2_type_aug.keras')"
   ]
  },
  {
   "cell_type": "markdown",
   "metadata": {},
   "source": [
    "Dropout Regularisation"
   ]
  },
  {
   "cell_type": "code",
   "execution_count": null,
   "metadata": {},
   "outputs": [],
   "source": [
    "best_model_droput_type_aug = tune_model(dropout_tuner, type_aug_train_generator, type_val_generator, type_weights, 100, 'dropout_rate')"
   ]
  },
  {
   "cell_type": "code",
   "execution_count": null,
   "metadata": {},
   "outputs": [],
   "source": [
    "best_model_droput_type_aug.save('models/type/best_model_droput_type_aug.keras')"
   ]
  },
  {
   "cell_type": "markdown",
   "metadata": {},
   "source": [
    "### Testing"
   ]
  },
  {
   "cell_type": "markdown",
   "metadata": {},
   "source": []
  }
 ],
 "metadata": {
  "kernelspec": {
   "display_name": "base",
   "language": "python",
   "name": "python3"
  },
  "language_info": {
   "codemirror_mode": {
    "name": "ipython",
    "version": 3
   },
   "file_extension": ".py",
   "mimetype": "text/x-python",
   "name": "python",
   "nbconvert_exporter": "python",
   "pygments_lexer": "ipython3",
   "version": "3.11.7"
  }
 },
 "nbformat": 4,
 "nbformat_minor": 2
}
