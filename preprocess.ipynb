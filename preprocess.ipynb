{
 "cells": [
  {
   "cell_type": "markdown",
   "metadata": {},
   "source": [
    "# Traffic Sign Detection"
   ]
  },
  {
   "cell_type": "markdown",
   "metadata": {},
   "source": [
    "Data folders have been manually cleaned to remove any residual files (.DSStore) that are not images. Manual cleaning was done as part of visual inspection of the data folders and since not many such files were present, it was easier to manually dlete them. The data is now ready to be used for training."
   ]
  },
  {
   "cell_type": "markdown",
   "metadata": {},
   "source": [
    "#### Import libraries"
   ]
  },
  {
   "cell_type": "code",
   "execution_count": 113,
   "metadata": {},
   "outputs": [],
   "source": [
    "# import libraries\n",
    "import os\n",
    "import pandas as pd\n",
    "import matplotlib.pyplot as plt\n",
    "import seaborn as sns\n",
    "import numpy as np\n",
    "from PIL import Image"
   ]
  },
  {
   "cell_type": "markdown",
   "metadata": {},
   "source": [
    "#### Declare lists to build the dataset"
   ]
  },
  {
   "cell_type": "code",
   "execution_count": 114,
   "metadata": {},
   "outputs": [],
   "source": [
    "path_to_dataset = 'Dataset/trafficsigns_dataset'\n",
    "image_path = []\n",
    "sign_shape = []\n",
    "sign_type = []"
   ]
  },
  {
   "cell_type": "markdown",
   "metadata": {},
   "source": [
    "#### Recursively fetch the image paths, type and shape from the folders"
   ]
  },
  {
   "cell_type": "code",
   "execution_count": 115,
   "metadata": {},
   "outputs": [],
   "source": [
    "# Traverse the folder tree and get the image paths, type and shape\n",
    "for shape_folder in os.listdir(path_to_dataset):\n",
    "    shape_path = os.path.join(path_to_dataset, shape_folder)\n",
    "    if os.path.isdir(shape_path):\n",
    "        # get the parent shape folders\n",
    "        for type_folder in os.listdir(shape_path):\n",
    "            sign_path = os.path.join(shape_path, type_folder)\n",
    "            if os.path.isdir(sign_path):\n",
    "                # get the type folders\n",
    "                for image_file in os.listdir(sign_path):\n",
    "                    # save the image paths, type and shape\n",
    "                    image_path.append(os.path.join(sign_path, image_file))\n",
    "                    sign_shape.append(shape_folder)\n",
    "                    sign_type.append(type_folder)\n"
   ]
  },
  {
   "cell_type": "markdown",
   "metadata": {},
   "source": [
    "#### Build the dataframe"
   ]
  },
  {
   "cell_type": "code",
   "execution_count": 116,
   "metadata": {},
   "outputs": [
    {
     "data": {
      "text/html": [
       "<div>\n",
       "<style scoped>\n",
       "    .dataframe tbody tr th:only-of-type {\n",
       "        vertical-align: middle;\n",
       "    }\n",
       "\n",
       "    .dataframe tbody tr th {\n",
       "        vertical-align: top;\n",
       "    }\n",
       "\n",
       "    .dataframe thead th {\n",
       "        text-align: right;\n",
       "    }\n",
       "</style>\n",
       "<table border=\"1\" class=\"dataframe\">\n",
       "  <thead>\n",
       "    <tr style=\"text-align: right;\">\n",
       "      <th></th>\n",
       "      <th>Path</th>\n",
       "      <th>Shape</th>\n",
       "      <th>Type</th>\n",
       "    </tr>\n",
       "  </thead>\n",
       "  <tbody>\n",
       "    <tr>\n",
       "      <th>0</th>\n",
       "      <td>Dataset/trafficsigns_dataset/diamond/rightofwa...</td>\n",
       "      <td>diamond</td>\n",
       "      <td>rightofway</td>\n",
       "    </tr>\n",
       "    <tr>\n",
       "      <th>1</th>\n",
       "      <td>Dataset/trafficsigns_dataset/diamond/rightofwa...</td>\n",
       "      <td>diamond</td>\n",
       "      <td>rightofway</td>\n",
       "    </tr>\n",
       "    <tr>\n",
       "      <th>2</th>\n",
       "      <td>Dataset/trafficsigns_dataset/diamond/rightofwa...</td>\n",
       "      <td>diamond</td>\n",
       "      <td>rightofway</td>\n",
       "    </tr>\n",
       "    <tr>\n",
       "      <th>3</th>\n",
       "      <td>Dataset/trafficsigns_dataset/diamond/rightofwa...</td>\n",
       "      <td>diamond</td>\n",
       "      <td>rightofway</td>\n",
       "    </tr>\n",
       "    <tr>\n",
       "      <th>4</th>\n",
       "      <td>Dataset/trafficsigns_dataset/diamond/rightofwa...</td>\n",
       "      <td>diamond</td>\n",
       "      <td>rightofway</td>\n",
       "    </tr>\n",
       "  </tbody>\n",
       "</table>\n",
       "</div>"
      ],
      "text/plain": [
       "                                                Path    Shape        Type\n",
       "0  Dataset/trafficsigns_dataset/diamond/rightofwa...  diamond  rightofway\n",
       "1  Dataset/trafficsigns_dataset/diamond/rightofwa...  diamond  rightofway\n",
       "2  Dataset/trafficsigns_dataset/diamond/rightofwa...  diamond  rightofway\n",
       "3  Dataset/trafficsigns_dataset/diamond/rightofwa...  diamond  rightofway\n",
       "4  Dataset/trafficsigns_dataset/diamond/rightofwa...  diamond  rightofway"
      ]
     },
     "execution_count": 116,
     "metadata": {},
     "output_type": "execute_result"
    }
   ],
   "source": [
    "# Create a DataFrame from the data\n",
    "data = {'Path': image_path, 'Shape': sign_shape, 'Type': sign_type}\n",
    "df = pd.DataFrame(data)\n",
    "df.head(5)"
   ]
  },
  {
   "cell_type": "markdown",
   "metadata": {},
   "source": [
    "#### Data Exploration"
   ]
  },
  {
   "cell_type": "code",
   "execution_count": 117,
   "metadata": {},
   "outputs": [
    {
     "name": "stdout",
     "output_type": "stream",
     "text": [
      "##########################\n",
      "Shape:  (3699, 3)\n",
      "##########################\n",
      "Missing Values:\n",
      "Path     0\n",
      "Shape    0\n",
      "Type     0\n",
      "dtype: int64\n",
      "##########################\n",
      "Data Types:\n",
      "Path     object\n",
      "Shape    object\n",
      "Type     object\n",
      "dtype: object\n",
      "##########################\n",
      "Unique Shapes:\n",
      "['diamond' 'hex' 'square' 'triangle' 'round']\n",
      "##########################\n",
      "Unique Signs:\n",
      "['rightofway' 'stop' 'laneend' 'parking' 'continue' 'crossing' 'giveway'\n",
      " 'warning' 'traveldirection' 'limitedtraffic' 'speed' 'roundabout'\n",
      " 'noentry' 'noparking' 'bicycle' 'trafficdirective']\n"
     ]
    }
   ],
   "source": [
    "# Print the information of the DataFrame\n",
    "print(\"##########################\")\n",
    "print(\"Shape: \", df.shape)\n",
    "print(\"##########################\")\n",
    "print(\"Missing Values:\")\n",
    "print(df.isna().sum())\n",
    "print(\"##########################\")\n",
    "print(\"Data Types:\")\n",
    "print(df.dtypes)\n",
    "print(\"##########################\")\n",
    "print(\"Unique Shapes:\")\n",
    "print(df['Shape'].unique())\n",
    "print(\"##########################\")\n",
    "print(\"Unique Signs:\")\n",
    "print(df['Type'].unique())"
   ]
  },
  {
   "cell_type": "code",
   "execution_count": 118,
   "metadata": {},
   "outputs": [
    {
     "name": "stdout",
     "output_type": "stream",
     "text": [
      "Shape Counts:\n",
      "Shape\n",
      "round       1760\n",
      "triangle     926\n",
      "square       688\n",
      "diamond      282\n",
      "hex           43\n",
      "Name: count, dtype: int64\n"
     ]
    }
   ],
   "source": [
    "# Count the number of each unique shape in the DataFrame\n",
    "shape_counts = df['Shape'].value_counts()\n",
    "print(\"Shape Counts:\")\n",
    "print(shape_counts)"
   ]
  },
  {
   "cell_type": "code",
   "execution_count": 119,
   "metadata": {},
   "outputs": [
    {
     "name": "stdout",
     "output_type": "stream",
     "text": [
      "Shape Counts:\n",
      "Type\n",
      "warning             695\n",
      "noentry             375\n",
      "speed               316\n",
      "bicycle             285\n",
      "rightofway          282\n",
      "parking             276\n",
      "noparking           242\n",
      "giveway             231\n",
      "continue            199\n",
      "trafficdirective    195\n",
      "limitedtraffic      125\n",
      "traveldirection     124\n",
      "laneend             118\n",
      "roundabout           98\n",
      "crossing             95\n",
      "stop                 43\n",
      "Name: count, dtype: int64\n"
     ]
    }
   ],
   "source": [
    "# Count the number of each unique type in the DataFrame\n",
    "shape_counts = df['Type'].value_counts()\n",
    "print(\"Shape Counts:\")\n",
    "print(shape_counts)"
   ]
  },
  {
   "cell_type": "code",
   "execution_count": 120,
   "metadata": {},
   "outputs": [
    {
     "data": {
      "image/png": "[encoded data removed]",
      "text/plain": [
       "<Figure size 2000x600 with 2 Axes>"
      ]
     },
     "metadata": {},
     "output_type": "display_data"
    }
   ],
   "source": [
    "# plot distribution of each class\n",
    "fig, axs = plt.subplots(1, 2, figsize=(20,6))\n",
    "\n",
    "# Plot distribution of each class within shape\n",
    "sns.countplot(data=df, x='Shape', ax=axs[0])\n",
    "axs[0].set_title('Distribution of Shapes')\n",
    "\n",
    "# Plot distribution of each class within type\n",
    "sns.countplot(data=df, y='Type', ax=axs[1])\n",
    "axs[1].set_title('Distribution of Types')\n",
    "\n",
    "plt.tight_layout()\n",
    "plt.show()\n"
   ]
  },
  {
   "cell_type": "markdown",
   "metadata": {},
   "source": [
    "##### TODO: There is Class imbalance. Need to handle this (Train test validation split)"
   ]
  },
  {
   "cell_type": "markdown",
   "metadata": {},
   "source": [
    "#### Check image dimensions"
   ]
  },
  {
   "cell_type": "code",
   "execution_count": 121,
   "metadata": {},
   "outputs": [
    {
     "name": "stdout",
     "output_type": "stream",
     "text": [
      "All images have dimensions 28x28\n"
     ]
    }
   ],
   "source": [
    "# Iterate through each image path in the DataFrame\n",
    "for index, row in df.iterrows():\n",
    "    image_path = row['Path']\n",
    "    flag = False\n",
    "\n",
    "    # Open the image using PIL\n",
    "    with Image.open(image_path) as img:\n",
    "        width, height = img.size\n",
    "        # Check if dimensions are not 28x28\n",
    "        if width != 28 or height != 28:\n",
    "            flag = True\n",
    "            print(f\"Image at path {image_path} has dimensions {width}x{height}\")\n",
    "\n",
    "if not flag:\n",
    "    print(\"All images have dimensions 28x28\")\n",
    "        "
   ]
  },
  {
   "cell_type": "markdown",
   "metadata": {},
   "source": [
    "### Data Preprocessing"
   ]
  },
  {
   "cell_type": "markdown",
   "metadata": {},
   "source": [
    "#### Normalise the pixel values between 0 and 1"
   ]
  },
  {
   "cell_type": "code",
   "execution_count": 122,
   "metadata": {},
   "outputs": [
    {
     "name": "stdout",
     "output_type": "stream",
     "text": [
      "                                                Path    Shape        Type  \\\n",
      "0  Dataset/trafficsigns_dataset/diamond/rightofwa...  diamond  rightofway   \n",
      "1  Dataset/trafficsigns_dataset/diamond/rightofwa...  diamond  rightofway   \n",
      "2  Dataset/trafficsigns_dataset/diamond/rightofwa...  diamond  rightofway   \n",
      "3  Dataset/trafficsigns_dataset/diamond/rightofwa...  diamond  rightofway   \n",
      "4  Dataset/trafficsigns_dataset/diamond/rightofwa...  diamond  rightofway   \n",
      "\n",
      "                                    Normalized_Image  \n",
      "0  [[0.25882352941176473, 0.2627450980392157, 0.2...  \n",
      "1  [[0.22745098039215686, 0.23921568627450981, 0....  \n",
      "2  [[0.39215686274509803, 0.4, 0.3921568627450980...  \n",
      "3  [[0.4588235294117647, 0.5215686274509804, 0.53...  \n",
      "4  [[0.24705882352941178, 0.2901960784313726, 0.2...  \n"
     ]
    }
   ],
   "source": [
    "# Function to normalize pixel values of an image\n",
    "def normalize_image(image_path):\n",
    "    # Open the image using PIL\n",
    "    with Image.open(image_path) as img:\n",
    "        # Convert image to numpy array\n",
    "        img_array = np.array(img)\n",
    "        # Normalize pixel values\n",
    "        normalized_img = img_array / 255.0\n",
    "        return normalized_img\n",
    "\n",
    "# Normalize pixel values for each image and replace the original image data in the DataFrame\n",
    "df['Normalized_Image'] = df['Path'].apply(normalize_image)\n",
    "\n",
    "# Display the DataFrame with normalized images\n",
    "print(df.head())"
   ]
  },
  {
   "cell_type": "code",
   "execution_count": 123,
   "metadata": {},
   "outputs": [
    {
     "data": {
      "text/html": [
       "<div>\n",
       "<style scoped>\n",
       "    .dataframe tbody tr th:only-of-type {\n",
       "        vertical-align: middle;\n",
       "    }\n",
       "\n",
       "    .dataframe tbody tr th {\n",
       "        vertical-align: top;\n",
       "    }\n",
       "\n",
       "    .dataframe thead th {\n",
       "        text-align: right;\n",
       "    }\n",
       "</style>\n",
       "<table border=\"1\" class=\"dataframe\">\n",
       "  <thead>\n",
       "    <tr style=\"text-align: right;\">\n",
       "      <th></th>\n",
       "      <th>Shape</th>\n",
       "      <th>Type</th>\n",
       "      <th>Normalized_Image</th>\n",
       "    </tr>\n",
       "  </thead>\n",
       "  <tbody>\n",
       "    <tr>\n",
       "      <th>0</th>\n",
       "      <td>diamond</td>\n",
       "      <td>rightofway</td>\n",
       "      <td>[[0.25882352941176473, 0.2627450980392157, 0.2...</td>\n",
       "    </tr>\n",
       "    <tr>\n",
       "      <th>1</th>\n",
       "      <td>diamond</td>\n",
       "      <td>rightofway</td>\n",
       "      <td>[[0.22745098039215686, 0.23921568627450981, 0....</td>\n",
       "    </tr>\n",
       "  </tbody>\n",
       "</table>\n",
       "</div>"
      ],
      "text/plain": [
       "     Shape        Type                                   Normalized_Image\n",
       "0  diamond  rightofway  [[0.25882352941176473, 0.2627450980392157, 0.2...\n",
       "1  diamond  rightofway  [[0.22745098039215686, 0.23921568627450981, 0...."
      ]
     },
     "execution_count": 123,
     "metadata": {},
     "output_type": "execute_result"
    }
   ],
   "source": [
    "# drop the path column\n",
    "df = df.drop('Path', axis=1)\n",
    "df.head(2)"
   ]
  },
  {
   "cell_type": "markdown",
   "metadata": {},
   "source": [
    "#### Split the dataframe for classification on shape and type"
   ]
  },
  {
   "cell_type": "code",
   "execution_count": 124,
   "metadata": {},
   "outputs": [],
   "source": [
    "# Split dataframe with \"Shape\" as target column\n",
    "df_shape = df.drop('Type', axis=1)\n",
    "\n",
    "# Split dataframe with \"Type\" as target column\n",
    "df_type = df.drop('Shape', axis=1)"
   ]
  },
  {
   "cell_type": "code",
   "execution_count": 125,
   "metadata": {},
   "outputs": [
    {
     "data": {
      "text/html": [
       "<div>\n",
       "<style scoped>\n",
       "    .dataframe tbody tr th:only-of-type {\n",
       "        vertical-align: middle;\n",
       "    }\n",
       "\n",
       "    .dataframe tbody tr th {\n",
       "        vertical-align: top;\n",
       "    }\n",
       "\n",
       "    .dataframe thead th {\n",
       "        text-align: right;\n",
       "    }\n",
       "</style>\n",
       "<table border=\"1\" class=\"dataframe\">\n",
       "  <thead>\n",
       "    <tr style=\"text-align: right;\">\n",
       "      <th></th>\n",
       "      <th>Shape</th>\n",
       "      <th>Normalized_Image</th>\n",
       "    </tr>\n",
       "  </thead>\n",
       "  <tbody>\n",
       "    <tr>\n",
       "      <th>0</th>\n",
       "      <td>diamond</td>\n",
       "      <td>[[0.25882352941176473, 0.2627450980392157, 0.2...</td>\n",
       "    </tr>\n",
       "    <tr>\n",
       "      <th>1</th>\n",
       "      <td>diamond</td>\n",
       "      <td>[[0.22745098039215686, 0.23921568627450981, 0....</td>\n",
       "    </tr>\n",
       "    <tr>\n",
       "      <th>2</th>\n",
       "      <td>diamond</td>\n",
       "      <td>[[0.39215686274509803, 0.4, 0.3921568627450980...</td>\n",
       "    </tr>\n",
       "    <tr>\n",
       "      <th>3</th>\n",
       "      <td>diamond</td>\n",
       "      <td>[[0.4588235294117647, 0.5215686274509804, 0.53...</td>\n",
       "    </tr>\n",
       "    <tr>\n",
       "      <th>4</th>\n",
       "      <td>diamond</td>\n",
       "      <td>[[0.24705882352941178, 0.2901960784313726, 0.2...</td>\n",
       "    </tr>\n",
       "  </tbody>\n",
       "</table>\n",
       "</div>"
      ],
      "text/plain": [
       "     Shape                                   Normalized_Image\n",
       "0  diamond  [[0.25882352941176473, 0.2627450980392157, 0.2...\n",
       "1  diamond  [[0.22745098039215686, 0.23921568627450981, 0....\n",
       "2  diamond  [[0.39215686274509803, 0.4, 0.3921568627450980...\n",
       "3  diamond  [[0.4588235294117647, 0.5215686274509804, 0.53...\n",
       "4  diamond  [[0.24705882352941178, 0.2901960784313726, 0.2..."
      ]
     },
     "execution_count": 125,
     "metadata": {},
     "output_type": "execute_result"
    }
   ],
   "source": [
    "df_shape.head(5)"
   ]
  },
  {
   "cell_type": "code",
   "execution_count": 126,
   "metadata": {},
   "outputs": [
    {
     "data": {
      "text/html": [
       "<div>\n",
       "<style scoped>\n",
       "    .dataframe tbody tr th:only-of-type {\n",
       "        vertical-align: middle;\n",
       "    }\n",
       "\n",
       "    .dataframe tbody tr th {\n",
       "        vertical-align: top;\n",
       "    }\n",
       "\n",
       "    .dataframe thead th {\n",
       "        text-align: right;\n",
       "    }\n",
       "</style>\n",
       "<table border=\"1\" class=\"dataframe\">\n",
       "  <thead>\n",
       "    <tr style=\"text-align: right;\">\n",
       "      <th></th>\n",
       "      <th>Type</th>\n",
       "      <th>Normalized_Image</th>\n",
       "    </tr>\n",
       "  </thead>\n",
       "  <tbody>\n",
       "    <tr>\n",
       "      <th>0</th>\n",
       "      <td>rightofway</td>\n",
       "      <td>[[0.25882352941176473, 0.2627450980392157, 0.2...</td>\n",
       "    </tr>\n",
       "    <tr>\n",
       "      <th>1</th>\n",
       "      <td>rightofway</td>\n",
       "      <td>[[0.22745098039215686, 0.23921568627450981, 0....</td>\n",
       "    </tr>\n",
       "    <tr>\n",
       "      <th>2</th>\n",
       "      <td>rightofway</td>\n",
       "      <td>[[0.39215686274509803, 0.4, 0.3921568627450980...</td>\n",
       "    </tr>\n",
       "    <tr>\n",
       "      <th>3</th>\n",
       "      <td>rightofway</td>\n",
       "      <td>[[0.4588235294117647, 0.5215686274509804, 0.53...</td>\n",
       "    </tr>\n",
       "    <tr>\n",
       "      <th>4</th>\n",
       "      <td>rightofway</td>\n",
       "      <td>[[0.24705882352941178, 0.2901960784313726, 0.2...</td>\n",
       "    </tr>\n",
       "  </tbody>\n",
       "</table>\n",
       "</div>"
      ],
      "text/plain": [
       "         Type                                   Normalized_Image\n",
       "0  rightofway  [[0.25882352941176473, 0.2627450980392157, 0.2...\n",
       "1  rightofway  [[0.22745098039215686, 0.23921568627450981, 0....\n",
       "2  rightofway  [[0.39215686274509803, 0.4, 0.3921568627450980...\n",
       "3  rightofway  [[0.4588235294117647, 0.5215686274509804, 0.53...\n",
       "4  rightofway  [[0.24705882352941178, 0.2901960784313726, 0.2..."
      ]
     },
     "execution_count": 126,
     "metadata": {},
     "output_type": "execute_result"
    }
   ],
   "source": [
    "df_type.head(5)"
   ]
  },
  {
   "cell_type": "code",
   "execution_count": 127,
   "metadata": {},
   "outputs": [
    {
     "data": {
      "text/plain": [
       "Type\n",
       "15    695\n",
       "6     375\n",
       "11    316\n",
       "0     285\n",
       "9     282\n",
       "8     276\n",
       "7     242\n",
       "3     231\n",
       "1     199\n",
       "13    195\n",
       "5     125\n",
       "14    124\n",
       "4     118\n",
       "10     98\n",
       "2      95\n",
       "12     43\n",
       "Name: count, dtype: int64"
      ]
     },
     "execution_count": 127,
     "metadata": {},
     "output_type": "execute_result"
    }
   ],
   "source": [
    "# label encode the 'Shape' column\n",
    "from sklearn.preprocessing import LabelEncoder\n",
    "\n",
    "# Create a label encoder object\n",
    "le = LabelEncoder()\n",
    "\n",
    "# Fit the encoder to the 'Shape' column and transform it\n",
    "# Round -> 2\n",
    "# Square -> 3\n",
    "# Hex -> 1\n",
    "# Diamond -> 0\n",
    "# Triangle -> 4\n",
    "df_shape['Shape'] = le.fit_transform(df_shape['Shape'])\n",
    "\n",
    "# Do the same for the 'Type' column\n",
    "# warning -> 15        \n",
    "# noentry -> 6            \n",
    "# speed   -> 11            \n",
    "# bicycle -> 0            \n",
    "# rightofway -> 9         \n",
    "# parking    -> 8         \n",
    "# noparking  -> 7         \n",
    "# giveway    -> 3         \n",
    "# continue   -> 1         \n",
    "# trafficdirective -> 13   \n",
    "# limitedtraffic   -> 5   \n",
    "# traveldirection  -> 14   \n",
    "# laneend          -> 4   \n",
    "# roundabout       -> 10   \n",
    "# crossing         -> 2   \n",
    "# stop             -> 12   \n",
    "df_type['Type'] = le.fit_transform(df_type['Type'])\n",
    "df_type['Type'].value_counts()"
   ]
  },
  {
   "cell_type": "markdown",
   "metadata": {},
   "source": [
    "#### One Hot Encode the classes"
   ]
  },
  {
   "cell_type": "code",
   "execution_count": 128,
   "metadata": {},
   "outputs": [],
   "source": [
    "# # One-hot encode the 'Shape' column\n",
    "# shape_encoded = pd.get_dummies(df_shape['Shape'], prefix='Shape')\n",
    "\n",
    "# # One-hot encode the 'Sign' column\n",
    "# sign_encoded = pd.get_dummies(df_type['Type'], prefix='Type')\n",
    "\n",
    "# # Concatenate the encoded columns with the original DataFrame\n",
    "# df_shape_encoded = pd.concat([df_shape, shape_encoded], axis=1)\n",
    "\n",
    "# # Concatenate the encoded columns with the original DataFrame\n",
    "# df_type_encoded = pd.concat([df_type, sign_encoded], axis=1)\n",
    "\n",
    "# # Drop the original 'Shape' and 'Sign' columns\n",
    "# df_shape_encoded.drop(['Shape'], axis=1, inplace=True)\n",
    "# df_type_encoded.drop(['Type'], axis=1, inplace=True)"
   ]
  },
  {
   "cell_type": "code",
   "execution_count": 129,
   "metadata": {},
   "outputs": [
    {
     "name": "stdout",
     "output_type": "stream",
     "text": [
      "################################# Encoded Shape dataframe #################################\n",
      "\n",
      "   Shape                                   Normalized_Image\n",
      "0      0  [[0.25882352941176473, 0.2627450980392157, 0.2...\n",
      "1      0  [[0.22745098039215686, 0.23921568627450981, 0....\n",
      "2      0  [[0.39215686274509803, 0.4, 0.3921568627450980...\n",
      "3      0  [[0.4588235294117647, 0.5215686274509804, 0.53...\n",
      "4      0  [[0.24705882352941178, 0.2901960784313726, 0.2... \n",
      "\n",
      "################################# Encoded Type dataframe #################################\n",
      "\n",
      "   Type                                   Normalized_Image\n",
      "0     9  [[0.25882352941176473, 0.2627450980392157, 0.2...\n",
      "1     9  [[0.22745098039215686, 0.23921568627450981, 0....\n",
      "2     9  [[0.39215686274509803, 0.4, 0.3921568627450980...\n",
      "3     9  [[0.4588235294117647, 0.5215686274509804, 0.53...\n",
      "4     9  [[0.24705882352941178, 0.2901960784313726, 0.2... \n",
      "\n"
     ]
    }
   ],
   "source": [
    "print('################################# Encoded Shape dataframe #################################\\n')\n",
    "print(df_shape.head(5), '\\n')\n",
    "print('################################# Encoded Type dataframe #################################\\n')\n",
    "print(df_type.head(5), '\\n')"
   ]
  },
  {
   "cell_type": "code",
   "execution_count": 130,
   "metadata": {},
   "outputs": [],
   "source": [
    "# # Convert the boolean encoding to integer\n",
    "# def bool_to_int(df_encoded) -> pd.DataFrame:\n",
    "#     \"\"\"Convert boolean encoding to integer encoding\"\"\"\n",
    "#     for col in df_encoded.columns:\n",
    "#         if df_encoded[col].dtype == bool:\n",
    "#             df_encoded[col] = df_encoded[col].astype(int)\n",
    "#     return df_encoded"
   ]
  },
  {
   "cell_type": "code",
   "execution_count": 131,
   "metadata": {},
   "outputs": [],
   "source": [
    "# # Convert boolean encoding to integer encoding\n",
    "# df_shape_encoded = bool_to_int(df_shape_encoded)\n",
    "# df_type_encoded = bool_to_int(df_type_encoded)"
   ]
  },
  {
   "cell_type": "code",
   "execution_count": 132,
   "metadata": {},
   "outputs": [],
   "source": [
    "# # Display the DataFrame\n",
    "# print('################################# Encoded Shape dataframe #################################\\n')\n",
    "# print(df_shape_encoded.head(5), '\\n')\n",
    "# print('################################# Encoded Type dataframe #################################\\n')\n",
    "# print(df_type_encoded.head(5), '\\n')"
   ]
  },
  {
   "cell_type": "code",
   "execution_count": 137,
   "metadata": {},
   "outputs": [
    {
     "name": "stdout",
     "output_type": "stream",
     "text": [
      "(3699, 2)\n",
      "(3699, 2)\n"
     ]
    }
   ],
   "source": [
    "# print the shape of the encoded dataframes to ensure they have the same number of rows after preprocessing\n",
    "print(df_shape.shape)\n",
    "print(df_type.shape)"
   ]
  },
  {
   "cell_type": "code",
   "execution_count": 134,
   "metadata": {},
   "outputs": [],
   "source": [
    "# save the preprocessed dataframes to csv files\n",
    "df_shape.to_csv('Dataset/trafficsigns_dataset/shape_preprocessed.csv', index=False)\n",
    "df_type.to_csv('Dataset/trafficsigns_dataset/type_preprocessed.csv', index=False)"
   ]
  }
 ],
 "metadata": {
  "kernelspec": {
   "display_name": "base",
   "language": "python",
   "name": "python3"
  },
  "language_info": {
   "codemirror_mode": {
    "name": "ipython",
    "version": 3
   },
   "file_extension": ".py",
   "mimetype": "text/x-python",
   "name": "python",
   "nbconvert_exporter": "python",
   "pygments_lexer": "ipython3",
   "version": "3.11.7"
  }
 },
 "nbformat": 4,
 "nbformat_minor": 2
}
